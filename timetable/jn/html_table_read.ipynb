{
 "cells": [
  {
   "cell_type": "code",
   "execution_count": 1,
   "metadata": {
    "ExecuteTime": {
     "end_time": "2019-02-26T05:32:04.758074Z",
     "start_time": "2019-02-26T05:32:00.016569Z"
    }
   },
   "outputs": [],
   "source": [
    "import re\n",
    "import os\n",
    "import sys\n",
    "import glob\n",
    "import pandas as pd\n",
    "import numpy as np\n",
    "import datetime\n",
    "# from HTMLParser import HTMLParser"
   ]
  },
  {
   "cell_type": "code",
   "execution_count": 7,
   "metadata": {
    "ExecuteTime": {
     "end_time": "2019-02-26T05:33:18.811063Z",
     "start_time": "2019-02-26T05:33:18.807071Z"
    }
   },
   "outputs": [],
   "source": [
    "file_list = glob.glob(os.getcwd()+\"/*.html\")"
   ]
  },
  {
   "cell_type": "code",
   "execution_count": 8,
   "metadata": {
    "ExecuteTime": {
     "end_time": "2019-02-26T05:33:19.354606Z",
     "start_time": "2019-02-26T05:33:19.349620Z"
    }
   },
   "outputs": [
    {
     "data": {
      "text/plain": [
       "['D:\\\\github_repository\\\\MyProject\\\\timetable\\\\jn\\\\108路12.5琥珀花园.html',\n",
       " 'D:\\\\github_repository\\\\MyProject\\\\timetable\\\\jn\\\\108路12.5龙福山庄.html',\n",
       " 'D:\\\\github_repository\\\\MyProject\\\\timetable\\\\jn\\\\1南堡公园.html',\n",
       " 'D:\\\\github_repository\\\\MyProject\\\\timetable\\\\jn\\\\1夫子庙总站.html',\n",
       " 'D:\\\\github_repository\\\\MyProject\\\\timetable\\\\jn\\\\2中华门地铁站.html',\n",
       " 'D:\\\\github_repository\\\\MyProject\\\\timetable\\\\jn\\\\2长途东站.html',\n",
       " 'D:\\\\github_repository\\\\MyProject\\\\timetable\\\\jn\\\\340定坊工业园.html',\n",
       " 'D:\\\\github_repository\\\\MyProject\\\\timetable\\\\jn\\\\3随家仓(右).html',\n",
       " 'D:\\\\github_repository\\\\MyProject\\\\timetable\\\\jn\\\\3随家仓(左).html',\n",
       " 'D:\\\\github_repository\\\\MyProject\\\\timetable\\\\jn\\\\4新街口西.html',\n",
       " 'D:\\\\github_repository\\\\MyProject\\\\timetable\\\\jn\\\\4银城东苑.html',\n",
       " 'D:\\\\github_repository\\\\MyProject\\\\timetable\\\\jn\\\\5南湾营.html',\n",
       " 'D:\\\\github_repository\\\\MyProject\\\\timetable\\\\jn\\\\5长江路·估衣廊.html',\n",
       " 'D:\\\\github_repository\\\\MyProject\\\\timetable\\\\jn\\\\6清凉山公园.html',\n",
       " 'D:\\\\github_repository\\\\MyProject\\\\timetable\\\\jn\\\\6高力家居港.html',\n",
       " 'D:\\\\github_repository\\\\MyProject\\\\timetable\\\\jn\\\\7宜悦街.html',\n",
       " 'D:\\\\github_repository\\\\MyProject\\\\timetable\\\\jn\\\\7瑞金路.html',\n",
       " 'D:\\\\github_repository\\\\MyProject\\\\timetable\\\\jn\\\\8傅佐路.html',\n",
       " 'D:\\\\github_repository\\\\MyProject\\\\timetable\\\\jn\\\\8燕子矶.html',\n",
       " 'D:\\\\github_repository\\\\MyProject\\\\timetable\\\\jn\\\\D12中山码头.html',\n",
       " 'D:\\\\github_repository\\\\MyProject\\\\timetable\\\\jn\\\\D12南京南站.html']"
      ]
     },
     "execution_count": 8,
     "metadata": {},
     "output_type": "execute_result"
    }
   ],
   "source": [
    "file_list"
   ]
  },
  {
   "cell_type": "code",
   "execution_count": 28,
   "metadata": {
    "ExecuteTime": {
     "end_time": "2019-02-26T05:48:15.494734Z",
     "start_time": "2019-02-26T05:48:14.277313Z"
    },
    "scrolled": true
   },
   "outputs": [],
   "source": [
    "temp = []\n",
    "for each_one in file_list:\n",
    "    \n",
    "    \n",
    "    data = pd.read_html(each_one,header=0)\n",
    "    \n",
    "    route_info = data[0].columns.values.tolist()[0]\n",
    "    stop_name = re.compile('总站名称：\\S+').findall(route_info)[0]\n",
    "    stop_name_1 = re.compile('：\\S+').findall(stop_name)\n",
    "    stop_name_str = re.compile('\\w+').findall(stop_name_1[0])[0]\n",
    "    route_ID = re.compile('线路：\\S+').findall(route_info)\n",
    "    route_ID_num = re.compile('\\w?\\d+').findall(route_ID[0])[0]\n",
    "    \n",
    "    depart_time = data[0].iloc[:,10]\n",
    "    index = index = pd.DatetimeIndex(depart_time[11:])\n",
    "    \n",
    "    temp_data = pd.Series([a for a in range(len(index))], index=index)\n",
    "    \n",
    "    time_1 = datetime.datetime.today().strftime('%Y-%m-%d')+' 07:00:00'\n",
    "    time_2 = datetime.datetime.today().strftime('%Y-%m-%d')+' 09:00:00'\n",
    "    \n",
    "    time_3 = datetime.datetime.today().strftime('%Y-%m-%d')+' 13:30:00'\n",
    "    time_4 = datetime.datetime.today().strftime('%Y-%m-%d')+' 15:30:00'\n",
    "    \n",
    "    time_5 = datetime.datetime.today().strftime('%Y-%m-%d')+' 17:00:00'\n",
    "    time_6 = datetime.datetime.today().strftime('%Y-%m-%d')+' 19:00:00'\n",
    "    \n",
    "    total_num = len(temp_data)\n",
    "    num_1 = len(temp_data[time_1:time_2])\n",
    "    num_2 = len(temp_data[time_3:time_4])\n",
    "    num_3 = len(temp_data[time_5:time_6])\n",
    "    \n",
    "    temp.append([route_ID_num, stop_name_str, total_num, num_1, num_2, num_3])\n",
    "    \n",
    "table = pd.DataFrame(temp, columns=['route_ID_num', 'stop_name_str', 'total_num', 'num_1', 'num_2', 'num_3'])\n",
    "\n",
    "table.to_csv('output.csv',encoding='utf_8_sig',index=False)"
   ]
  },
  {
   "cell_type": "code",
   "execution_count": null,
   "metadata": {},
   "outputs": [],
   "source": []
  }
 ],
 "metadata": {
  "kernelspec": {
   "display_name": "Python 3",
   "language": "python",
   "name": "python3"
  },
  "language_info": {
   "codemirror_mode": {
    "name": "ipython",
    "version": 3
   },
   "file_extension": ".py",
   "mimetype": "text/x-python",
   "name": "python",
   "nbconvert_exporter": "python",
   "pygments_lexer": "ipython3",
   "version": "3.7.1"
  },
  "varInspector": {
   "cols": {
    "lenName": 16,
    "lenType": 16,
    "lenVar": 40
   },
   "kernels_config": {
    "python": {
     "delete_cmd_postfix": "",
     "delete_cmd_prefix": "del ",
     "library": "var_list.py",
     "varRefreshCmd": "print(var_dic_list())"
    },
    "r": {
     "delete_cmd_postfix": ") ",
     "delete_cmd_prefix": "rm(",
     "library": "var_list.r",
     "varRefreshCmd": "cat(var_dic_list()) "
    }
   },
   "position": {
    "height": "550px",
    "left": "1618px",
    "right": "20px",
    "top": "120px",
    "width": "282px"
   },
   "types_to_exclude": [
    "module",
    "function",
    "builtin_function_or_method",
    "instance",
    "_Feature"
   ],
   "window_display": true
  }
 },
 "nbformat": 4,
 "nbformat_minor": 2
}
