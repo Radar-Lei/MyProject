{
 "cells": [
  {
   "cell_type": "code",
   "execution_count": 29,
   "metadata": {
    "ExecuteTime": {
     "end_time": "2019-02-26T06:18:44.260151Z",
     "start_time": "2019-02-26T06:18:44.256122Z"
    }
   },
   "outputs": [],
   "source": [
    "import pandas as pd\n",
    "import numpy as np\n",
    "import glob\n",
    "import os\n",
    "import sys\n",
    "import re"
   ]
  },
  {
   "cell_type": "code",
   "execution_count": 39,
   "metadata": {
    "ExecuteTime": {
     "end_time": "2019-02-26T06:27:34.346078Z",
     "start_time": "2019-02-26T06:27:34.342086Z"
    }
   },
   "outputs": [],
   "source": [
    "file_list = glob.glob(os.getcwd()+\"/*.csv\")"
   ]
  },
  {
   "cell_type": "code",
   "execution_count": 40,
   "metadata": {
    "ExecuteTime": {
     "end_time": "2019-02-26T06:27:34.826781Z",
     "start_time": "2019-02-26T06:27:34.821775Z"
    }
   },
   "outputs": [
    {
     "data": {
      "text/plain": [
       "['D:\\\\github_repository\\\\MyProject\\\\timetable\\\\公交地铁匹配\\\\1.csv',\n",
       " 'D:\\\\github_repository\\\\MyProject\\\\timetable\\\\公交地铁匹配\\\\10.csv',\n",
       " 'D:\\\\github_repository\\\\MyProject\\\\timetable\\\\公交地铁匹配\\\\2.csv',\n",
       " 'D:\\\\github_repository\\\\MyProject\\\\timetable\\\\公交地铁匹配\\\\3.csv',\n",
       " 'D:\\\\github_repository\\\\MyProject\\\\timetable\\\\公交地铁匹配\\\\4.csv',\n",
       " 'D:\\\\github_repository\\\\MyProject\\\\timetable\\\\公交地铁匹配\\\\5.csv',\n",
       " 'D:\\\\github_repository\\\\MyProject\\\\timetable\\\\公交地铁匹配\\\\6.csv',\n",
       " 'D:\\\\github_repository\\\\MyProject\\\\timetable\\\\公交地铁匹配\\\\7.csv',\n",
       " 'D:\\\\github_repository\\\\MyProject\\\\timetable\\\\公交地铁匹配\\\\8.csv',\n",
       " 'D:\\\\github_repository\\\\MyProject\\\\timetable\\\\公交地铁匹配\\\\9.csv']"
      ]
     },
     "execution_count": 40,
     "metadata": {},
     "output_type": "execute_result"
    }
   ],
   "source": [
    "file_list"
   ]
  },
  {
   "cell_type": "code",
   "execution_count": 41,
   "metadata": {
    "ExecuteTime": {
     "end_time": "2019-02-26T06:27:35.607966Z",
     "start_time": "2019-02-26T06:27:35.566572Z"
    }
   },
   "outputs": [
    {
     "name": "stdout",
     "output_type": "stream",
     "text": [
      "    0     1       2       3       4       5       6       7       8\n",
      "0   1  2995  1448.0  1449.0     NaN     NaN     NaN     NaN     NaN\n",
      "1  10   776   777.0   778.0   420.0   421.0   422.0     NaN     NaN\n",
      "2   2  3029  1444.0  2919.0  2920.0  1445.0  2981.0     NaN     NaN\n",
      "3   3  2715  3034.0  2716.0  3651.0  1442.0  1443.0  2895.0     NaN\n",
      "4   4  2717  2738.0  3007.0  2746.0     NaN     NaN     NaN     NaN\n",
      "5   5  2718  2740.0  2739.0     NaN     NaN     NaN     NaN     NaN\n",
      "6   6  2719     NaN     NaN     NaN     NaN     NaN     NaN     NaN\n",
      "7   7  2591  2592.0  2838.0     NaN     NaN     NaN     NaN     NaN\n",
      "8   8   469   749.0   750.0   470.0  3837.0     NaN     NaN     NaN\n",
      "9   9   770   771.0   772.0   423.0   422.0   467.0   468.0  2745.0\n"
     ]
    }
   ],
   "source": [
    "temp = []\n",
    "for each_one in file_list:\n",
    "    \n",
    "    df = pd.read_csv(each_one,engine='python',encoding='UTF8')\n",
    "    \n",
    "    route_ID = re.compile('\\d+').findall(each_one)[0]\n",
    "    \n",
    "    df.drop_duplicates('STATIONID',inplace=True)\n",
    "    \n",
    "    temp.append([route_ID]+list(np.array(df['STATIONID'])))\n",
    "    \n",
    "table = pd.DataFrame(temp)\n",
    "print(table)"
   ]
  },
  {
   "cell_type": "code",
   "execution_count": 37,
   "metadata": {
    "ExecuteTime": {
     "end_time": "2019-02-26T06:24:00.688351Z",
     "start_time": "2019-02-26T06:24:00.684388Z"
    }
   },
   "outputs": [
    {
     "data": {
      "text/plain": [
       "[2995, 1448, 1449]"
      ]
     },
     "execution_count": 37,
     "metadata": {},
     "output_type": "execute_result"
    }
   ],
   "source": [
    "list(np.array(df['STATIONID']))"
   ]
  },
  {
   "cell_type": "code",
   "execution_count": null,
   "metadata": {},
   "outputs": [],
   "source": [
    "[]"
   ]
  }
 ],
 "metadata": {
  "kernelspec": {
   "display_name": "Python 3",
   "language": "python",
   "name": "python3"
  },
  "language_info": {
   "codemirror_mode": {
    "name": "ipython",
    "version": 3
   },
   "file_extension": ".py",
   "mimetype": "text/x-python",
   "name": "python",
   "nbconvert_exporter": "python",
   "pygments_lexer": "ipython3",
   "version": "3.7.1"
  },
  "varInspector": {
   "cols": {
    "lenName": 16,
    "lenType": 16,
    "lenVar": 40
   },
   "kernels_config": {
    "python": {
     "delete_cmd_postfix": "",
     "delete_cmd_prefix": "del ",
     "library": "var_list.py",
     "varRefreshCmd": "print(var_dic_list())"
    },
    "r": {
     "delete_cmd_postfix": ") ",
     "delete_cmd_prefix": "rm(",
     "library": "var_list.r",
     "varRefreshCmd": "cat(var_dic_list()) "
    }
   },
   "types_to_exclude": [
    "module",
    "function",
    "builtin_function_or_method",
    "instance",
    "_Feature"
   ],
   "window_display": true
  }
 },
 "nbformat": 4,
 "nbformat_minor": 2
}
