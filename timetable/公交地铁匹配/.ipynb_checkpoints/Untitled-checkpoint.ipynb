{
 "cells": [
  {
   "cell_type": "code",
   "execution_count": 6,
   "metadata": {
    "ExecuteTime": {
     "end_time": "2019-02-26T06:05:51.766633Z",
     "start_time": "2019-02-26T06:05:51.762645Z"
    }
   },
   "outputs": [],
   "source": [
    "import pandas as pd\n",
    "import numpy as np\n",
    "import glob\n",
    "import os\n",
    "import sys"
   ]
  },
  {
   "cell_type": "code",
   "execution_count": 20,
   "metadata": {
    "ExecuteTime": {
     "end_time": "2019-02-26T06:15:42.290249Z",
     "start_time": "2019-02-26T06:15:42.286259Z"
    }
   },
   "outputs": [],
   "source": [
    "file_list = glob.glob(os.getcwd()+\"/*.csv\")"
   ]
  },
  {
   "cell_type": "code",
   "execution_count": 21,
   "metadata": {
    "ExecuteTime": {
     "end_time": "2019-02-26T06:15:42.535591Z",
     "start_time": "2019-02-26T06:15:42.531566Z"
    }
   },
   "outputs": [
    {
     "data": {
      "text/plain": [
       "['D:\\\\github_repository\\\\MyProject\\\\timetable\\\\公交地铁匹配\\\\1.csv']"
      ]
     },
     "execution_count": 21,
     "metadata": {},
     "output_type": "execute_result"
    }
   ],
   "source": [
    "file_list"
   ]
  },
  {
   "cell_type": "code",
   "execution_count": 27,
   "metadata": {
    "ExecuteTime": {
     "end_time": "2019-02-26T06:17:14.207610Z",
     "start_time": "2019-02-26T06:17:14.199625Z"
    }
   },
   "outputs": [
    {
     "name": "stdout",
     "output_type": "stream",
     "text": [
      "        XCoord     YCoord    NAME  STATIONID\n",
      "0   118.613075  32.042526   建设路总站       2995\n",
      "1   118.616203  32.045410  雨山路地铁站       1448\n",
      "2   118.616104  32.045410  雨山路地铁站       1448\n",
      "3   118.616074  32.045372  雨山路地铁站       1448\n",
      "4   118.611931  32.041267  五里桥立交北       1449\n",
      "5   118.613068  32.042526   建设路总站       2995\n",
      "6   118.616234  32.045433  雨山路地铁站       1448\n",
      "7   118.611908  32.041115  五里桥立交北       1449\n",
      "8   118.616226  32.045429  雨山路地铁站       1448\n",
      "9   118.616104  32.045403  雨山路地铁站       1448\n",
      "10  118.611977  32.041325  五里桥立交北       1449\n",
      "11  118.612091  32.041382  五里桥立交北       1449\n",
      "12  118.616196  32.045406  雨山路地铁站       1448\n",
      "13  118.616074  32.045376  雨山路地铁站       1448\n",
      "14  118.611977  32.041332  五里桥立交北       1449\n",
      "15  118.611977  32.041233  五里桥立交北       1449\n",
      "16  118.616188  32.045395  雨山路地铁站       1448\n"
     ]
    }
   ],
   "source": [
    "for each_one in file_list:\n",
    "    df = pd.read_csv(each_one,engine='python',encoding='UTF8')\n",
    "    print(df)"
   ]
  },
  {
   "cell_type": "code",
   "execution_count": null,
   "metadata": {},
   "outputs": [],
   "source": []
  }
 ],
 "metadata": {
  "kernelspec": {
   "display_name": "Python 3",
   "language": "python",
   "name": "python3"
  },
  "language_info": {
   "codemirror_mode": {
    "name": "ipython",
    "version": 3
   },
   "file_extension": ".py",
   "mimetype": "text/x-python",
   "name": "python",
   "nbconvert_exporter": "python",
   "pygments_lexer": "ipython3",
   "version": "3.7.1"
  },
  "varInspector": {
   "cols": {
    "lenName": 16,
    "lenType": 16,
    "lenVar": 40
   },
   "kernels_config": {
    "python": {
     "delete_cmd_postfix": "",
     "delete_cmd_prefix": "del ",
     "library": "var_list.py",
     "varRefreshCmd": "print(var_dic_list())"
    },
    "r": {
     "delete_cmd_postfix": ") ",
     "delete_cmd_prefix": "rm(",
     "library": "var_list.r",
     "varRefreshCmd": "cat(var_dic_list()) "
    }
   },
   "types_to_exclude": [
    "module",
    "function",
    "builtin_function_or_method",
    "instance",
    "_Feature"
   ],
   "window_display": true
  }
 },
 "nbformat": 4,
 "nbformat_minor": 2
}
