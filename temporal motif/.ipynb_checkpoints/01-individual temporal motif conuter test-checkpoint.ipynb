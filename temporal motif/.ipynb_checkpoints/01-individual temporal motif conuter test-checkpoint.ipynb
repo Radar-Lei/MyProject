{
 "cells": [
  {
   "cell_type": "code",
   "execution_count": 1,
   "metadata": {},
   "outputs": [],
   "source": [
    "import snap\n",
    "import numpy as np\n",
    "from itertools import permutations\n",
    "import matplotlib\n",
    "matplotlib.use('agg')\n",
    "from matplotlib import pyplot as plt\n",
    "%matplotlib inline"
   ]
  },
  {
   "cell_type": "code",
   "execution_count": 29,
   "metadata": {},
   "outputs": [
    {
     "data": {
      "text/plain": [
       "8"
      ]
     },
     "execution_count": 29,
     "metadata": {},
     "output_type": "execute_result"
    }
   ],
   "source": [
    "G = snap.TNEANet.New()\n",
    "G.AddNode(0)\n",
    "G.AddNode(1)\n",
    "G.AddNode(2)\n",
    "G.AddNode(3)\n",
    "G.AddEdge(0, 1)\n",
    "G.AddEdge(0, 2)\n",
    "G.AddEdge(0, 2)\n",
    "G.AddEdge(0, 2)\n",
    "G.AddEdge(0, 2)\n",
    "G.AddEdge(0, 3)\n",
    "G.AddEdge(2, 0)\n",
    "G.AddEdge(2, 0)\n",
    "G.AddEdge(2, 3)"
   ]
  },
  {
   "cell_type": "code",
   "execution_count": 24,
   "metadata": {},
   "outputs": [
    {
     "name": "stdout",
     "output_type": "stream",
     "text": [
      "0\n",
      "1\n",
      "2\n",
      "3\n",
      "4\n",
      "5\n",
      "6\n",
      "7\n",
      "8\n"
     ]
    }
   ],
   "source": [
    "for one in G.Edges():\n",
    "    print one.GetId()"
   ]
  },
  {
   "cell_type": "code",
   "execution_count": 25,
   "metadata": {
    "scrolled": false
   },
   "outputs": [
    {
     "data": {
      "text/plain": [
       "0"
      ]
     },
     "execution_count": 25,
     "metadata": {},
     "output_type": "execute_result"
    }
   ],
   "source": [
    "G.AddIntAttrE('time')"
   ]
  },
  {
   "cell_type": "code",
   "execution_count": 26,
   "metadata": {},
   "outputs": [],
   "source": [
    "time_list = np.array([25,17,28,30,35,14,15,32,31])"
   ]
  },
  {
   "cell_type": "code",
   "execution_count": 27,
   "metadata": {
    "scrolled": false
   },
   "outputs": [],
   "source": [
    "for each_one in G.Edges():\n",
    "    G.AddIntAttrDatE(each_one.GetId(), time_list[each_one.GetId()], 'time')"
   ]
  },
  {
   "cell_type": "code",
   "execution_count": 28,
   "metadata": {},
   "outputs": [
    {
     "data": {
      "text/plain": [
       "25"
      ]
     },
     "execution_count": 28,
     "metadata": {},
     "output_type": "execute_result"
    }
   ],
   "source": [
    "G.GetIntAttrDatE(0, 'time')"
   ]
  },
  {
   "cell_type": "code",
   "execution_count": null,
   "metadata": {},
   "outputs": [],
   "source": [
    "def enumerate_subgraph(G, k=3, verbose=False):\n",
    "    '''\n",
    "    This is the main function of the ESU algorithm.\n",
    "    Here, you should iterate over all nodes in the graph,\n",
    "    find their neighbors with ID greater than the current node\n",
    "    and issue the recursive call to extend_subgraph in each iteration\n",
    "\n",
    "    A good idea would be to print a progress report on the cycle over nodes,\n",
    "    So you get an idea of how long the algorithm needs to run\n",
    "    '''\n",
    "    global motif_counts\n",
    "    # directed_3 is a list of predefined network\n",
    "    motif_counts = [0]*len(directed_3) # Reset the motif counts (Do not remove)\n",
    "    ##########################################################################\n",
    "    \n",
    "    for node in G.Nodes():\n",
    "        # only get neighbors whose ID are greater than node's.\n",
    "        nbrs = get_neighbors(G, node.GetId(), gnodeId=node.GetId())\n",
    "        # check completeness, indicateing Graph node ID must start from 0.\n",
    "        print float(node.GetId()) / G.GetNodes(), \" % complete                              \\r\",\n",
    "        extend_subgraph(G, k, set([node.GetId()]), nbrs, node.GetId(), verbose=verbose)"
   ]
  },
  {
   "cell_type": "code",
   "execution_count": null,
   "metadata": {},
   "outputs": [],
   "source": [
    "def get_neighbors(graph, nodeId, gnodeId=None):\n",
    "    n = set([])\n",
    "    # GetNI.GetDeg return the total node degree(in-degree and out-degree)\n",
    "    for i in range(graph.GetNI(nodeId).GetDeg()):\n",
    "        # get nodeId's i-th neighbor\n",
    "        # GetNI.GetNbrNId return all neighbor nodes(in-node and out-node)\n",
    "        # Don't need to worry about repeating since n is set集合,when n.add() will only\n",
    "        # add thoes not in the set yet.\n",
    "        nid = graph.GetNI(nodeId).GetNbrNId(i)\n",
    "\t# only get neighbors whose ID greater than gnodeId\n",
    "        if gnodeId is None or (gnodeId is not None and nid > gnodeId): \n",
    "            n.add(nid)\n",
    "    return n"
   ]
  },
  {
   "cell_type": "code",
   "execution_count": null,
   "metadata": {},
   "outputs": [],
   "source": [
    "def extend_subgraph(G, k, sg, v_ext, node_id, verbose=False):\n",
    "    '''\n",
    "    This is the recursive function in the ESU algorithm\n",
    "    The base case is already implemented and calls count_iso. You should not\n",
    "    need to modify this. \n",
    "    \n",
    "    sg stands for subgraph\n",
    "\n",
    "    Implement the recursive case.\n",
    "    '''\n",
    "    # Base case (you should not need to modify this):\n",
    "    if len(sg) is k:\n",
    "        count_iso(G, sg, verbose)\n",
    "        return\n",
    "    # Recursive step:\n",
    "    #######################################################################\n",
    "    # keep iterating to find 3-subgraphs untill all neighbors examined.\n",
    "    while len(v_ext) > 0:\n",
    "        # randomly pop a neighbor w from set v_ext\n",
    "        w = v_ext.pop()\n",
    "        vprime_ext = set(v_ext)\n",
    "        sg_nbrs = set([])\n",
    "        #for nid in sg:\n",
    "            # set inplace union, sg_nbrs = sg_nbrs union get_neighbors\n",
    "            #sg_nbrs |= get_neighbors(G, nid)\n",
    "        # iterate neighbor's neighbors whose ID is greater than w's;\n",
    "        for u in get_neighbors(G, w, gnodeId=node_id):\n",
    "            if u in sg or u in v_ext:\n",
    "                continue\n",
    "            # add neighbor's neighbors to vprime_ext for choosing in the next iteration\n",
    "            vprime_ext.add(u)\n",
    "        extend_subgraph(G, k, sg | set([w]), vprime_ext, node_id, verbose=verbose)\n",
    "    ##########################################################################"
   ]
  }
 ],
 "metadata": {
  "kernelspec": {
   "display_name": "Python 2",
   "language": "python",
   "name": "python2"
  },
  "language_info": {
   "codemirror_mode": {
    "name": "ipython",
    "version": 2
   },
   "file_extension": ".py",
   "mimetype": "text/x-python",
   "name": "python",
   "nbconvert_exporter": "python",
   "pygments_lexer": "ipython2",
   "version": "2.7.16"
  }
 },
 "nbformat": 4,
 "nbformat_minor": 2
}
