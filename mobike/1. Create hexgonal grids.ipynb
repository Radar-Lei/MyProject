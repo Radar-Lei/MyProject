{
 "cells": [
  {
   "cell_type": "markdown",
   "metadata": {},
   "source": [
    "## 1. Create Hexagon Grid (created points in the network in terms of Polygons)"
   ]
  },
  {
   "cell_type": "code",
   "execution_count": 1,
   "metadata": {
    "ExecuteTime": {
     "end_time": "2019-05-14T17:22:48.501001Z",
     "start_time": "2019-05-14T17:22:47.758472Z"
    }
   },
   "outputs": [],
   "source": [
    "#Import necessary modules\n",
    "from shapely.geometry import Point, Polygon, MultiPoint, MultiPolygon\n",
    "import geopandas as gpd\n",
    "#import pycrs\n",
    "from hexgrid import calculate_polygons #import from hexgrid.py\n",
    "import matplotlib.pyplot as plt"
   ]
  },
  {
   "cell_type": "code",
   "execution_count": 2,
   "metadata": {
    "ExecuteTime": {
     "end_time": "2019-05-14T17:22:49.166783Z",
     "start_time": "2019-05-14T17:22:49.156845Z"
    }
   },
   "outputs": [
    {
     "name": "stdout",
     "output_type": "stream",
     "text": [
      "                  geometry\n",
      "0  POINT (118.5243 31.892)\n",
      "1  POINT (119.0698 32.203)\n"
     ]
    }
   ],
   "source": [
    "# Create the points representing left-low point and right-top point(bounding box) (in WGS84)\n",
    "start_lon = 118.5243\n",
    "start_lat = 31.8920\n",
    "end_lon = 119.0698\n",
    "end_lat = 32.2030\n",
    "multi = MultiPoint([Point(start_lon, start_lat),Point(end_lon, end_lat)])\n",
    "points = gpd.GeoDataFrame(multi, geometry='geometry', crs={'init': 'epsg:4326'}, columns=['geometry']) #epsg:4326 --> WGS84\n",
    "print(points)"
   ]
  },
  {
   "cell_type": "markdown",
   "metadata": {},
   "source": [
    "projected points to UTM from WGS84."
   ]
  },
  {
   "cell_type": "code",
   "execution_count": 3,
   "metadata": {
    "ExecuteTime": {
     "end_time": "2019-05-14T17:22:51.590370Z",
     "start_time": "2019-05-14T17:22:51.510609Z"
    },
    "scrolled": true
   },
   "outputs": [
    {
     "data": {
      "text/html": [
       "<div>\n",
       "<style scoped>\n",
       "    .dataframe tbody tr th:only-of-type {\n",
       "        vertical-align: middle;\n",
       "    }\n",
       "\n",
       "    .dataframe tbody tr th {\n",
       "        vertical-align: top;\n",
       "    }\n",
       "\n",
       "    .dataframe thead th {\n",
       "        text-align: right;\n",
       "    }\n",
       "</style>\n",
       "<table border=\"1\" class=\"dataframe\">\n",
       "  <thead>\n",
       "    <tr style=\"text-align: right;\">\n",
       "      <th></th>\n",
       "      <th>geometry</th>\n",
       "    </tr>\n",
       "  </thead>\n",
       "  <tbody>\n",
       "    <tr>\n",
       "      <th>0</th>\n",
       "      <td>POINT (644154.3631649486 3529478.034613914)</td>\n",
       "    </tr>\n",
       "    <tr>\n",
       "      <th>1</th>\n",
       "      <td>POINT (695090.1749114722 3564815.47933602)</td>\n",
       "    </tr>\n",
       "  </tbody>\n",
       "</table>\n",
       "</div>"
      ],
      "text/plain": [
       "                                      geometry\n",
       "0  POINT (644154.3631649486 3529478.034613914)\n",
       "1   POINT (695090.1749114722 3564815.47933602)"
      ]
     },
     "execution_count": 3,
     "metadata": {},
     "output_type": "execute_result"
    }
   ],
   "source": [
    "points_me = points.copy()\n",
    "points_me = points_me.to_crs(epsg=32650) #epsg:32650 --> UTM zone 50N which is the UTM zone for Nanjing\n",
    "points_me"
   ]
  },
  {
   "cell_type": "markdown",
   "metadata": {
    "ExecuteTime": {
     "end_time": "2019-05-12T15:33:19.832037Z",
     "start_time": "2019-05-12T15:33:19.827051Z"
    }
   },
   "source": [
    "Calculate distance of these two points with metric unit. compare to distance measured by hands on google map. Check if the projection makes sense."
   ]
  },
  {
   "cell_type": "code",
   "execution_count": 4,
   "metadata": {
    "ExecuteTime": {
     "end_time": "2019-05-14T17:22:53.703848Z",
     "start_time": "2019-05-14T17:22:53.699845Z"
    }
   },
   "outputs": [
    {
     "data": {
      "text/plain": [
       "61993.48286525908"
      ]
     },
     "execution_count": 4,
     "metadata": {},
     "output_type": "execute_result"
    }
   ],
   "source": [
    "points_me.loc[0,'geometry'].distance(points_me.loc[1,'geometry']) "
   ]
  },
  {
   "cell_type": "code",
   "execution_count": 5,
   "metadata": {
    "ExecuteTime": {
     "end_time": "2019-05-14T17:22:54.062402Z",
     "start_time": "2019-05-14T17:22:54.058410Z"
    }
   },
   "outputs": [
    {
     "data": {
      "text/plain": [
       "3529478.0346139143"
      ]
     },
     "execution_count": 5,
     "metadata": {},
     "output_type": "execute_result"
    }
   ],
   "source": [
    "points_me.loc[0,'geometry'].y"
   ]
  },
  {
   "cell_type": "code",
   "execution_count": 6,
   "metadata": {
    "ExecuteTime": {
     "end_time": "2019-05-14T17:22:54.369139Z",
     "start_time": "2019-05-14T17:22:54.366111Z"
    }
   },
   "outputs": [],
   "source": [
    "# import calculate_polygons from hexgrid.py\n",
    "from hexgrid import calculate_polygons"
   ]
  },
  {
   "cell_type": "code",
   "execution_count": 8,
   "metadata": {
    "ExecuteTime": {
     "end_time": "2019-05-14T17:23:15.249742Z",
     "start_time": "2019-05-14T17:23:15.143974Z"
    }
   },
   "outputs": [],
   "source": [
    "polygon_list = calculate_polygons(points_me.loc[0,'geometry'].x, points_me.loc[0,'geometry'].y, points_me.loc[1,'geometry'].x, points_me.loc[1,'geometry'].y, 125) #radius=125m"
   ]
  },
  {
   "cell_type": "code",
   "execution_count": 9,
   "metadata": {
    "ExecuteTime": {
     "end_time": "2019-05-14T17:23:15.452135Z",
     "start_time": "2019-05-14T17:23:15.251672Z"
    }
   },
   "outputs": [],
   "source": [
    "from shapely.geometry import Point, Polygon, MultiPoint, MultiPolygon\n",
    "hexgon_grid = gpd.GeoDataFrame( [Polygon(each_one) for each_one in polygon_list], geometry='geometry', crs={'init': 'epsg:32650'}, columns=['geometry'])"
   ]
  },
  {
   "cell_type": "code",
   "execution_count": 10,
   "metadata": {
    "ExecuteTime": {
     "end_time": "2019-05-14T17:23:15.460114Z",
     "start_time": "2019-05-14T17:23:15.453133Z"
    }
   },
   "outputs": [
    {
     "data": {
      "text/plain": [
       "shapely.geometry.polygon.Polygon"
      ]
     },
     "execution_count": 10,
     "metadata": {},
     "output_type": "execute_result"
    }
   ],
   "source": [
    "import matplotlib.pyplot as plt\n",
    "type(hexgon_grid.loc[0,'geometry'])"
   ]
  },
  {
   "cell_type": "code",
   "execution_count": 11,
   "metadata": {
    "ExecuteTime": {
     "end_time": "2019-05-14T17:23:15.486079Z",
     "start_time": "2019-05-14T17:23:15.463106Z"
    }
   },
   "outputs": [
    {
     "data": {
      "image/svg+xml": [
       "<svg xmlns=\"http://www.w3.org/2000/svg\" xmlns:xlink=\"http://www.w3.org/1999/xlink\" width=\"273.0940107675269\" height=\"300\" viewBox=\"643892.8161595649 3529177.8124739355 273.0940107675269 311.7691453625448\" preserveAspectRatio=\"xMinYMin meet\"><g transform=\"matrix(1,0,0,-1,0,7058667.394093234)\"><path fill-rule=\"evenodd\" fill=\"#66cc99\" stroke=\"#555555\" stroke-width=\"2.078460969083632\" opacity=\"0.6\" d=\"M 643904.3631649486,3529261.528262968 L 643904.3631649486,3529405.8658302655 L 644029.3631649486,3529478.0346139143 L 644154.3631649486,3529405.8658302655 L 644154.3631649486,3529261.528262968 L 644029.3631649486,3529189.3594793193 L 643904.3631649486,3529261.528262968 z\" /></g></svg>"
      ],
      "text/plain": [
       "<shapely.geometry.polygon.Polygon at 0x21052329860>"
      ]
     },
     "execution_count": 11,
     "metadata": {},
     "output_type": "execute_result"
    }
   ],
   "source": [
    "hexgon_grid.loc[0,'geometry']"
   ]
  },
  {
   "cell_type": "code",
   "execution_count": 12,
   "metadata": {
    "ExecuteTime": {
     "end_time": "2019-05-14T17:23:15.496018Z",
     "start_time": "2019-05-14T17:23:15.489049Z"
    }
   },
   "outputs": [
    {
     "data": {
      "text/plain": [
       "geopandas.geoseries.GeoSeries"
      ]
     },
     "execution_count": 12,
     "metadata": {},
     "output_type": "execute_result"
    }
   ],
   "source": [
    "type(hexgon_grid.loc[0:1000,'geometry'])"
   ]
  },
  {
   "cell_type": "code",
   "execution_count": 13,
   "metadata": {
    "ExecuteTime": {
     "end_time": "2019-05-14T17:23:15.509995Z",
     "start_time": "2019-05-14T17:23:15.499011Z"
    }
   },
   "outputs": [
    {
     "data": {
      "text/html": [
       "<div>\n",
       "<style scoped>\n",
       "    .dataframe tbody tr th:only-of-type {\n",
       "        vertical-align: middle;\n",
       "    }\n",
       "\n",
       "    .dataframe tbody tr th {\n",
       "        vertical-align: top;\n",
       "    }\n",
       "\n",
       "    .dataframe thead th {\n",
       "        text-align: right;\n",
       "    }\n",
       "</style>\n",
       "<table border=\"1\" class=\"dataframe\">\n",
       "  <thead>\n",
       "    <tr style=\"text-align: right;\">\n",
       "      <th></th>\n",
       "      <th>geometry</th>\n",
       "    </tr>\n",
       "  </thead>\n",
       "  <tbody>\n",
       "    <tr>\n",
       "      <th>0</th>\n",
       "      <td>POLYGON ((643904.3631649486 3529261.528262968,...</td>\n",
       "    </tr>\n",
       "    <tr>\n",
       "      <th>1</th>\n",
       "      <td>POLYGON ((644154.3631649486 3529261.528262968,...</td>\n",
       "    </tr>\n",
       "    <tr>\n",
       "      <th>2</th>\n",
       "      <td>POLYGON ((644404.3631649486 3529261.528262968,...</td>\n",
       "    </tr>\n",
       "    <tr>\n",
       "      <th>3</th>\n",
       "      <td>POLYGON ((644654.3631649486 3529261.528262968,...</td>\n",
       "    </tr>\n",
       "    <tr>\n",
       "      <th>4</th>\n",
       "      <td>POLYGON ((644904.3631649486 3529261.528262968,...</td>\n",
       "    </tr>\n",
       "  </tbody>\n",
       "</table>\n",
       "</div>"
      ],
      "text/plain": [
       "                                            geometry\n",
       "0  POLYGON ((643904.3631649486 3529261.528262968,...\n",
       "1  POLYGON ((644154.3631649486 3529261.528262968,...\n",
       "2  POLYGON ((644404.3631649486 3529261.528262968,...\n",
       "3  POLYGON ((644654.3631649486 3529261.528262968,...\n",
       "4  POLYGON ((644904.3631649486 3529261.528262968,..."
      ]
     },
     "execution_count": 13,
     "metadata": {},
     "output_type": "execute_result"
    }
   ],
   "source": [
    "hexgon_grid.head()"
   ]
  },
  {
   "cell_type": "code",
   "execution_count": 14,
   "metadata": {
    "ExecuteTime": {
     "end_time": "2019-05-14T17:23:15.847766Z",
     "start_time": "2019-05-14T17:23:15.512026Z"
    }
   },
   "outputs": [
    {
     "data": {
      "text/plain": [
       "<matplotlib.axes._subplots.AxesSubplot at 0x21051c77080>"
      ]
     },
     "execution_count": 14,
     "metadata": {},
     "output_type": "execute_result"
    },
    {
     "data": {
      "image/png": "[encoded data removed]",
      "text/plain": [
       "<Figure size 432x288 with 1 Axes>"
      ]
     },
     "metadata": {
      "needs_background": "light"
     },
     "output_type": "display_data"
    }
   ],
   "source": [
    "hexgon_grid.loc[0:1000,'geometry'].plot()"
   ]
  },
  {
   "cell_type": "code",
   "execution_count": 15,
   "metadata": {
    "ExecuteTime": {
     "end_time": "2019-05-14T17:23:15.854751Z",
     "start_time": "2019-05-14T17:23:15.848804Z"
    }
   },
   "outputs": [
    {
     "data": {
      "text/plain": [
       "34196"
      ]
     },
     "execution_count": 15,
     "metadata": {},
     "output_type": "execute_result"
    }
   ],
   "source": [
    "hexgon_grid.size # how many points have been created?"
   ]
  },
  {
   "cell_type": "code",
   "execution_count": 16,
   "metadata": {
    "ExecuteTime": {
     "end_time": "2019-05-14T17:23:15.877719Z",
     "start_time": "2019-05-14T17:23:15.856742Z"
    }
   },
   "outputs": [
    {
     "data": {
      "text/plain": [
       "34196"
      ]
     },
     "execution_count": 16,
     "metadata": {},
     "output_type": "execute_result"
    }
   ],
   "source": [
    "len(hexgon_grid) # couble check the number of points created."
   ]
  },
  {
   "cell_type": "code",
   "execution_count": 17,
   "metadata": {
    "ExecuteTime": {
     "end_time": "2019-05-14T17:23:17.905366Z",
     "start_time": "2019-05-14T17:23:15.878720Z"
    }
   },
   "outputs": [],
   "source": [
    "# convert crs to wgs84 only in geopandas >= 0.5.0\n",
    "zone = hexgon_grid.to_crs(epsg=4326)"
   ]
  },
  {
   "cell_type": "code",
   "execution_count": 18,
   "metadata": {
    "ExecuteTime": {
     "end_time": "2019-05-14T17:23:17.926271Z",
     "start_time": "2019-05-14T17:23:17.907287Z"
    }
   },
   "outputs": [
    {
     "data": {
      "text/html": [
       "<div>\n",
       "<style scoped>\n",
       "    .dataframe tbody tr th:only-of-type {\n",
       "        vertical-align: middle;\n",
       "    }\n",
       "\n",
       "    .dataframe tbody tr th {\n",
       "        vertical-align: top;\n",
       "    }\n",
       "\n",
       "    .dataframe thead th {\n",
       "        text-align: right;\n",
       "    }\n",
       "</style>\n",
       "<table border=\"1\" class=\"dataframe\">\n",
       "  <thead>\n",
       "    <tr style=\"text-align: right;\">\n",
       "      <th></th>\n",
       "      <th>geometry</th>\n",
       "      <th>start_id</th>\n",
       "      <th>end_id</th>\n",
       "    </tr>\n",
       "  </thead>\n",
       "  <tbody>\n",
       "    <tr>\n",
       "      <th>0</th>\n",
       "      <td>POLYGON ((118.521625158895 31.8900790484462, 1...</td>\n",
       "      <td>0</td>\n",
       "      <td>0</td>\n",
       "    </tr>\n",
       "    <tr>\n",
       "      <th>1</th>\n",
       "      <td>POLYGON ((118.5242678257038 31.89004738004776,...</td>\n",
       "      <td>1</td>\n",
       "      <td>1</td>\n",
       "    </tr>\n",
       "    <tr>\n",
       "      <th>2</th>\n",
       "      <td>POLYGON ((118.5269104883526 31.8900156567382, ...</td>\n",
       "      <td>2</td>\n",
       "      <td>2</td>\n",
       "    </tr>\n",
       "    <tr>\n",
       "      <th>3</th>\n",
       "      <td>POLYGON ((118.5295531468342 31.88998387851783,...</td>\n",
       "      <td>3</td>\n",
       "      <td>3</td>\n",
       "    </tr>\n",
       "    <tr>\n",
       "      <th>4</th>\n",
       "      <td>POLYGON ((118.5321958011414 31.88995204538694,...</td>\n",
       "      <td>4</td>\n",
       "      <td>4</td>\n",
       "    </tr>\n",
       "  </tbody>\n",
       "</table>\n",
       "</div>"
      ],
      "text/plain": [
       "                                            geometry  start_id  end_id\n",
       "0  POLYGON ((118.521625158895 31.8900790484462, 1...         0       0\n",
       "1  POLYGON ((118.5242678257038 31.89004738004776,...         1       1\n",
       "2  POLYGON ((118.5269104883526 31.8900156567382, ...         2       2\n",
       "3  POLYGON ((118.5295531468342 31.88998387851783,...         3       3\n",
       "4  POLYGON ((118.5321958011414 31.88995204538694,...         4       4"
      ]
     },
     "execution_count": 18,
     "metadata": {},
     "output_type": "execute_result"
    }
   ],
   "source": [
    "# zone['start_point_id'] = zone.index # .shp file doesn's support str longer than 9, it will be 'start_poin'\n",
    "# zone['end_point_id'] = zone.index\n",
    "zone['start_id'] = zone.index\n",
    "zone['end_id'] = zone.index\n",
    "zone.head()"
   ]
  },
  {
   "cell_type": "code",
   "execution_count": 19,
   "metadata": {
    "ExecuteTime": {
     "end_time": "2019-05-14T17:23:21.791621Z",
     "start_time": "2019-05-14T17:23:17.929231Z"
    }
   },
   "outputs": [],
   "source": [
    "zone.to_file('shp_file/zone_125m_wgs84.shp')"
   ]
  },
  {
   "cell_type": "code",
   "execution_count": null,
   "metadata": {},
   "outputs": [],
   "source": []
  }
 ],
 "metadata": {
  "kernelspec": {
   "display_name": "Python [conda env:py37]",
   "language": "python",
   "name": "conda-env-py37-py"
  },
  "language_info": {
   "codemirror_mode": {
    "name": "ipython",
    "version": 3
   },
   "file_extension": ".py",
   "mimetype": "text/x-python",
   "name": "python",
   "nbconvert_exporter": "python",
   "pygments_lexer": "ipython3",
   "version": "3.7.0"
  },
  "varInspector": {
   "cols": {
    "lenName": 16,
    "lenType": 16,
    "lenVar": 40
   },
   "kernels_config": {
    "python": {
     "delete_cmd_postfix": "",
     "delete_cmd_prefix": "del ",
     "library": "var_list.py",
     "varRefreshCmd": "print(var_dic_list())"
    },
    "r": {
     "delete_cmd_postfix": ") ",
     "delete_cmd_prefix": "rm(",
     "library": "var_list.r",
     "varRefreshCmd": "cat(var_dic_list()) "
    }
   },
   "types_to_exclude": [
    "module",
    "function",
    "builtin_function_or_method",
    "instance",
    "_Feature"
   ],
   "window_display": true
  }
 },
 "nbformat": 4,
 "nbformat_minor": 2
}
