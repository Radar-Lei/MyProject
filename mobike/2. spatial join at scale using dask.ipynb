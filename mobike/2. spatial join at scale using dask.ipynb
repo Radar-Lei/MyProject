{
 "cells": [
  {
   "cell_type": "markdown",
   "metadata": {},
   "source": [
    "## 1. Assign every record in mobike dataset to the Polygon it belongs to."
   ]
  },
  {
   "cell_type": "code",
   "execution_count": 1,
   "metadata": {
    "ExecuteTime": {
     "end_time": "2019-05-14T18:02:38.676249Z",
     "start_time": "2019-05-14T18:02:38.076730Z"
    }
   },
   "outputs": [
    {
     "name": "stderr",
     "output_type": "stream",
     "text": [
      "D:\\Users\\great\\Anaconda3\\envs\\py364\\lib\\site-packages\\distributed\\config.py:63: YAMLLoadWarning: calling yaml.load() without Loader=... is deprecated, as the default Loader is unsafe. Please read https://msg.pyyaml.org/load for full details.\n",
      "  config.update(yaml.load(text) or {})\n"
     ]
    }
   ],
   "source": [
    "import pandas as pd\n",
    "import numpy as np\n",
    "import geopandas as gpd\n",
    "import dask.dataframe as dd\n",
    "import dask_geopandas as dg\n",
    "import dask"
   ]
  },
  {
   "cell_type": "code",
   "execution_count": 2,
   "metadata": {
    "ExecuteTime": {
     "end_time": "2019-05-14T18:03:02.794416Z",
     "start_time": "2019-05-14T18:02:53.829061Z"
    },
    "scrolled": true
   },
   "outputs": [
    {
     "name": "stderr",
     "output_type": "stream",
     "text": [
      "D:\\Users\\great\\Anaconda3\\envs\\py364\\lib\\site-packages\\IPython\\core\\interactiveshell.py:3049: DtypeWarning: Columns (2,5,6) have mixed types. Specify dtype option on import or set low_memory=False.\n",
      "  interactivity=interactivity, compiler=compiler, result=result)\n"
     ]
    }
   ],
   "source": [
    "mobike_ori = pd.read_csv('mobike_nanjing_20170918-24.txt', encoding='utf-8',sep='\\s+', header=None)"
   ]
  },
  {
   "cell_type": "code",
   "execution_count": 3,
   "metadata": {
    "ExecuteTime": {
     "end_time": "2019-05-14T18:03:14.014902Z",
     "start_time": "2019-05-14T18:03:13.990966Z"
    }
   },
   "outputs": [
    {
     "data": {
      "text/html": [
       "<div>\n",
       "<style scoped>\n",
       "    .dataframe tbody tr th:only-of-type {\n",
       "        vertical-align: middle;\n",
       "    }\n",
       "\n",
       "    .dataframe tbody tr th {\n",
       "        vertical-align: top;\n",
       "    }\n",
       "\n",
       "    .dataframe thead th {\n",
       "        text-align: right;\n",
       "    }\n",
       "</style>\n",
       "<table border=\"1\" class=\"dataframe\">\n",
       "  <thead>\n",
       "    <tr style=\"text-align: right;\">\n",
       "      <th></th>\n",
       "      <th>0</th>\n",
       "      <th>1</th>\n",
       "      <th>2</th>\n",
       "      <th>3</th>\n",
       "      <th>4</th>\n",
       "      <th>5</th>\n",
       "      <th>6</th>\n",
       "      <th>7</th>\n",
       "      <th>8</th>\n",
       "      <th>9</th>\n",
       "      <th>10</th>\n",
       "      <th>11</th>\n",
       "    </tr>\n",
       "  </thead>\n",
       "  <tbody>\n",
       "    <tr>\n",
       "      <th>0</th>\n",
       "      <td>MBK86206238681505730314773</td>\n",
       "      <td>45e985b3dcb859d70a4631fc88d88bd2</td>\n",
       "      <td>8620623868</td>\n",
       "      <td>2017-09-18</td>\n",
       "      <td>18:25:35.0</td>\n",
       "      <td>118.808</td>\n",
       "      <td>32.0524</td>\n",
       "      <td>2017-09-18</td>\n",
       "      <td>19:18:28.0</td>\n",
       "      <td>118.815084</td>\n",
       "      <td>32.062967</td>\n",
       "      <td>20170918.0</td>\n",
       "    </tr>\n",
       "    <tr>\n",
       "      <th>1</th>\n",
       "      <td>MBK86203240971505730314611</td>\n",
       "      <td>c2d73ddc923e4c21f857e5841212e849</td>\n",
       "      <td>8620324097</td>\n",
       "      <td>2017-09-18</td>\n",
       "      <td>18:25:47.0</td>\n",
       "      <td>118.733</td>\n",
       "      <td>31.9878</td>\n",
       "      <td>2017-09-18</td>\n",
       "      <td>18:32:08.0</td>\n",
       "      <td>118.730417</td>\n",
       "      <td>31.992373</td>\n",
       "      <td>20170918.0</td>\n",
       "    </tr>\n",
       "    <tr>\n",
       "      <th>2</th>\n",
       "      <td>MBK02565733401505730314662</td>\n",
       "      <td>0e11477c7d559fe7b780d68875357b96</td>\n",
       "      <td>256573340</td>\n",
       "      <td>2017-09-18</td>\n",
       "      <td>18:25:46.0</td>\n",
       "      <td>118.743</td>\n",
       "      <td>32.0934</td>\n",
       "      <td>2017-09-18</td>\n",
       "      <td>18:30:34.0</td>\n",
       "      <td>118.742263</td>\n",
       "      <td>32.085911</td>\n",
       "      <td>20170918.0</td>\n",
       "    </tr>\n",
       "    <tr>\n",
       "      <th>3</th>\n",
       "      <td>MBK02560370341505730314931</td>\n",
       "      <td>d50596c0f8d0695fafe6e54d6ab71feb</td>\n",
       "      <td>256037034</td>\n",
       "      <td>2017-09-18</td>\n",
       "      <td>18:25:44.0</td>\n",
       "      <td>118.75</td>\n",
       "      <td>32.0645</td>\n",
       "      <td>2017-09-18</td>\n",
       "      <td>18:28:39.0</td>\n",
       "      <td>118.748185</td>\n",
       "      <td>32.067683</td>\n",
       "      <td>20170918.0</td>\n",
       "    </tr>\n",
       "    <tr>\n",
       "      <th>4</th>\n",
       "      <td>MBK02560286211505730314713</td>\n",
       "      <td>4581a390b8193bce51598bd25518e976</td>\n",
       "      <td>256028621</td>\n",
       "      <td>2017-09-18</td>\n",
       "      <td>18:25:22.0</td>\n",
       "      <td>118.742</td>\n",
       "      <td>32.0449</td>\n",
       "      <td>2017-09-18</td>\n",
       "      <td>18:34:38.0</td>\n",
       "      <td>NaN</td>\n",
       "      <td>NaN</td>\n",
       "      <td>20170918.0</td>\n",
       "    </tr>\n",
       "  </tbody>\n",
       "</table>\n",
       "</div>"
      ],
      "text/plain": [
       "                           0                                 1           2   \\\n",
       "0  MBK86206238681505730314773  45e985b3dcb859d70a4631fc88d88bd2  8620623868   \n",
       "1  MBK86203240971505730314611  c2d73ddc923e4c21f857e5841212e849  8620324097   \n",
       "2  MBK02565733401505730314662  0e11477c7d559fe7b780d68875357b96   256573340   \n",
       "3  MBK02560370341505730314931  d50596c0f8d0695fafe6e54d6ab71feb   256037034   \n",
       "4  MBK02560286211505730314713  4581a390b8193bce51598bd25518e976   256028621   \n",
       "\n",
       "           3           4        5        6           7           8   \\\n",
       "0  2017-09-18  18:25:35.0  118.808  32.0524  2017-09-18  19:18:28.0   \n",
       "1  2017-09-18  18:25:47.0  118.733  31.9878  2017-09-18  18:32:08.0   \n",
       "2  2017-09-18  18:25:46.0  118.743  32.0934  2017-09-18  18:30:34.0   \n",
       "3  2017-09-18  18:25:44.0   118.75  32.0645  2017-09-18  18:28:39.0   \n",
       "4  2017-09-18  18:25:22.0  118.742  32.0449  2017-09-18  18:34:38.0   \n",
       "\n",
       "           9          10          11  \n",
       "0  118.815084  32.062967  20170918.0  \n",
       "1  118.730417  31.992373  20170918.0  \n",
       "2  118.742263  32.085911  20170918.0  \n",
       "3  118.748185  32.067683  20170918.0  \n",
       "4         NaN        NaN  20170918.0  "
      ]
     },
     "execution_count": 3,
     "metadata": {},
     "output_type": "execute_result"
    }
   ],
   "source": [
    "mobike_ori.head()"
   ]
  },
  {
   "cell_type": "code",
   "execution_count": 4,
   "metadata": {
    "ExecuteTime": {
     "end_time": "2019-05-14T18:03:16.325196Z",
     "start_time": "2019-05-14T18:03:16.320208Z"
    },
    "scrolled": true
   },
   "outputs": [
    {
     "data": {
      "text/plain": [
       "(3636631, 12)"
      ]
     },
     "execution_count": 4,
     "metadata": {},
     "output_type": "execute_result"
    }
   ],
   "source": [
    "mobike_ori.shape"
   ]
  },
  {
   "cell_type": "code",
   "execution_count": 5,
   "metadata": {
    "ExecuteTime": {
     "end_time": "2019-05-14T18:03:18.661910Z",
     "start_time": "2019-05-14T18:03:17.565321Z"
    }
   },
   "outputs": [
    {
     "data": {
      "text/plain": [
       "(3636629, 12)"
      ]
     },
     "execution_count": 5,
     "metadata": {},
     "output_type": "execute_result"
    }
   ],
   "source": [
    "# drop rows where time is NaN\n",
    "mobike_ori.dropna(how='any',subset=[3,4,7,8],inplace=True)\n",
    "mobike_ori.shape"
   ]
  },
  {
   "cell_type": "code",
   "execution_count": 6,
   "metadata": {
    "ExecuteTime": {
     "end_time": "2019-05-14T18:03:26.230710Z",
     "start_time": "2019-05-14T18:03:24.559934Z"
    }
   },
   "outputs": [],
   "source": [
    "mobike_ori['start_time'] = mobike_ori[3] +' '+ mobike_ori[4]\n",
    "mobike_ori['end_time'] = mobike_ori[7] +' '+ mobike_ori[8]\n",
    "mobike_ori['start_time'] = mobike_ori['start_time'].astype('datetime64[ns]')\n",
    "mobike_ori['end_time'] = mobike_ori['end_time'].astype('datetime64[ns]')"
   ]
  },
  {
   "cell_type": "code",
   "execution_count": 7,
   "metadata": {
    "ExecuteTime": {
     "end_time": "2019-05-14T18:03:33.041329Z",
     "start_time": "2019-05-14T18:03:32.671318Z"
    },
    "scrolled": false
   },
   "outputs": [
    {
     "data": {
      "text/html": [
       "<div>\n",
       "<style scoped>\n",
       "    .dataframe tbody tr th:only-of-type {\n",
       "        vertical-align: middle;\n",
       "    }\n",
       "\n",
       "    .dataframe tbody tr th {\n",
       "        vertical-align: top;\n",
       "    }\n",
       "\n",
       "    .dataframe thead th {\n",
       "        text-align: right;\n",
       "    }\n",
       "</style>\n",
       "<table border=\"1\" class=\"dataframe\">\n",
       "  <thead>\n",
       "    <tr style=\"text-align: right;\">\n",
       "      <th></th>\n",
       "      <th>0</th>\n",
       "      <th>1</th>\n",
       "      <th>2</th>\n",
       "      <th>5</th>\n",
       "      <th>6</th>\n",
       "      <th>9</th>\n",
       "      <th>10</th>\n",
       "      <th>start_time</th>\n",
       "      <th>end_time</th>\n",
       "    </tr>\n",
       "  </thead>\n",
       "  <tbody>\n",
       "    <tr>\n",
       "      <th>0</th>\n",
       "      <td>MBK86206238681505730314773</td>\n",
       "      <td>45e985b3dcb859d70a4631fc88d88bd2</td>\n",
       "      <td>8620623868</td>\n",
       "      <td>118.808</td>\n",
       "      <td>32.0524</td>\n",
       "      <td>118.815084</td>\n",
       "      <td>32.062967</td>\n",
       "      <td>2017-09-18 18:25:35</td>\n",
       "      <td>2017-09-18 19:18:28</td>\n",
       "    </tr>\n",
       "    <tr>\n",
       "      <th>1</th>\n",
       "      <td>MBK86203240971505730314611</td>\n",
       "      <td>c2d73ddc923e4c21f857e5841212e849</td>\n",
       "      <td>8620324097</td>\n",
       "      <td>118.733</td>\n",
       "      <td>31.9878</td>\n",
       "      <td>118.730417</td>\n",
       "      <td>31.992373</td>\n",
       "      <td>2017-09-18 18:25:47</td>\n",
       "      <td>2017-09-18 18:32:08</td>\n",
       "    </tr>\n",
       "    <tr>\n",
       "      <th>2</th>\n",
       "      <td>MBK02565733401505730314662</td>\n",
       "      <td>0e11477c7d559fe7b780d68875357b96</td>\n",
       "      <td>256573340</td>\n",
       "      <td>118.743</td>\n",
       "      <td>32.0934</td>\n",
       "      <td>118.742263</td>\n",
       "      <td>32.085911</td>\n",
       "      <td>2017-09-18 18:25:46</td>\n",
       "      <td>2017-09-18 18:30:34</td>\n",
       "    </tr>\n",
       "    <tr>\n",
       "      <th>3</th>\n",
       "      <td>MBK02560370341505730314931</td>\n",
       "      <td>d50596c0f8d0695fafe6e54d6ab71feb</td>\n",
       "      <td>256037034</td>\n",
       "      <td>118.75</td>\n",
       "      <td>32.0645</td>\n",
       "      <td>118.748185</td>\n",
       "      <td>32.067683</td>\n",
       "      <td>2017-09-18 18:25:44</td>\n",
       "      <td>2017-09-18 18:28:39</td>\n",
       "    </tr>\n",
       "    <tr>\n",
       "      <th>4</th>\n",
       "      <td>MBK02560286211505730314713</td>\n",
       "      <td>4581a390b8193bce51598bd25518e976</td>\n",
       "      <td>256028621</td>\n",
       "      <td>118.742</td>\n",
       "      <td>32.0449</td>\n",
       "      <td>NaN</td>\n",
       "      <td>NaN</td>\n",
       "      <td>2017-09-18 18:25:22</td>\n",
       "      <td>2017-09-18 18:34:38</td>\n",
       "    </tr>\n",
       "  </tbody>\n",
       "</table>\n",
       "</div>"
      ],
      "text/plain": [
       "                            0                                 1           2  \\\n",
       "0  MBK86206238681505730314773  45e985b3dcb859d70a4631fc88d88bd2  8620623868   \n",
       "1  MBK86203240971505730314611  c2d73ddc923e4c21f857e5841212e849  8620324097   \n",
       "2  MBK02565733401505730314662  0e11477c7d559fe7b780d68875357b96   256573340   \n",
       "3  MBK02560370341505730314931  d50596c0f8d0695fafe6e54d6ab71feb   256037034   \n",
       "4  MBK02560286211505730314713  4581a390b8193bce51598bd25518e976   256028621   \n",
       "\n",
       "         5        6           9         10          start_time  \\\n",
       "0  118.808  32.0524  118.815084  32.062967 2017-09-18 18:25:35   \n",
       "1  118.733  31.9878  118.730417  31.992373 2017-09-18 18:25:47   \n",
       "2  118.743  32.0934  118.742263  32.085911 2017-09-18 18:25:46   \n",
       "3   118.75  32.0645  118.748185  32.067683 2017-09-18 18:25:44   \n",
       "4  118.742  32.0449         NaN        NaN 2017-09-18 18:25:22   \n",
       "\n",
       "             end_time  \n",
       "0 2017-09-18 19:18:28  \n",
       "1 2017-09-18 18:32:08  \n",
       "2 2017-09-18 18:30:34  \n",
       "3 2017-09-18 18:28:39  \n",
       "4 2017-09-18 18:34:38  "
      ]
     },
     "execution_count": 7,
     "metadata": {},
     "output_type": "execute_result"
    }
   ],
   "source": [
    "mobike_ori.drop(columns=[3,4,7,8,11],inplace=True)\n",
    "mobike_ori.head()"
   ]
  },
  {
   "cell_type": "code",
   "execution_count": 8,
   "metadata": {
    "ExecuteTime": {
     "end_time": "2019-05-14T18:03:35.225225Z",
     "start_time": "2019-05-14T18:03:33.993948Z"
    }
   },
   "outputs": [
    {
     "data": {
      "text/html": [
       "<div>\n",
       "<style scoped>\n",
       "    .dataframe tbody tr th:only-of-type {\n",
       "        vertical-align: middle;\n",
       "    }\n",
       "\n",
       "    .dataframe tbody tr th {\n",
       "        vertical-align: top;\n",
       "    }\n",
       "\n",
       "    .dataframe thead th {\n",
       "        text-align: right;\n",
       "    }\n",
       "</style>\n",
       "<table border=\"1\" class=\"dataframe\">\n",
       "  <thead>\n",
       "    <tr style=\"text-align: right;\">\n",
       "      <th></th>\n",
       "      <th>record_id</th>\n",
       "      <th>user_id</th>\n",
       "      <th>bike_id</th>\n",
       "      <th>start_lon</th>\n",
       "      <th>start_lat</th>\n",
       "      <th>end_lon</th>\n",
       "      <th>end_lat</th>\n",
       "      <th>start_time</th>\n",
       "      <th>end_time</th>\n",
       "    </tr>\n",
       "  </thead>\n",
       "  <tbody>\n",
       "    <tr>\n",
       "      <th>0</th>\n",
       "      <td>MBK86206238681505730314773</td>\n",
       "      <td>45e985b3dcb859d70a4631fc88d88bd2</td>\n",
       "      <td>8620623868</td>\n",
       "      <td>118.808</td>\n",
       "      <td>32.0524</td>\n",
       "      <td>118.815084</td>\n",
       "      <td>32.062967</td>\n",
       "      <td>2017-09-18 18:25:35</td>\n",
       "      <td>2017-09-18 19:18:28</td>\n",
       "    </tr>\n",
       "    <tr>\n",
       "      <th>1</th>\n",
       "      <td>MBK86203240971505730314611</td>\n",
       "      <td>c2d73ddc923e4c21f857e5841212e849</td>\n",
       "      <td>8620324097</td>\n",
       "      <td>118.733</td>\n",
       "      <td>31.9878</td>\n",
       "      <td>118.730417</td>\n",
       "      <td>31.992373</td>\n",
       "      <td>2017-09-18 18:25:47</td>\n",
       "      <td>2017-09-18 18:32:08</td>\n",
       "    </tr>\n",
       "    <tr>\n",
       "      <th>2</th>\n",
       "      <td>MBK02565733401505730314662</td>\n",
       "      <td>0e11477c7d559fe7b780d68875357b96</td>\n",
       "      <td>256573340</td>\n",
       "      <td>118.743</td>\n",
       "      <td>32.0934</td>\n",
       "      <td>118.742263</td>\n",
       "      <td>32.085911</td>\n",
       "      <td>2017-09-18 18:25:46</td>\n",
       "      <td>2017-09-18 18:30:34</td>\n",
       "    </tr>\n",
       "    <tr>\n",
       "      <th>3</th>\n",
       "      <td>MBK02560370341505730314931</td>\n",
       "      <td>d50596c0f8d0695fafe6e54d6ab71feb</td>\n",
       "      <td>256037034</td>\n",
       "      <td>118.75</td>\n",
       "      <td>32.0645</td>\n",
       "      <td>118.748185</td>\n",
       "      <td>32.067683</td>\n",
       "      <td>2017-09-18 18:25:44</td>\n",
       "      <td>2017-09-18 18:28:39</td>\n",
       "    </tr>\n",
       "    <tr>\n",
       "      <th>4</th>\n",
       "      <td>MBK02560286211505730314713</td>\n",
       "      <td>4581a390b8193bce51598bd25518e976</td>\n",
       "      <td>256028621</td>\n",
       "      <td>118.742</td>\n",
       "      <td>32.0449</td>\n",
       "      <td>NaN</td>\n",
       "      <td>NaN</td>\n",
       "      <td>2017-09-18 18:25:22</td>\n",
       "      <td>2017-09-18 18:34:38</td>\n",
       "    </tr>\n",
       "  </tbody>\n",
       "</table>\n",
       "</div>"
      ],
      "text/plain": [
       "                    record_id                           user_id     bike_id  \\\n",
       "0  MBK86206238681505730314773  45e985b3dcb859d70a4631fc88d88bd2  8620623868   \n",
       "1  MBK86203240971505730314611  c2d73ddc923e4c21f857e5841212e849  8620324097   \n",
       "2  MBK02565733401505730314662  0e11477c7d559fe7b780d68875357b96   256573340   \n",
       "3  MBK02560370341505730314931  d50596c0f8d0695fafe6e54d6ab71feb   256037034   \n",
       "4  MBK02560286211505730314713  4581a390b8193bce51598bd25518e976   256028621   \n",
       "\n",
       "  start_lon start_lat     end_lon    end_lat          start_time  \\\n",
       "0   118.808   32.0524  118.815084  32.062967 2017-09-18 18:25:35   \n",
       "1   118.733   31.9878  118.730417  31.992373 2017-09-18 18:25:47   \n",
       "2   118.743   32.0934  118.742263  32.085911 2017-09-18 18:25:46   \n",
       "3    118.75   32.0645  118.748185  32.067683 2017-09-18 18:25:44   \n",
       "4   118.742   32.0449         NaN        NaN 2017-09-18 18:25:22   \n",
       "\n",
       "             end_time  \n",
       "0 2017-09-18 19:18:28  \n",
       "1 2017-09-18 18:32:08  \n",
       "2 2017-09-18 18:30:34  \n",
       "3 2017-09-18 18:28:39  \n",
       "4 2017-09-18 18:34:38  "
      ]
     },
     "execution_count": 8,
     "metadata": {},
     "output_type": "execute_result"
    }
   ],
   "source": [
    "mobike_ori.rename(index=str, columns={0: \"record_id\", 1: \"user_id\",2: \"bike_id\", 5:\"start_lon\", 6:\"start_lat\",9:\"end_lon\",10:\"end_lat\"},inplace=True)\n",
    "mobike_ori.head()"
   ]
  },
  {
   "cell_type": "code",
   "execution_count": 9,
   "metadata": {
    "ExecuteTime": {
     "end_time": "2019-05-14T18:03:37.095122Z",
     "start_time": "2019-05-14T18:03:37.090135Z"
    }
   },
   "outputs": [
    {
     "data": {
      "text/plain": [
       "(3636629, 9)"
      ]
     },
     "execution_count": 9,
     "metadata": {},
     "output_type": "execute_result"
    }
   ],
   "source": [
    "mobike_ori.shape"
   ]
  },
  {
   "cell_type": "code",
   "execution_count": 10,
   "metadata": {
    "ExecuteTime": {
     "end_time": "2019-05-14T18:03:39.449732Z",
     "start_time": "2019-05-14T18:03:38.630199Z"
    },
    "scrolled": true
   },
   "outputs": [
    {
     "data": {
      "text/plain": [
       "(3619115, 9)"
      ]
     },
     "execution_count": 10,
     "metadata": {},
     "output_type": "execute_result"
    }
   ],
   "source": [
    "#drop rows where coordinates are Nan\n",
    "mobike = mobike_ori.dropna(how='any',subset=['start_lon','start_lat','end_lon','end_lat'])\n",
    "mobike.shape"
   ]
  },
  {
   "cell_type": "code",
   "execution_count": 11,
   "metadata": {
    "ExecuteTime": {
     "end_time": "2019-05-14T18:03:40.496425Z",
     "start_time": "2019-05-14T18:03:40.490479Z"
    }
   },
   "outputs": [
    {
     "data": {
      "text/plain": [
       "record_id             object\n",
       "user_id               object\n",
       "bike_id               object\n",
       "start_lon             object\n",
       "start_lat             object\n",
       "end_lon              float64\n",
       "end_lat              float64\n",
       "start_time    datetime64[ns]\n",
       "end_time      datetime64[ns]\n",
       "dtype: object"
      ]
     },
     "execution_count": 11,
     "metadata": {},
     "output_type": "execute_result"
    }
   ],
   "source": [
    "mobike.dtypes"
   ]
  },
  {
   "cell_type": "code",
   "execution_count": 12,
   "metadata": {
    "ExecuteTime": {
     "end_time": "2019-05-14T18:03:42.713783Z",
     "start_time": "2019-05-14T18:03:41.767871Z"
    }
   },
   "outputs": [],
   "source": [
    "zone = gpd.read_file('shp_file/zone_125m_wgs84.shp')"
   ]
  },
  {
   "cell_type": "code",
   "execution_count": 13,
   "metadata": {
    "ExecuteTime": {
     "end_time": "2019-05-14T18:03:44.457770Z",
     "start_time": "2019-05-14T18:03:44.448295Z"
    },
    "scrolled": true
   },
   "outputs": [
    {
     "name": "stdout",
     "output_type": "stream",
     "text": [
      "I am densified (5 elements)\n",
      "I am densified (5 elements)\n"
     ]
    },
    {
     "data": {
      "text/html": [
       "<div>\n",
       "<style scoped>\n",
       "    .dataframe tbody tr th:only-of-type {\n",
       "        vertical-align: middle;\n",
       "    }\n",
       "\n",
       "    .dataframe tbody tr th {\n",
       "        vertical-align: top;\n",
       "    }\n",
       "\n",
       "    .dataframe thead th {\n",
       "        text-align: right;\n",
       "    }\n",
       "</style>\n",
       "<table border=\"1\" class=\"dataframe\">\n",
       "  <thead>\n",
       "    <tr style=\"text-align: right;\">\n",
       "      <th></th>\n",
       "      <th>start_id</th>\n",
       "      <th>end_id</th>\n",
       "      <th>geometry</th>\n",
       "    </tr>\n",
       "  </thead>\n",
       "  <tbody>\n",
       "    <tr>\n",
       "      <th>0</th>\n",
       "      <td>0</td>\n",
       "      <td>0</td>\n",
       "      <td>POLYGON ((118.521625158895 31.8900790484462, 1...</td>\n",
       "    </tr>\n",
       "    <tr>\n",
       "      <th>1</th>\n",
       "      <td>1</td>\n",
       "      <td>1</td>\n",
       "      <td>POLYGON ((118.5242678257038 31.89004738004776,...</td>\n",
       "    </tr>\n",
       "    <tr>\n",
       "      <th>2</th>\n",
       "      <td>2</td>\n",
       "      <td>2</td>\n",
       "      <td>POLYGON ((118.5269104883526 31.8900156567382, ...</td>\n",
       "    </tr>\n",
       "    <tr>\n",
       "      <th>3</th>\n",
       "      <td>3</td>\n",
       "      <td>3</td>\n",
       "      <td>POLYGON ((118.5295531468342 31.88998387851783,...</td>\n",
       "    </tr>\n",
       "    <tr>\n",
       "      <th>4</th>\n",
       "      <td>4</td>\n",
       "      <td>4</td>\n",
       "      <td>POLYGON ((118.5321958011414 31.88995204538694,...</td>\n",
       "    </tr>\n",
       "  </tbody>\n",
       "</table>\n",
       "</div>"
      ],
      "text/plain": [
       "   start_id  end_id                                           geometry\n",
       "0         0       0  POLYGON ((118.521625158895 31.8900790484462, 1...\n",
       "1         1       1  POLYGON ((118.5242678257038 31.89004738004776,...\n",
       "2         2       2  POLYGON ((118.5269104883526 31.8900156567382, ...\n",
       "3         3       3  POLYGON ((118.5295531468342 31.88998387851783,...\n",
       "4         4       4  POLYGON ((118.5321958011414 31.88995204538694,..."
      ]
     },
     "execution_count": 13,
     "metadata": {},
     "output_type": "execute_result"
    }
   ],
   "source": [
    "zone.head()"
   ]
  },
  {
   "cell_type": "code",
   "execution_count": 14,
   "metadata": {
    "ExecuteTime": {
     "end_time": "2019-05-14T18:03:47.260204Z",
     "start_time": "2019-05-14T18:03:47.256217Z"
    }
   },
   "outputs": [
    {
     "data": {
      "text/plain": [
       "{'init': 'epsg:4326'}"
      ]
     },
     "execution_count": 14,
     "metadata": {},
     "output_type": "execute_result"
    }
   ],
   "source": [
    "zone.crs"
   ]
  },
  {
   "cell_type": "code",
   "execution_count": 15,
   "metadata": {
    "ExecuteTime": {
     "end_time": "2019-05-14T18:03:51.016524Z",
     "start_time": "2019-05-14T18:03:48.809995Z"
    },
    "scrolled": true
   },
   "outputs": [
    {
     "name": "stderr",
     "output_type": "stream",
     "text": [
      "D:\\Users\\great\\Anaconda3\\envs\\py364\\lib\\site-packages\\ipykernel_launcher.py:1: SettingWithCopyWarning: \n",
      "A value is trying to be set on a copy of a slice from a DataFrame.\n",
      "Try using .loc[row_indexer,col_indexer] = value instead\n",
      "\n",
      "See the caveats in the documentation: http://pandas.pydata.org/pandas-docs/stable/indexing.html#indexing-view-versus-copy\n",
      "  \"\"\"Entry point for launching an IPython kernel.\n",
      "D:\\Users\\great\\Anaconda3\\envs\\py364\\lib\\site-packages\\ipykernel_launcher.py:2: SettingWithCopyWarning: \n",
      "A value is trying to be set on a copy of a slice from a DataFrame.\n",
      "Try using .loc[row_indexer,col_indexer] = value instead\n",
      "\n",
      "See the caveats in the documentation: http://pandas.pydata.org/pandas-docs/stable/indexing.html#indexing-view-versus-copy\n",
      "  \n",
      "D:\\Users\\great\\Anaconda3\\envs\\py364\\lib\\site-packages\\ipykernel_launcher.py:3: SettingWithCopyWarning: \n",
      "A value is trying to be set on a copy of a slice from a DataFrame.\n",
      "Try using .loc[row_indexer,col_indexer] = value instead\n",
      "\n",
      "See the caveats in the documentation: http://pandas.pydata.org/pandas-docs/stable/indexing.html#indexing-view-versus-copy\n",
      "  This is separate from the ipykernel package so we can avoid doing imports until\n",
      "D:\\Users\\great\\Anaconda3\\envs\\py364\\lib\\site-packages\\ipykernel_launcher.py:4: SettingWithCopyWarning: \n",
      "A value is trying to be set on a copy of a slice from a DataFrame.\n",
      "Try using .loc[row_indexer,col_indexer] = value instead\n",
      "\n",
      "See the caveats in the documentation: http://pandas.pydata.org/pandas-docs/stable/indexing.html#indexing-view-versus-copy\n",
      "  after removing the cwd from sys.path.\n",
      "D:\\Users\\great\\Anaconda3\\envs\\py364\\lib\\site-packages\\ipykernel_launcher.py:5: SettingWithCopyWarning: \n",
      "A value is trying to be set on a copy of a slice from a DataFrame.\n",
      "Try using .loc[row_indexer,col_indexer] = value instead\n",
      "\n",
      "See the caveats in the documentation: http://pandas.pydata.org/pandas-docs/stable/indexing.html#indexing-view-versus-copy\n",
      "  \"\"\"\n"
     ]
    },
    {
     "data": {
      "text/plain": [
       "record_id             object\n",
       "user_id               object\n",
       "bike_id               object\n",
       "start_lon            float64\n",
       "start_lat            float64\n",
       "end_lon              float64\n",
       "end_lat              float64\n",
       "start_time    datetime64[ns]\n",
       "end_time      datetime64[ns]\n",
       "dtype: object"
      ]
     },
     "execution_count": 15,
     "metadata": {},
     "output_type": "execute_result"
    }
   ],
   "source": [
    "mobike['start_lon'] = mobike['start_lon'].astype(float)\n",
    "mobike['start_lat'] = mobike['start_lat'].astype(float)\n",
    "mobike['record_id'] = mobike['record_id'].astype(str)\n",
    "mobike['user_id'] = mobike['user_id'].astype(str)\n",
    "mobike['bike_id'] = mobike['bike_id'].astype(str)\n",
    "mobike.dtypes"
   ]
  },
  {
   "cell_type": "code",
   "execution_count": 16,
   "metadata": {
    "ExecuteTime": {
     "end_time": "2019-05-14T18:03:55.952049Z",
     "start_time": "2019-05-14T18:03:52.431262Z"
    }
   },
   "outputs": [],
   "source": [
    "mobike_dask = dd.from_pandas(mobike, npartitions=10)"
   ]
  },
  {
   "cell_type": "code",
   "execution_count": 17,
   "metadata": {
    "ExecuteTime": {
     "end_time": "2019-05-14T18:03:57.156610Z",
     "start_time": "2019-05-14T18:03:57.147636Z"
    }
   },
   "outputs": [],
   "source": [
    "mobike_dask_start = mobike_dask.set_geometry(mobike_dask[['start_lon','start_lat']], crs={'init' :'epsg:4326'})"
   ]
  },
  {
   "cell_type": "code",
   "execution_count": 18,
   "metadata": {
    "ExecuteTime": {
     "end_time": "2019-05-14T18:03:58.225863Z",
     "start_time": "2019-05-14T18:03:58.219879Z"
    }
   },
   "outputs": [
    {
     "data": {
      "text/plain": [
       "dask_geopandas.core.GeoDataFrame"
      ]
     },
     "execution_count": 18,
     "metadata": {},
     "output_type": "execute_result"
    }
   ],
   "source": [
    "type(mobike_dask_start)"
   ]
  },
  {
   "cell_type": "code",
   "execution_count": 19,
   "metadata": {
    "ExecuteTime": {
     "end_time": "2019-05-14T18:03:59.675784Z",
     "start_time": "2019-05-14T18:03:59.650854Z"
    },
    "scrolled": false
   },
   "outputs": [
    {
     "name": "stderr",
     "output_type": "stream",
     "text": [
      "D:\\Users\\great\\Anaconda3\\envs\\py364\\lib\\site-packages\\geopandas\\tools\\sjoin.py:53: UserWarning: CRS of frames being joined does not match!\n",
      "  warn('CRS of frames being joined does not match!')\n"
     ]
    }
   ],
   "source": [
    "mobike_dask_start_1 = dg.sjoin(mobike_dask_start,zone[['start_id','geometry']])\n",
    "full = mobike_dask_start_1[['record_id','user_id','bike_id','start_lon','start_lat','end_lon','end_lat','start_id','start_time','end_time']]\n",
    "#full.to_parquet('test.parquet')\n",
    "#full = dd.read_parquet('test.parquet')\n",
    "#full.head()"
   ]
  },
  {
   "cell_type": "code",
   "execution_count": 20,
   "metadata": {
    "ExecuteTime": {
     "end_time": "2019-05-14T18:04:00.776916Z",
     "start_time": "2019-05-14T18:04:00.771929Z"
    }
   },
   "outputs": [
    {
     "data": {
      "text/plain": [
       "dask.dataframe.core.DataFrame"
      ]
     },
     "execution_count": 20,
     "metadata": {},
     "output_type": "execute_result"
    }
   ],
   "source": [
    "type(full)"
   ]
  },
  {
   "cell_type": "code",
   "execution_count": 21,
   "metadata": {
    "ExecuteTime": {
     "end_time": "2019-05-14T18:04:02.443145Z",
     "start_time": "2019-05-14T18:04:02.437161Z"
    }
   },
   "outputs": [],
   "source": [
    "full = full.set_geometry(full[['end_lon','end_lat']], crs={'init' :'epsg:4326'})"
   ]
  },
  {
   "cell_type": "code",
   "execution_count": 22,
   "metadata": {
    "ExecuteTime": {
     "end_time": "2019-05-14T18:04:05.815736Z",
     "start_time": "2019-05-14T18:04:05.793485Z"
    }
   },
   "outputs": [],
   "source": [
    "mobike_dask_start_1 = dg.sjoin(full,zone[['end_id','geometry']])\n",
    "full = mobike_dask_start_1[['record_id','user_id','bike_id','start_lon','start_lat','end_lon','end_lat','start_id','end_id','start_time','end_time']]"
   ]
  },
  {
   "cell_type": "code",
   "execution_count": 23,
   "metadata": {
    "ExecuteTime": {
     "end_time": "2019-05-14T18:10:25.873251Z",
     "start_time": "2019-05-14T18:04:07.064223Z"
    }
   },
   "outputs": [],
   "source": [
    "full.to_parquet('test.parquet')"
   ]
  },
  {
   "cell_type": "code",
   "execution_count": 24,
   "metadata": {
    "ExecuteTime": {
     "end_time": "2019-05-14T18:14:46.516514Z",
     "start_time": "2019-05-14T18:14:46.500535Z"
    }
   },
   "outputs": [],
   "source": [
    "aa = dd.read_parquet('test.parquet')"
   ]
  },
  {
   "cell_type": "code",
   "execution_count": 27,
   "metadata": {
    "ExecuteTime": {
     "end_time": "2019-05-14T18:15:36.423994Z",
     "start_time": "2019-05-14T18:15:36.297297Z"
    }
   },
   "outputs": [
    {
     "data": {
      "text/html": [
       "<div>\n",
       "<style scoped>\n",
       "    .dataframe tbody tr th:only-of-type {\n",
       "        vertical-align: middle;\n",
       "    }\n",
       "\n",
       "    .dataframe tbody tr th {\n",
       "        vertical-align: top;\n",
       "    }\n",
       "\n",
       "    .dataframe thead th {\n",
       "        text-align: right;\n",
       "    }\n",
       "</style>\n",
       "<table border=\"1\" class=\"dataframe\">\n",
       "  <thead>\n",
       "    <tr style=\"text-align: right;\">\n",
       "      <th></th>\n",
       "      <th>record_id</th>\n",
       "      <th>user_id</th>\n",
       "      <th>bike_id</th>\n",
       "      <th>start_lon</th>\n",
       "      <th>start_lat</th>\n",
       "      <th>end_lon</th>\n",
       "      <th>end_lat</th>\n",
       "      <th>start_id</th>\n",
       "      <th>end_id</th>\n",
       "      <th>start_time</th>\n",
       "      <th>end_time</th>\n",
       "    </tr>\n",
       "  </thead>\n",
       "  <tbody>\n",
       "    <tr>\n",
       "      <th>0</th>\n",
       "      <td>MBK86206238681505730314773</td>\n",
       "      <td>45e985b3dcb859d70a4631fc88d88bd2</td>\n",
       "      <td>8620623868</td>\n",
       "      <td>118.808255</td>\n",
       "      <td>32.052393</td>\n",
       "      <td>118.815084</td>\n",
       "      <td>32.062967</td>\n",
       "      <td>17616</td>\n",
       "      <td>18649</td>\n",
       "      <td>2017-09-18 18:25:35</td>\n",
       "      <td>2017-09-18 19:18:28</td>\n",
       "    </tr>\n",
       "    <tr>\n",
       "      <th>1</th>\n",
       "      <td>MBK86203240971505730314611</td>\n",
       "      <td>c2d73ddc923e4c21f857e5841212e849</td>\n",
       "      <td>8620324097</td>\n",
       "      <td>118.733422</td>\n",
       "      <td>31.987824</td>\n",
       "      <td>118.730417</td>\n",
       "      <td>31.992373</td>\n",
       "      <td>10584</td>\n",
       "      <td>10995</td>\n",
       "      <td>2017-09-18 18:25:47</td>\n",
       "      <td>2017-09-18 18:32:08</td>\n",
       "    </tr>\n",
       "    <tr>\n",
       "      <th>2</th>\n",
       "      <td>MBK86208648501505730313755</td>\n",
       "      <td>75c79a973762cc855b0a83520455121a</td>\n",
       "      <td>8620864850</td>\n",
       "      <td>118.737325</td>\n",
       "      <td>32.136352</td>\n",
       "      <td>118.739070</td>\n",
       "      <td>32.133887</td>\n",
       "      <td>26241</td>\n",
       "      <td>26036</td>\n",
       "      <td>2017-09-18 18:25:52</td>\n",
       "      <td>2017-09-18 18:30:36</td>\n",
       "    </tr>\n",
       "    <tr>\n",
       "      <th>3</th>\n",
       "      <td>MBK86204835351505730309626</td>\n",
       "      <td>844d89f4d8dc7d1cbe6930c12daac9d6</td>\n",
       "      <td>8620483535</td>\n",
       "      <td>118.811291</td>\n",
       "      <td>32.102423</td>\n",
       "      <td>118.840387</td>\n",
       "      <td>32.105020</td>\n",
       "      <td>22973</td>\n",
       "      <td>23190</td>\n",
       "      <td>2017-09-18 18:25:22</td>\n",
       "      <td>2017-09-18 18:41:40</td>\n",
       "    </tr>\n",
       "    <tr>\n",
       "      <th>4</th>\n",
       "      <td>MBK02500853931505730256250</td>\n",
       "      <td>f1959964a0dbe802d2bbcffde841ee81</td>\n",
       "      <td>250085393</td>\n",
       "      <td>118.797169</td>\n",
       "      <td>32.048483</td>\n",
       "      <td>118.789400</td>\n",
       "      <td>32.048150</td>\n",
       "      <td>17200</td>\n",
       "      <td>16992</td>\n",
       "      <td>2017-09-18 18:24:36</td>\n",
       "      <td>2017-09-18 18:33:02</td>\n",
       "    </tr>\n",
       "  </tbody>\n",
       "</table>\n",
       "</div>"
      ],
      "text/plain": [
       "                    record_id                           user_id     bike_id  \\\n",
       "0  MBK86206238681505730314773  45e985b3dcb859d70a4631fc88d88bd2  8620623868   \n",
       "1  MBK86203240971505730314611  c2d73ddc923e4c21f857e5841212e849  8620324097   \n",
       "2  MBK86208648501505730313755  75c79a973762cc855b0a83520455121a  8620864850   \n",
       "3  MBK86204835351505730309626  844d89f4d8dc7d1cbe6930c12daac9d6  8620483535   \n",
       "4  MBK02500853931505730256250  f1959964a0dbe802d2bbcffde841ee81   250085393   \n",
       "\n",
       "    start_lon  start_lat     end_lon    end_lat  start_id  end_id  \\\n",
       "0  118.808255  32.052393  118.815084  32.062967     17616   18649   \n",
       "1  118.733422  31.987824  118.730417  31.992373     10584   10995   \n",
       "2  118.737325  32.136352  118.739070  32.133887     26241   26036   \n",
       "3  118.811291  32.102423  118.840387  32.105020     22973   23190   \n",
       "4  118.797169  32.048483  118.789400  32.048150     17200   16992   \n",
       "\n",
       "           start_time            end_time  \n",
       "0 2017-09-18 18:25:35 2017-09-18 19:18:28  \n",
       "1 2017-09-18 18:25:47 2017-09-18 18:32:08  \n",
       "2 2017-09-18 18:25:52 2017-09-18 18:30:36  \n",
       "3 2017-09-18 18:25:22 2017-09-18 18:41:40  \n",
       "4 2017-09-18 18:24:36 2017-09-18 18:33:02  "
      ]
     },
     "execution_count": 27,
     "metadata": {},
     "output_type": "execute_result"
    }
   ],
   "source": [
    "aa.head()"
   ]
  },
  {
   "cell_type": "code",
   "execution_count": 26,
   "metadata": {
    "ExecuteTime": {
     "end_time": "2019-05-14T18:15:18.668382Z",
     "start_time": "2019-05-14T18:15:18.663396Z"
    }
   },
   "outputs": [
    {
     "data": {
      "text/plain": [
       "record_id             object\n",
       "user_id               object\n",
       "bike_id               object\n",
       "start_lon            float64\n",
       "start_lat            float64\n",
       "end_lon              float64\n",
       "end_lat              float64\n",
       "start_id               int64\n",
       "end_id                 int64\n",
       "start_time    datetime64[ns]\n",
       "end_time      datetime64[ns]\n",
       "dtype: object"
      ]
     },
     "execution_count": 26,
     "metadata": {},
     "output_type": "execute_result"
    }
   ],
   "source": [
    "aa.dtypes"
   ]
  },
  {
   "cell_type": "markdown",
   "metadata": {},
   "source": [
    "### Things below didnt work out due to the large size of the dataset. it's very slow to do point in polygon query just using geopandas and shapely."
   ]
  },
  {
   "cell_type": "code",
   "execution_count": null,
   "metadata": {
    "ExecuteTime": {
     "start_time": "2019-05-14T02:10:42.885Z"
    }
   },
   "outputs": [],
   "source": [
    "# create GeoDataFrame from DataFrame. store start_point and end_point coordinates in MultiPoint as the geometry of the GeoDataFrame\n",
    "#mobike_geo = gpd.GeoDataFrame(mobike, geometry = [MultiPoint([Point(x_1,y_1),Point(x_2,y_2)]) for x_1, y_1, x_2, y_2 in zip(mobike['start_lon'], mobike['start_lat'],mobike['end_lon'],mobike['end_lat'])])"
   ]
  },
  {
   "cell_type": "code",
   "execution_count": null,
   "metadata": {
    "ExecuteTime": {
     "start_time": "2019-05-14T02:10:42.886Z"
    }
   },
   "outputs": [],
   "source": [
    "#print(mobike_geo.crs)"
   ]
  },
  {
   "cell_type": "code",
   "execution_count": null,
   "metadata": {
    "ExecuteTime": {
     "start_time": "2019-05-14T02:10:42.891Z"
    }
   },
   "outputs": [],
   "source": [
    "def assign_point_to_polygon(row, start_point_index = 'start_point', end_point_index = 'end_point', grid_data = hexgon_grid.to_crs(epsg=4326), src_col='geometry'):\n",
    "    grid_data.apply()\n",
    "    for index, row_1 in grid_data.itertuples():\n",
    "        start_lon = row['start_lon']\n",
    "        start_lat = row['start_lat']\n",
    "        end_lon = row['end_lon']\n",
    "        end_lat = row['end_lat']\n",
    "        # if record is beyond all polygons, set point id to 99999\n",
    "        start_id = 99999\n",
    "        end_id = 99999\n",
    "        if row_1.contains(Point(start_lon,start_lat)):\n",
    "            start_id = index\n",
    "        if row_1.contains(Point(end_lon,end_lat)):\n",
    "            end_id = index\n",
    "    row[start_point_index] = start_id\n",
    "    row[end_point_index] = end_id\n",
    "    print(start_id)\n",
    "    return row"
   ]
  },
  {
   "cell_type": "code",
   "execution_count": null,
   "metadata": {
    "ExecuteTime": {
     "start_time": "2019-05-14T02:10:42.892Z"
    },
    "scrolled": true
   },
   "outputs": [],
   "source": [
    "mobike = mobike.apply(assign_point_to_polygon,axis=1)"
   ]
  }
 ],
 "metadata": {
  "kernelspec": {
   "display_name": "Python [conda env:py364]",
   "language": "python",
   "name": "conda-env-py364-py"
  },
  "language_info": {
   "codemirror_mode": {
    "name": "ipython",
    "version": 3
   },
   "file_extension": ".py",
   "mimetype": "text/x-python",
   "name": "python",
   "nbconvert_exporter": "python",
   "pygments_lexer": "ipython3",
   "version": "3.6.4"
  },
  "varInspector": {
   "cols": {
    "lenName": 16,
    "lenType": 16,
    "lenVar": 40
   },
   "kernels_config": {
    "python": {
     "delete_cmd_postfix": "",
     "delete_cmd_prefix": "del ",
     "library": "var_list.py",
     "varRefreshCmd": "print(var_dic_list())"
    },
    "r": {
     "delete_cmd_postfix": ") ",
     "delete_cmd_prefix": "rm(",
     "library": "var_list.r",
     "varRefreshCmd": "cat(var_dic_list()) "
    }
   },
   "position": {
    "height": "144px",
    "left": "1185.4px",
    "right": "20px",
    "top": "127px",
    "width": "350px"
   },
   "types_to_exclude": [
    "module",
    "function",
    "builtin_function_or_method",
    "instance",
    "_Feature"
   ],
   "window_display": true
  }
 },
 "nbformat": 4,
 "nbformat_minor": 2
}
