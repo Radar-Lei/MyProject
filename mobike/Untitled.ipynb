{
 "cells": [
  {
   "cell_type": "code",
   "execution_count": 1,
   "metadata": {
    "ExecuteTime": {
     "end_time": "2019-05-15T19:31:07.007262Z",
     "start_time": "2019-05-15T19:31:06.153493Z"
    }
   },
   "outputs": [],
   "source": [
    "import pandas as pd\n",
    "import numpy as np\n",
    "import dask.dataframe as dd\n",
    "import dask"
   ]
  },
  {
   "cell_type": "code",
   "execution_count": 2,
   "metadata": {
    "ExecuteTime": {
     "end_time": "2019-05-15T19:31:08.938920Z",
     "start_time": "2019-05-15T19:31:08.160946Z"
    }
   },
   "outputs": [],
   "source": [
    "mobike_par = dd.read_parquet('test.parquet',engine='pyarrow')"
   ]
  },
  {
   "cell_type": "code",
   "execution_count": 3,
   "metadata": {
    "ExecuteTime": {
     "end_time": "2019-05-15T19:31:18.655200Z",
     "start_time": "2019-05-15T19:31:17.462353Z"
    }
   },
   "outputs": [
    {
     "name": "stderr",
     "output_type": "stream",
     "text": [
      "d:\\Users\\great\\Anaconda3\\envs\\py37\\lib\\site-packages\\pyarrow\\pandas_compat.py:708: FutureWarning: .labels was deprecated in version 0.24.0. Use .codes instead.\n",
      "  labels = getattr(columns, 'labels', None) or [\n",
      "d:\\Users\\great\\Anaconda3\\envs\\py37\\lib\\site-packages\\pyarrow\\pandas_compat.py:735: FutureWarning: the 'labels' keyword is deprecated, use 'codes' instead\n",
      "  return pd.MultiIndex(levels=new_levels, labels=labels, names=columns.names)\n",
      "d:\\Users\\great\\Anaconda3\\envs\\py37\\lib\\site-packages\\pyarrow\\pandas_compat.py:752: FutureWarning: .labels was deprecated in version 0.24.0. Use .codes instead.\n",
      "  labels, = index.labels\n"
     ]
    },
    {
     "data": {
      "text/html": [
       "<div>\n",
       "<style scoped>\n",
       "    .dataframe tbody tr th:only-of-type {\n",
       "        vertical-align: middle;\n",
       "    }\n",
       "\n",
       "    .dataframe tbody tr th {\n",
       "        vertical-align: top;\n",
       "    }\n",
       "\n",
       "    .dataframe thead th {\n",
       "        text-align: right;\n",
       "    }\n",
       "</style>\n",
       "<table border=\"1\" class=\"dataframe\">\n",
       "  <thead>\n",
       "    <tr style=\"text-align: right;\">\n",
       "      <th></th>\n",
       "      <th>record_id</th>\n",
       "      <th>user_id</th>\n",
       "      <th>bike_id</th>\n",
       "      <th>start_lon</th>\n",
       "      <th>start_lat</th>\n",
       "      <th>end_lon</th>\n",
       "      <th>end_lat</th>\n",
       "      <th>start_id</th>\n",
       "      <th>end_id</th>\n",
       "      <th>start_time</th>\n",
       "      <th>end_time</th>\n",
       "    </tr>\n",
       "  </thead>\n",
       "  <tbody>\n",
       "    <tr>\n",
       "      <th>0</th>\n",
       "      <td>MBK86206238681505730314773</td>\n",
       "      <td>45e985b3dcb859d70a4631fc88d88bd2</td>\n",
       "      <td>8620623868</td>\n",
       "      <td>118.808255</td>\n",
       "      <td>32.052393</td>\n",
       "      <td>118.815084</td>\n",
       "      <td>32.062967</td>\n",
       "      <td>17616</td>\n",
       "      <td>18649</td>\n",
       "      <td>2017-09-18 18:25:35</td>\n",
       "      <td>2017-09-18 19:18:28</td>\n",
       "    </tr>\n",
       "    <tr>\n",
       "      <th>1</th>\n",
       "      <td>MBK86203240971505730314611</td>\n",
       "      <td>c2d73ddc923e4c21f857e5841212e849</td>\n",
       "      <td>8620324097</td>\n",
       "      <td>118.733422</td>\n",
       "      <td>31.987824</td>\n",
       "      <td>118.730417</td>\n",
       "      <td>31.992373</td>\n",
       "      <td>10584</td>\n",
       "      <td>10995</td>\n",
       "      <td>2017-09-18 18:25:47</td>\n",
       "      <td>2017-09-18 18:32:08</td>\n",
       "    </tr>\n",
       "    <tr>\n",
       "      <th>2</th>\n",
       "      <td>MBK86208648501505730313755</td>\n",
       "      <td>75c79a973762cc855b0a83520455121a</td>\n",
       "      <td>8620864850</td>\n",
       "      <td>118.737325</td>\n",
       "      <td>32.136352</td>\n",
       "      <td>118.739070</td>\n",
       "      <td>32.133887</td>\n",
       "      <td>26241</td>\n",
       "      <td>26036</td>\n",
       "      <td>2017-09-18 18:25:52</td>\n",
       "      <td>2017-09-18 18:30:36</td>\n",
       "    </tr>\n",
       "    <tr>\n",
       "      <th>3</th>\n",
       "      <td>MBK86204835351505730309626</td>\n",
       "      <td>844d89f4d8dc7d1cbe6930c12daac9d6</td>\n",
       "      <td>8620483535</td>\n",
       "      <td>118.811291</td>\n",
       "      <td>32.102423</td>\n",
       "      <td>118.840387</td>\n",
       "      <td>32.105020</td>\n",
       "      <td>22973</td>\n",
       "      <td>23190</td>\n",
       "      <td>2017-09-18 18:25:22</td>\n",
       "      <td>2017-09-18 18:41:40</td>\n",
       "    </tr>\n",
       "    <tr>\n",
       "      <th>4</th>\n",
       "      <td>MBK02500853931505730256250</td>\n",
       "      <td>f1959964a0dbe802d2bbcffde841ee81</td>\n",
       "      <td>250085393</td>\n",
       "      <td>118.797169</td>\n",
       "      <td>32.048483</td>\n",
       "      <td>118.789400</td>\n",
       "      <td>32.048150</td>\n",
       "      <td>17200</td>\n",
       "      <td>16992</td>\n",
       "      <td>2017-09-18 18:24:36</td>\n",
       "      <td>2017-09-18 18:33:02</td>\n",
       "    </tr>\n",
       "  </tbody>\n",
       "</table>\n",
       "</div>"
      ],
      "text/plain": [
       "                    record_id                           user_id     bike_id  \\\n",
       "0  MBK86206238681505730314773  45e985b3dcb859d70a4631fc88d88bd2  8620623868   \n",
       "1  MBK86203240971505730314611  c2d73ddc923e4c21f857e5841212e849  8620324097   \n",
       "2  MBK86208648501505730313755  75c79a973762cc855b0a83520455121a  8620864850   \n",
       "3  MBK86204835351505730309626  844d89f4d8dc7d1cbe6930c12daac9d6  8620483535   \n",
       "4  MBK02500853931505730256250  f1959964a0dbe802d2bbcffde841ee81   250085393   \n",
       "\n",
       "    start_lon  start_lat     end_lon    end_lat  start_id  end_id  \\\n",
       "0  118.808255  32.052393  118.815084  32.062967     17616   18649   \n",
       "1  118.733422  31.987824  118.730417  31.992373     10584   10995   \n",
       "2  118.737325  32.136352  118.739070  32.133887     26241   26036   \n",
       "3  118.811291  32.102423  118.840387  32.105020     22973   23190   \n",
       "4  118.797169  32.048483  118.789400  32.048150     17200   16992   \n",
       "\n",
       "           start_time            end_time  \n",
       "0 2017-09-18 18:25:35 2017-09-18 19:18:28  \n",
       "1 2017-09-18 18:25:47 2017-09-18 18:32:08  \n",
       "2 2017-09-18 18:25:52 2017-09-18 18:30:36  \n",
       "3 2017-09-18 18:25:22 2017-09-18 18:41:40  \n",
       "4 2017-09-18 18:24:36 2017-09-18 18:33:02  "
      ]
     },
     "execution_count": 3,
     "metadata": {},
     "output_type": "execute_result"
    }
   ],
   "source": [
    "mobike_par.head()"
   ]
  },
  {
   "cell_type": "code",
   "execution_count": 4,
   "metadata": {
    "ExecuteTime": {
     "end_time": "2019-05-15T19:36:50.370161Z",
     "start_time": "2019-05-15T19:36:43.659436Z"
    },
    "scrolled": true
   },
   "outputs": [
    {
     "name": "stderr",
     "output_type": "stream",
     "text": [
      "d:\\Users\\great\\Anaconda3\\envs\\py37\\lib\\site-packages\\pyarrow\\pandas_compat.py:708: FutureWarning: .labels was deprecated in version 0.24.0. Use .codes instead.\n",
      "  labels = getattr(columns, 'labels', None) or [\n",
      "d:\\Users\\great\\Anaconda3\\envs\\py37\\lib\\site-packages\\pyarrow\\pandas_compat.py:735: FutureWarning: the 'labels' keyword is deprecated, use 'codes' instead\n",
      "  return pd.MultiIndex(levels=new_levels, labels=labels, names=columns.names)\n",
      "d:\\Users\\great\\Anaconda3\\envs\\py37\\lib\\site-packages\\pyarrow\\pandas_compat.py:752: FutureWarning: .labels was deprecated in version 0.24.0. Use .codes instead.\n",
      "  labels, = index.labels\n"
     ]
    }
   ],
   "source": [
    "mobike = mobike_par.compute()"
   ]
  },
  {
   "cell_type": "code",
   "execution_count": 11,
   "metadata": {
    "ExecuteTime": {
     "end_time": "2019-05-15T19:43:26.670170Z",
     "start_time": "2019-05-15T19:43:26.564449Z"
    }
   },
   "outputs": [
    {
     "data": {
      "text/plain": [
       "(582761, 11)"
      ]
     },
     "execution_count": 11,
     "metadata": {},
     "output_type": "execute_result"
    }
   ],
   "source": [
    "mobike[mobike['end_time'] < '2017-09-19'].shape"
   ]
  },
  {
   "cell_type": "code",
   "execution_count": 12,
   "metadata": {
    "ExecuteTime": {
     "end_time": "2019-05-15T19:43:28.924433Z",
     "start_time": "2019-05-15T19:43:28.843136Z"
    },
    "scrolled": false
   },
   "outputs": [],
   "source": [
    "mobike_0918 = mobike[mobike['end_time'] < '2017-09-19']"
   ]
  },
  {
   "cell_type": "code",
   "execution_count": 14,
   "metadata": {
    "ExecuteTime": {
     "end_time": "2019-05-15T19:44:21.196693Z",
     "start_time": "2019-05-15T19:44:21.192704Z"
    }
   },
   "outputs": [],
   "source": [
    "grouped = mobike_0918.groupby(mobike_0918['bike_id'])"
   ]
  },
  {
   "cell_type": "code",
   "execution_count": 15,
   "metadata": {
    "ExecuteTime": {
     "end_time": "2019-05-15T19:47:24.460062Z",
     "start_time": "2019-05-15T19:45:23.069316Z"
    }
   },
   "outputs": [],
   "source": [
    "final = grouped.apply(lambda t: t[t.end_time==t.end_time.max()]) # 筛选每组中时间最晚的行"
   ]
  },
  {
   "cell_type": "code",
   "execution_count": 18,
   "metadata": {
    "ExecuteTime": {
     "end_time": "2019-05-15T19:49:02.884760Z",
     "start_time": "2019-05-15T19:49:02.879745Z"
    }
   },
   "outputs": [
    {
     "data": {
      "text/plain": [
       "(142834, 11)"
      ]
     },
     "execution_count": 18,
     "metadata": {},
     "output_type": "execute_result"
    }
   ],
   "source": [
    "final.shape"
   ]
  },
  {
   "cell_type": "code",
   "execution_count": 16,
   "metadata": {
    "ExecuteTime": {
     "end_time": "2019-05-15T19:47:39.165866Z",
     "start_time": "2019-05-15T19:47:39.151936Z"
    }
   },
   "outputs": [
    {
     "data": {
      "text/html": [
       "<div>\n",
       "<style scoped>\n",
       "    .dataframe tbody tr th:only-of-type {\n",
       "        vertical-align: middle;\n",
       "    }\n",
       "\n",
       "    .dataframe tbody tr th {\n",
       "        vertical-align: top;\n",
       "    }\n",
       "\n",
       "    .dataframe thead th {\n",
       "        text-align: right;\n",
       "    }\n",
       "</style>\n",
       "<table border=\"1\" class=\"dataframe\">\n",
       "  <thead>\n",
       "    <tr style=\"text-align: right;\">\n",
       "      <th></th>\n",
       "      <th></th>\n",
       "      <th>record_id</th>\n",
       "      <th>user_id</th>\n",
       "      <th>bike_id</th>\n",
       "      <th>start_lon</th>\n",
       "      <th>start_lat</th>\n",
       "      <th>end_lon</th>\n",
       "      <th>end_lat</th>\n",
       "      <th>start_id</th>\n",
       "      <th>end_id</th>\n",
       "      <th>start_time</th>\n",
       "      <th>end_time</th>\n",
       "    </tr>\n",
       "    <tr>\n",
       "      <th>bike_id</th>\n",
       "      <th></th>\n",
       "      <th></th>\n",
       "      <th></th>\n",
       "      <th></th>\n",
       "      <th></th>\n",
       "      <th></th>\n",
       "      <th></th>\n",
       "      <th></th>\n",
       "      <th></th>\n",
       "      <th></th>\n",
       "      <th></th>\n",
       "      <th></th>\n",
       "    </tr>\n",
       "  </thead>\n",
       "  <tbody>\n",
       "    <tr>\n",
       "      <th>0200016316</th>\n",
       "      <th>193734</th>\n",
       "      <td>MBK02000163161505733131324</td>\n",
       "      <td>ad2bc587a11a15d1202b3158d2e8e232</td>\n",
       "      <td>0200016316</td>\n",
       "      <td>118.778353</td>\n",
       "      <td>31.973884</td>\n",
       "      <td>118.776342</td>\n",
       "      <td>31.966380</td>\n",
       "      <td>9160</td>\n",
       "      <td>8335</td>\n",
       "      <td>2017-09-18 19:12:16</td>\n",
       "      <td>2017-09-18 19:20:27</td>\n",
       "    </tr>\n",
       "    <tr>\n",
       "      <th>0210065229</th>\n",
       "      <th>241467</th>\n",
       "      <td>MBK02100652291505740689178</td>\n",
       "      <td>9e8d015afff28731f17800dc05985d57</td>\n",
       "      <td>0210065229</td>\n",
       "      <td>118.879767</td>\n",
       "      <td>31.927586</td>\n",
       "      <td>118.887541</td>\n",
       "      <td>31.924144</td>\n",
       "      <td>4460</td>\n",
       "      <td>4258</td>\n",
       "      <td>2017-09-18 21:18:13</td>\n",
       "      <td>2017-09-18 21:24:58</td>\n",
       "    </tr>\n",
       "    <tr>\n",
       "      <th>0210275301</th>\n",
       "      <th>184919</th>\n",
       "      <td>MBK02102753011505707678038</td>\n",
       "      <td>c8c514ca3887814b390aeef3e96e9f77</td>\n",
       "      <td>0210275301</td>\n",
       "      <td>118.777107</td>\n",
       "      <td>32.057175</td>\n",
       "      <td>118.781315</td>\n",
       "      <td>32.051858</td>\n",
       "      <td>18016</td>\n",
       "      <td>17401</td>\n",
       "      <td>2017-09-18 12:08:06</td>\n",
       "      <td>2017-09-18 12:14:46</td>\n",
       "    </tr>\n",
       "    <tr>\n",
       "      <th>0210275308</th>\n",
       "      <th>221890</th>\n",
       "      <td>MBK02102753081505709660325</td>\n",
       "      <td>85a6bcfa40485805e96f40c81325172b</td>\n",
       "      <td>0210275308</td>\n",
       "      <td>118.799797</td>\n",
       "      <td>32.018707</td>\n",
       "      <td>118.803700</td>\n",
       "      <td>32.026108</td>\n",
       "      <td>13905</td>\n",
       "      <td>14731</td>\n",
       "      <td>2017-09-18 12:41:08</td>\n",
       "      <td>2017-09-18 12:46:35</td>\n",
       "    </tr>\n",
       "    <tr>\n",
       "      <th>0210275309</th>\n",
       "      <th>249922</th>\n",
       "      <td>MBK02102753091505741109593</td>\n",
       "      <td>6b2ad0cbc96d7afe1a9ea64dc96457c5</td>\n",
       "      <td>0210275309</td>\n",
       "      <td>118.796953</td>\n",
       "      <td>32.085207</td>\n",
       "      <td>118.797443</td>\n",
       "      <td>32.086702</td>\n",
       "      <td>20908</td>\n",
       "      <td>21114</td>\n",
       "      <td>2017-09-18 21:25:15</td>\n",
       "      <td>2017-09-18 21:28:05</td>\n",
       "    </tr>\n",
       "  </tbody>\n",
       "</table>\n",
       "</div>"
      ],
      "text/plain": [
       "                                    record_id  \\\n",
       "bike_id                                         \n",
       "0200016316 193734  MBK02000163161505733131324   \n",
       "0210065229 241467  MBK02100652291505740689178   \n",
       "0210275301 184919  MBK02102753011505707678038   \n",
       "0210275308 221890  MBK02102753081505709660325   \n",
       "0210275309 249922  MBK02102753091505741109593   \n",
       "\n",
       "                                            user_id     bike_id   start_lon  \\\n",
       "bike_id                                                                       \n",
       "0200016316 193734  ad2bc587a11a15d1202b3158d2e8e232  0200016316  118.778353   \n",
       "0210065229 241467  9e8d015afff28731f17800dc05985d57  0210065229  118.879767   \n",
       "0210275301 184919  c8c514ca3887814b390aeef3e96e9f77  0210275301  118.777107   \n",
       "0210275308 221890  85a6bcfa40485805e96f40c81325172b  0210275308  118.799797   \n",
       "0210275309 249922  6b2ad0cbc96d7afe1a9ea64dc96457c5  0210275309  118.796953   \n",
       "\n",
       "                   start_lat     end_lon    end_lat  start_id  end_id  \\\n",
       "bike_id                                                                 \n",
       "0200016316 193734  31.973884  118.776342  31.966380      9160    8335   \n",
       "0210065229 241467  31.927586  118.887541  31.924144      4460    4258   \n",
       "0210275301 184919  32.057175  118.781315  32.051858     18016   17401   \n",
       "0210275308 221890  32.018707  118.803700  32.026108     13905   14731   \n",
       "0210275309 249922  32.085207  118.797443  32.086702     20908   21114   \n",
       "\n",
       "                           start_time            end_time  \n",
       "bike_id                                                    \n",
       "0200016316 193734 2017-09-18 19:12:16 2017-09-18 19:20:27  \n",
       "0210065229 241467 2017-09-18 21:18:13 2017-09-18 21:24:58  \n",
       "0210275301 184919 2017-09-18 12:08:06 2017-09-18 12:14:46  \n",
       "0210275308 221890 2017-09-18 12:41:08 2017-09-18 12:46:35  \n",
       "0210275309 249922 2017-09-18 21:25:15 2017-09-18 21:28:05  "
      ]
     },
     "execution_count": 16,
     "metadata": {},
     "output_type": "execute_result"
    }
   ],
   "source": [
    "final.head()"
   ]
  },
  {
   "cell_type": "code",
   "execution_count": 17,
   "metadata": {
    "ExecuteTime": {
     "end_time": "2019-05-15T19:48:51.786875Z",
     "start_time": "2019-05-15T19:48:51.665150Z"
    }
   },
   "outputs": [
    {
     "data": {
      "text/plain": [
       "(142834,)"
      ]
     },
     "execution_count": 17,
     "metadata": {},
     "output_type": "execute_result"
    }
   ],
   "source": [
    "# check if every bike has a final record on 2017-09-18, if it is, should equal to the number of rows in final.\n",
    "pd.unique(mobike_0918['bike_id']).shape"
   ]
  },
  {
   "cell_type": "code",
   "execution_count": 27,
   "metadata": {
    "ExecuteTime": {
     "end_time": "2019-05-15T20:14:52.664454Z",
     "start_time": "2019-05-15T20:14:52.636486Z"
    }
   },
   "outputs": [],
   "source": [
    "Parking_distribution = final.groupby('end_id')['record_id'].count()"
   ]
  },
  {
   "cell_type": "code",
   "execution_count": 29,
   "metadata": {
    "ExecuteTime": {
     "end_time": "2019-05-15T20:15:43.329389Z",
     "start_time": "2019-05-15T20:15:43.305370Z"
    }
   },
   "outputs": [],
   "source": [
    "#save the distribution of bikes where they parked at the end of the day.\n",
    "Parking_distribution.to_csv('parking_distribuiton.csv',header=True)"
   ]
  },
  {
   "cell_type": "markdown",
   "metadata": {},
   "source": [
    "## create directed weighted network using all data"
   ]
  },
  {
   "cell_type": "code",
   "execution_count": 75,
   "metadata": {
    "ExecuteTime": {
     "end_time": "2019-05-15T22:10:11.608643Z",
     "start_time": "2019-05-15T22:10:09.397395Z"
    }
   },
   "outputs": [],
   "source": [
    "import networkx as nx\n",
    "import matplotlib.pyplot as plt"
   ]
  },
  {
   "cell_type": "code",
   "execution_count": 51,
   "metadata": {
    "ExecuteTime": {
     "end_time": "2019-05-15T20:55:47.240963Z",
     "start_time": "2019-05-15T20:55:46.579942Z"
    }
   },
   "outputs": [],
   "source": [
    "weight_graph = pd.DataFrame(mobike.groupby(['start_id','end_id'])['record_id'].count())"
   ]
  },
  {
   "cell_type": "code",
   "execution_count": 52,
   "metadata": {
    "ExecuteTime": {
     "end_time": "2019-05-15T20:55:48.661981Z",
     "start_time": "2019-05-15T20:55:48.658964Z"
    }
   },
   "outputs": [
    {
     "data": {
      "text/plain": [
       "(714286, 1)"
      ]
     },
     "execution_count": 52,
     "metadata": {},
     "output_type": "execute_result"
    }
   ],
   "source": [
    "weight_graph.shape"
   ]
  },
  {
   "cell_type": "code",
   "execution_count": 62,
   "metadata": {
    "ExecuteTime": {
     "end_time": "2019-05-15T21:17:26.397050Z",
     "start_time": "2019-05-15T21:17:26.388248Z"
    },
    "scrolled": true
   },
   "outputs": [
    {
     "data": {
      "text/html": [
       "<div>\n",
       "<style scoped>\n",
       "    .dataframe tbody tr th:only-of-type {\n",
       "        vertical-align: middle;\n",
       "    }\n",
       "\n",
       "    .dataframe tbody tr th {\n",
       "        vertical-align: top;\n",
       "    }\n",
       "\n",
       "    .dataframe thead th {\n",
       "        text-align: right;\n",
       "    }\n",
       "</style>\n",
       "<table border=\"1\" class=\"dataframe\">\n",
       "  <thead>\n",
       "    <tr style=\"text-align: right;\">\n",
       "      <th></th>\n",
       "      <th></th>\n",
       "      <th>record_id</th>\n",
       "    </tr>\n",
       "    <tr>\n",
       "      <th>start_id</th>\n",
       "      <th>end_id</th>\n",
       "      <th></th>\n",
       "    </tr>\n",
       "  </thead>\n",
       "  <tbody>\n",
       "    <tr>\n",
       "      <th rowspan=\"3\" valign=\"top\">29</th>\n",
       "      <th>29</th>\n",
       "      <td>1</td>\n",
       "    </tr>\n",
       "    <tr>\n",
       "      <th>237</th>\n",
       "      <td>1</td>\n",
       "    </tr>\n",
       "    <tr>\n",
       "      <th>649</th>\n",
       "      <td>1</td>\n",
       "    </tr>\n",
       "    <tr>\n",
       "      <th rowspan=\"2\" valign=\"top\">30</th>\n",
       "      <th>32</th>\n",
       "      <td>1</td>\n",
       "    </tr>\n",
       "    <tr>\n",
       "      <th>648</th>\n",
       "      <td>1</td>\n",
       "    </tr>\n",
       "  </tbody>\n",
       "</table>\n",
       "</div>"
      ],
      "text/plain": [
       "                 record_id\n",
       "start_id end_id           \n",
       "29       29              1\n",
       "         237             1\n",
       "         649             1\n",
       "30       32              1\n",
       "         648             1"
      ]
     },
     "execution_count": 62,
     "metadata": {},
     "output_type": "execute_result"
    }
   ],
   "source": [
    "weight_graph.head()"
   ]
  },
  {
   "cell_type": "code",
   "execution_count": 61,
   "metadata": {
    "ExecuteTime": {
     "end_time": "2019-05-15T21:17:20.448610Z",
     "start_time": "2019-05-15T21:17:20.413706Z"
    },
    "scrolled": true
   },
   "outputs": [
    {
     "data": {
      "text/html": [
       "<div>\n",
       "<style scoped>\n",
       "    .dataframe tbody tr th:only-of-type {\n",
       "        vertical-align: middle;\n",
       "    }\n",
       "\n",
       "    .dataframe tbody tr th {\n",
       "        vertical-align: top;\n",
       "    }\n",
       "\n",
       "    .dataframe thead th {\n",
       "        text-align: right;\n",
       "    }\n",
       "</style>\n",
       "<table border=\"1\" class=\"dataframe\">\n",
       "  <thead>\n",
       "    <tr style=\"text-align: right;\">\n",
       "      <th></th>\n",
       "      <th>start_id</th>\n",
       "      <th>end_id</th>\n",
       "      <th>record_id</th>\n",
       "    </tr>\n",
       "  </thead>\n",
       "  <tbody>\n",
       "    <tr>\n",
       "      <th>0</th>\n",
       "      <td>29</td>\n",
       "      <td>29</td>\n",
       "      <td>1</td>\n",
       "    </tr>\n",
       "    <tr>\n",
       "      <th>1</th>\n",
       "      <td>29</td>\n",
       "      <td>237</td>\n",
       "      <td>1</td>\n",
       "    </tr>\n",
       "    <tr>\n",
       "      <th>2</th>\n",
       "      <td>29</td>\n",
       "      <td>649</td>\n",
       "      <td>1</td>\n",
       "    </tr>\n",
       "    <tr>\n",
       "      <th>3</th>\n",
       "      <td>30</td>\n",
       "      <td>32</td>\n",
       "      <td>1</td>\n",
       "    </tr>\n",
       "    <tr>\n",
       "      <th>4</th>\n",
       "      <td>30</td>\n",
       "      <td>648</td>\n",
       "      <td>1</td>\n",
       "    </tr>\n",
       "  </tbody>\n",
       "</table>\n",
       "</div>"
      ],
      "text/plain": [
       "   start_id  end_id  record_id\n",
       "0        29      29          1\n",
       "1        29     237          1\n",
       "2        29     649          1\n",
       "3        30      32          1\n",
       "4        30     648          1"
      ]
     },
     "execution_count": 61,
     "metadata": {},
     "output_type": "execute_result"
    }
   ],
   "source": [
    "weight_graph_reindex = weight_graph.reset_index()\n",
    "weight_graph_reindex.head()"
   ]
  },
  {
   "cell_type": "code",
   "execution_count": 60,
   "metadata": {
    "ExecuteTime": {
     "end_time": "2019-05-15T21:17:12.736118Z",
     "start_time": "2019-05-15T21:17:12.637290Z"
    }
   },
   "outputs": [
    {
     "data": {
      "text/html": [
       "<div>\n",
       "<style scoped>\n",
       "    .dataframe tbody tr th:only-of-type {\n",
       "        vertical-align: middle;\n",
       "    }\n",
       "\n",
       "    .dataframe tbody tr th {\n",
       "        vertical-align: top;\n",
       "    }\n",
       "\n",
       "    .dataframe thead th {\n",
       "        text-align: right;\n",
       "    }\n",
       "</style>\n",
       "<table border=\"1\" class=\"dataframe\">\n",
       "  <thead>\n",
       "    <tr style=\"text-align: right;\">\n",
       "      <th></th>\n",
       "      <th>start_id</th>\n",
       "      <th>end_id</th>\n",
       "      <th>record_id</th>\n",
       "    </tr>\n",
       "  </thead>\n",
       "  <tbody>\n",
       "    <tr>\n",
       "      <th>114320</th>\n",
       "      <td>7701</td>\n",
       "      <td>7701</td>\n",
       "      <td>1216</td>\n",
       "    </tr>\n",
       "    <tr>\n",
       "      <th>160211</th>\n",
       "      <td>9973</td>\n",
       "      <td>9971</td>\n",
       "      <td>970</td>\n",
       "    </tr>\n",
       "    <tr>\n",
       "      <th>159959</th>\n",
       "      <td>9971</td>\n",
       "      <td>9973</td>\n",
       "      <td>928</td>\n",
       "    </tr>\n",
       "    <tr>\n",
       "      <th>682000</th>\n",
       "      <td>28092</td>\n",
       "      <td>27887</td>\n",
       "      <td>767</td>\n",
       "    </tr>\n",
       "    <tr>\n",
       "      <th>118762</th>\n",
       "      <td>7900</td>\n",
       "      <td>8314</td>\n",
       "      <td>757</td>\n",
       "    </tr>\n",
       "  </tbody>\n",
       "</table>\n",
       "</div>"
      ],
      "text/plain": [
       "        start_id  end_id  record_id\n",
       "114320      7701    7701       1216\n",
       "160211      9973    9971        970\n",
       "159959      9971    9973        928\n",
       "682000     28092   27887        767\n",
       "118762      7900    8314        757"
      ]
     },
     "execution_count": 60,
     "metadata": {},
     "output_type": "execute_result"
    }
   ],
   "source": [
    "weight_graph_reindex.sort_values(by='record_id',ascending=False).head()"
   ]
  },
  {
   "cell_type": "code",
   "execution_count": 64,
   "metadata": {
    "ExecuteTime": {
     "end_time": "2019-05-15T21:24:43.879121Z",
     "start_time": "2019-05-15T21:24:43.641276Z"
    }
   },
   "outputs": [
    {
     "data": {
      "text/html": [
       "<div>\n",
       "<style scoped>\n",
       "    .dataframe tbody tr th:only-of-type {\n",
       "        vertical-align: middle;\n",
       "    }\n",
       "\n",
       "    .dataframe tbody tr th {\n",
       "        vertical-align: top;\n",
       "    }\n",
       "\n",
       "    .dataframe thead th {\n",
       "        text-align: right;\n",
       "    }\n",
       "</style>\n",
       "<table border=\"1\" class=\"dataframe\">\n",
       "  <thead>\n",
       "    <tr style=\"text-align: right;\">\n",
       "      <th></th>\n",
       "      <th>start_id</th>\n",
       "      <th>end_id</th>\n",
       "      <th>weight</th>\n",
       "    </tr>\n",
       "  </thead>\n",
       "  <tbody>\n",
       "    <tr>\n",
       "      <th>0</th>\n",
       "      <td>29</td>\n",
       "      <td>29</td>\n",
       "      <td>1</td>\n",
       "    </tr>\n",
       "    <tr>\n",
       "      <th>1</th>\n",
       "      <td>29</td>\n",
       "      <td>237</td>\n",
       "      <td>1</td>\n",
       "    </tr>\n",
       "    <tr>\n",
       "      <th>2</th>\n",
       "      <td>29</td>\n",
       "      <td>649</td>\n",
       "      <td>1</td>\n",
       "    </tr>\n",
       "    <tr>\n",
       "      <th>3</th>\n",
       "      <td>30</td>\n",
       "      <td>32</td>\n",
       "      <td>1</td>\n",
       "    </tr>\n",
       "    <tr>\n",
       "      <th>4</th>\n",
       "      <td>30</td>\n",
       "      <td>648</td>\n",
       "      <td>1</td>\n",
       "    </tr>\n",
       "  </tbody>\n",
       "</table>\n",
       "</div>"
      ],
      "text/plain": [
       "   start_id  end_id  weight\n",
       "0        29      29       1\n",
       "1        29     237       1\n",
       "2        29     649       1\n",
       "3        30      32       1\n",
       "4        30     648       1"
      ]
     },
     "execution_count": 64,
     "metadata": {},
     "output_type": "execute_result"
    }
   ],
   "source": [
    "weight_graph_reindex.rename(index=str, columns={'record_id':'weight'},inplace=True)\n",
    "weight_graph_reindex.head()"
   ]
  },
  {
   "cell_type": "code",
   "execution_count": 55,
   "metadata": {
    "ExecuteTime": {
     "end_time": "2019-05-15T20:56:50.058230Z",
     "start_time": "2019-05-15T20:56:50.021358Z"
    }
   },
   "outputs": [
    {
     "data": {
      "text/plain": [
       "start_id     7701\n",
       "end_id       7701\n",
       "record_id    1216\n",
       "Name: 114320, dtype: int64"
      ]
     },
     "execution_count": 55,
     "metadata": {},
     "output_type": "execute_result"
    }
   ],
   "source": [
    "#weight_graph_reindex.loc[weight_graph_reindex['record_id'].idxmax()]"
   ]
  },
  {
   "cell_type": "code",
   "execution_count": 69,
   "metadata": {
    "ExecuteTime": {
     "end_time": "2019-05-15T21:30:28.000271Z",
     "start_time": "2019-05-15T21:30:25.835994Z"
    }
   },
   "outputs": [],
   "source": [
    "network = nx.from_pandas_edgelist(weight_graph_reindex, 'start_id', 'end_id', ['weight'], create_using=nx.DiGraph)"
   ]
  },
  {
   "cell_type": "code",
   "execution_count": 73,
   "metadata": {
    "ExecuteTime": {
     "end_time": "2019-05-15T21:59:42.991414Z",
     "start_time": "2019-05-15T21:59:42.987425Z"
    }
   },
   "outputs": [
    {
     "data": {
      "text/plain": [
       "16127"
      ]
     },
     "execution_count": 73,
     "metadata": {},
     "output_type": "execute_result"
    }
   ],
   "source": [
    "network.number_of_nodes()"
   ]
  },
  {
   "cell_type": "code",
   "execution_count": null,
   "metadata": {},
   "outputs": [],
   "source": []
  },
  {
   "cell_type": "code",
   "execution_count": 76,
   "metadata": {
    "ExecuteTime": {
     "end_time": "2019-05-15T22:10:15.116011Z",
     "start_time": "2019-05-15T22:10:14.232609Z"
    }
   },
   "outputs": [
    {
     "data": {
      "image/png": "[encoded data removed]",
      "text/plain": [
       "<Figure size 432x288 with 1 Axes>"
      ]
     },
     "metadata": {
      "needs_background": "light"
     },
     "output_type": "display_data"
    }
   ],
   "source": [
    "def plot_degree_dist(G):\n",
    "    degrees = [G.degree(n) for n in G.nodes()]\n",
    "    plt.hist(degrees)\n",
    "    plt.show()\n",
    "\n",
    "plot_degree_dist(network)"
   ]
  },
  {
   "cell_type": "code",
   "execution_count": 99,
   "metadata": {
    "ExecuteTime": {
     "end_time": "2019-05-16T03:52:48.416798Z",
     "start_time": "2019-05-16T03:52:48.409783Z"
    }
   },
   "outputs": [],
   "source": [
    "def make_plots(G):\n",
    "    out_deg_counts = {}\n",
    "    for node in G.nodes():\n",
    "        if G.degree(node) not in out_deg_counts.keys():\n",
    "            out_deg_counts[G.degree(node)] = 0\n",
    "        out_deg_counts[G.degree(node)] += 1\n",
    "    x = []\n",
    "    y = []\n",
    "    for key in sorted(out_deg_counts.keys()):\n",
    "        if key == 0 or out_deg_counts[key] == 0:\n",
    "            continue\n",
    "        x.append(key)\n",
    "        y.append(out_deg_counts[key])\n",
    "\n",
    "    x = np.log10(x)\n",
    "    y = np.log10(y)\n",
    "    plt.plot(x, y, linestyle=\"\", marker=\"o\")\n",
    "    \n",
    "    coef = np.polyfit(x, y, 1)\n",
    "    polynomial = np.poly1d(coef)\n",
    "    y_estimated = polynomial(x)\n",
    "    plt.plot(x, y_estimated)\n",
    "    print(coef)\n",
    "    print(\"\")"
   ]
  },
  {
   "cell_type": "code",
   "execution_count": 100,
   "metadata": {
    "ExecuteTime": {
     "end_time": "2019-05-16T03:52:50.580415Z",
     "start_time": "2019-05-16T03:52:50.413857Z"
    },
    "scrolled": true
   },
   "outputs": [
    {
     "name": "stdout",
     "output_type": "stream",
     "text": [
      "[-1.35848891  4.09008366]\n",
      "\n"
     ]
    },
    {
     "data": {
      "image/png": "[encoded data removed]",
      "text/plain": [
       "<Figure size 432x288 with 1 Axes>"
      ]
     },
     "metadata": {
      "needs_background": "light"
     },
     "output_type": "display_data"
    }
   ],
   "source": [
    "make_plots(network)"
   ]
  },
  {
   "cell_type": "code",
   "execution_count": null,
   "metadata": {},
   "outputs": [],
   "source": [
    "nx.write_weighted_edgelist(network, 'test.weighted.edgelist')"
   ]
  },
  {
   "cell_type": "code",
   "execution_count": null,
   "metadata": {},
   "outputs": [],
   "source": []
  }
 ],
 "metadata": {
  "kernelspec": {
   "display_name": "Python [conda env:py37]",
   "language": "python",
   "name": "conda-env-py37-py"
  },
  "language_info": {
   "codemirror_mode": {
    "name": "ipython",
    "version": 3
   },
   "file_extension": ".py",
   "mimetype": "text/x-python",
   "name": "python",
   "nbconvert_exporter": "python",
   "pygments_lexer": "ipython3",
   "version": "3.7.0"
  },
  "varInspector": {
   "cols": {
    "lenName": 16,
    "lenType": 16,
    "lenVar": 40
   },
   "kernels_config": {
    "python": {
     "delete_cmd_postfix": "",
     "delete_cmd_prefix": "del ",
     "library": "var_list.py",
     "varRefreshCmd": "print(var_dic_list())"
    },
    "r": {
     "delete_cmd_postfix": ") ",
     "delete_cmd_prefix": "rm(",
     "library": "var_list.r",
     "varRefreshCmd": "cat(var_dic_list()) "
    }
   },
   "position": {
    "height": "144px",
    "left": "1152.4px",
    "right": "20px",
    "top": "119px",
    "width": "350px"
   },
   "types_to_exclude": [
    "module",
    "function",
    "builtin_function_or_method",
    "instance",
    "_Feature"
   ],
   "window_display": true
  }
 },
 "nbformat": 4,
 "nbformat_minor": 2
}
