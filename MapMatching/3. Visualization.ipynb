{
 "cells": [
  {
   "cell_type": "markdown",
   "metadata": {},
   "source": [
    "# Visualisation\n",
    "To inspect the results, a plotting function is included.\n",
    "\n",
    "## Simple plotting\n",
    "To plot the graph in a matplotlib figure use:"
   ]
  },
  {
   "cell_type": "code",
   "execution_count": null,
   "metadata": {},
   "outputs": [],
   "source": [
    "from leuvenmapmatching import visualization as mmviz\n",
    "mmviz.plot_map(map_con, matcher=matcher,\n",
    "               show_labels=True, show_matching=True, show_graph=True,\n",
    "               filename=\"my_plot.png\")"
   ]
  },
  {
   "cell_type": "markdown",
   "metadata": {},
   "source": [
    "This will result in the following figure:\n",
    "![alt text](https://people.cs.kuleuven.be/wannes.meert/leuvenmapmatching/plot1.png)"
   ]
  },
  {
   "cell_type": "markdown",
   "metadata": {},
   "source": [
    "You can also define your own figure by passing a matplotlib axis object:"
   ]
  },
  {
   "cell_type": "code",
   "execution_count": null,
   "metadata": {},
   "outputs": [],
   "source": [
    "fig, ax = plt.subplots(1, 1)\n",
    "mmviz.plot_map(map_con, matcher=matcher,\n",
    "               ax=ax,\n",
    "               show_labels=True, show_matching=True, show_graph=True,\n",
    "               filename=\"my_plot.png\")"
   ]
  },
  {
   "cell_type": "markdown",
   "metadata": {},
   "source": [
    "## Plotting with an OpenStreetMap background\n",
    "The plotting function also supports a link with the <span class=\"girk\">smopy</span> package. Set the <span class=\"girk\">use_osm</span> argument to true and pass a map that is defined with latitude-longitude (thus <span class=\"girk\">use_latlon=True</span>).\n",
    "\n",
    "You can set <span class=\"girk\">zoom_path</span> to true to only see the relevant part and not the entire map that is available in the map. Alternatively you can also set the bounding box manually using the <span class=\"girk\">bb</span> argument."
   ]
  },
  {
   "cell_type": "code",
   "execution_count": null,
   "metadata": {},
   "outputs": [],
   "source": [
    "mm_viz.plot_map(map_con, matcher=matcher,\n",
    "                use_osm=True, zoom_path=True,\n",
    "                show_labels=False, show_matching=True, show_graph=False,\n",
    "                filename=\"my_osm_plot.png\")"
   ]
  },
  {
   "cell_type": "markdown",
   "metadata": {},
   "source": [
    "This will result in the following figure:\n",
    "![alt text](https://people.cs.kuleuven.be/wannes.meert/leuvenmapmatching/plot2.png?v=1)\n",
    "\n",
    "Or when some GPS points are missing in the track, the matching is more visible as the matched route deviates from the straight line between two GPS points:\n",
    "\n",
    "![alt text](https://people.cs.kuleuven.be/wannes.meert/leuvenmapmatching/plot3.png?v=1)"
   ]
  }
 ],
 "metadata": {
  "kernelspec": {
   "display_name": "Python 3",
   "language": "python",
   "name": "python3"
  },
  "language_info": {
   "codemirror_mode": {
    "name": "ipython",
    "version": 3
   },
   "file_extension": ".py",
   "mimetype": "text/x-python",
   "name": "python",
   "nbconvert_exporter": "python",
   "pygments_lexer": "ipython3",
   "version": "3.7.1"
  },
  "varInspector": {
   "cols": {
    "lenName": 16,
    "lenType": 16,
    "lenVar": 40
   },
   "kernels_config": {
    "python": {
     "delete_cmd_postfix": "",
     "delete_cmd_prefix": "del ",
     "library": "var_list.py",
     "varRefreshCmd": "print(var_dic_list())"
    },
    "r": {
     "delete_cmd_postfix": ") ",
     "delete_cmd_prefix": "rm(",
     "library": "var_list.r",
     "varRefreshCmd": "cat(var_dic_list()) "
    }
   },
   "types_to_exclude": [
    "module",
    "function",
    "builtin_function_or_method",
    "instance",
    "_Feature"
   ],
   "window_display": true
  }
 },
 "nbformat": 4,
 "nbformat_minor": 2
}
