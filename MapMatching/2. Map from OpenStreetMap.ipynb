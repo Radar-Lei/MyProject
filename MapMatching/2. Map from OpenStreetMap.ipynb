{
 "cells": [
  {
   "cell_type": "markdown",
   "metadata": {},
   "source": [
    "# Map from OpenStreetMap\n",
    "You can download a graph for map-matching from the OpenStreetMap.org service. Multiple methods exists, we illustrate two."
   ]
  },
  {
   "cell_type": "markdown",
   "metadata": {},
   "source": [
    "## Using requests, osmread and gpx\n",
    "You can perform map matching on a OpenStreetMap database by combing **leuvenmapmatching** with the packages **requests**, **osmread** and **gpx**."
   ]
  },
  {
   "cell_type": "markdown",
   "metadata": {},
   "source": [
    "### Download a map as XML\n",
    "You can use the overpass-api.de service:"
   ]
  },
  {
   "cell_type": "code",
   "execution_count": 1,
   "metadata": {
    "ExecuteTime": {
     "end_time": "2019-02-11T07:35:11.097047Z",
     "start_time": "2019-02-11T07:35:03.753890Z"
    }
   },
   "outputs": [],
   "source": [
    "from pathlib import Path\n",
    "import requests\n",
    "xml_file = Path(\".\") / \"osm.xml\"\n",
    "url = 'http://overpass-api.de/api/map?bbox=4.694933,50.870047,4.709256000000001,50.879628' #bbox= lon1,lat1,lon2.lat2\n",
    "r = requests.get(url, stream=True)\n",
    "with xml_file.open('wb') as ofile:\n",
    "    for chunk in r.iter_content(chunk_size=1024):\n",
    "        if chunk:\n",
    "            ofile.write(chunk)"
   ]
  },
  {
   "cell_type": "markdown",
   "metadata": {},
   "source": [
    "### Create graph using osmread\n",
    "Once we have a file containing the region we are interested in, we can select the roads we want to use to create a graph from. In this case we focus on ‘ways’ with a ‘highway’ tag. Those represent a variety of roads. For a more detailed filtering look at [the possible values of the highway tag](https://wiki.openstreetmap.org/wiki/Key:highway)."
   ]
  },
  {
   "cell_type": "code",
   "execution_count": 3,
   "metadata": {
    "ExecuteTime": {
     "end_time": "2019-02-11T07:45:13.069554Z",
     "start_time": "2019-02-11T07:44:59.147357Z"
    }
   },
   "outputs": [],
   "source": [
    "from leuvenmapmatching.map.inmem import InMemMap\n",
    "import osmread\n",
    "\n",
    "map_con = InMemMap(\"myosm\", use_latlon=True, use_rtree=True, index_edges=True)\n",
    "for entity in osmread.parse_file(str(xml_file)):\n",
    "    if isinstance(entity, osmread.Way) and 'highway' in entity.tags:\n",
    "        for node_a, node_b in zip(entity.nodes, entity.nodes[1:]):\n",
    "            map_con.add_edge(node_a, node_b)\n",
    "            # Some roads are one-way. We'll add both directions.\n",
    "            map_con.add_edge(node_b, node_a)\n",
    "    if isinstance(entity, osmread.Node):\n",
    "        map_con.add_node(entity.id, (entity.lat, entity.lon))\n",
    "map_con.purge()"
   ]
  },
  {
   "cell_type": "markdown",
   "metadata": {},
   "source": [
    "Note that <span class=\"mark\">InMemMap</span> is a simple container for a map. It is recommended to use your own optimized connecter to your map dataset.\n",
    "\n",
    "If you want to allow transitions that are not following the exact road segments you can inherit from the <span class=\"girk\">Map</span> class and define a new class with your own transitions. The transitions are defined using the <span class=\"mark\">nodes_nbrto</span> and <span class=\"mark\">edges_nbrt</span> methods."
   ]
  },
  {
   "cell_type": "markdown",
   "metadata": {},
   "source": [
    "### Perform map matching on an OpenStreetMap database\n",
    "You can create a list of latitude-longitude coordinates manually, track is just a list. Or read a gpx file."
   ]
  },
  {
   "cell_type": "code",
   "execution_count": 4,
   "metadata": {
    "ExecuteTime": {
     "end_time": "2019-02-11T07:50:53.613650Z",
     "start_time": "2019-02-11T07:50:53.594306Z"
    }
   },
   "outputs": [
    {
     "ename": "FileNotFoundError",
     "evalue": "[Errno 2] No such file or directory: 'mytrack.gpx'",
     "output_type": "error",
     "traceback": [
      "\u001b[1;31m---------------------------------------------------------------------------\u001b[0m",
      "\u001b[1;31mFileNotFoundError\u001b[0m                         Traceback (most recent call last)",
      "\u001b[1;32m<ipython-input-4-94ff65cff486>\u001b[0m in \u001b[0;36m<module>\u001b[1;34m\u001b[0m\n\u001b[0;32m      1\u001b[0m \u001b[1;32mfrom\u001b[0m \u001b[0mleuvenmapmatching\u001b[0m\u001b[1;33m.\u001b[0m\u001b[0mutil\u001b[0m\u001b[1;33m.\u001b[0m\u001b[0mgpx\u001b[0m \u001b[1;32mimport\u001b[0m \u001b[0mgpx_to_path\u001b[0m\u001b[1;33m\u001b[0m\u001b[1;33m\u001b[0m\u001b[0m\n\u001b[0;32m      2\u001b[0m \u001b[1;33m\u001b[0m\u001b[0m\n\u001b[1;32m----> 3\u001b[1;33m \u001b[0mtrack\u001b[0m \u001b[1;33m=\u001b[0m \u001b[0mgpx_to_path\u001b[0m\u001b[1;33m(\u001b[0m\u001b[1;34m\"mytrack.gpx\"\u001b[0m\u001b[1;33m)\u001b[0m\u001b[1;33m\u001b[0m\u001b[1;33m\u001b[0m\u001b[0m\n\u001b[0m\u001b[0;32m      4\u001b[0m matcher = DistanceMatcher(map_con,\n\u001b[0;32m      5\u001b[0m                          \u001b[0mmax_dist\u001b[0m\u001b[1;33m=\u001b[0m\u001b[1;36m100\u001b[0m\u001b[1;33m,\u001b[0m \u001b[0mmax_dist_init\u001b[0m\u001b[1;33m=\u001b[0m\u001b[1;36m25\u001b[0m\u001b[1;33m,\u001b[0m  \u001b[1;31m# meter\u001b[0m\u001b[1;33m\u001b[0m\u001b[1;33m\u001b[0m\u001b[0m\n",
      "\u001b[1;32md:\\ProgramData\\Anaconda3\\lib\\site-packages\\leuvenmapmatching\\util\\gpx.py\u001b[0m in \u001b[0;36mgpx_to_path\u001b[1;34m(gpx_file)\u001b[0m\n\u001b[0;32m     20\u001b[0m \u001b[1;33m\u001b[0m\u001b[0m\n\u001b[0;32m     21\u001b[0m \u001b[1;32mdef\u001b[0m \u001b[0mgpx_to_path\u001b[0m\u001b[1;33m(\u001b[0m\u001b[0mgpx_file\u001b[0m\u001b[1;33m)\u001b[0m\u001b[1;33m:\u001b[0m\u001b[1;33m\u001b[0m\u001b[1;33m\u001b[0m\u001b[0m\n\u001b[1;32m---> 22\u001b[1;33m     \u001b[0mgpx_fh\u001b[0m \u001b[1;33m=\u001b[0m \u001b[0mopen\u001b[0m\u001b[1;33m(\u001b[0m\u001b[0mgpx_file\u001b[0m\u001b[1;33m)\u001b[0m\u001b[1;33m\u001b[0m\u001b[1;33m\u001b[0m\u001b[0m\n\u001b[0m\u001b[0;32m     23\u001b[0m     \u001b[0mtrack\u001b[0m \u001b[1;33m=\u001b[0m \u001b[1;32mNone\u001b[0m\u001b[1;33m\u001b[0m\u001b[1;33m\u001b[0m\u001b[0m\n\u001b[0;32m     24\u001b[0m     \u001b[1;32mtry\u001b[0m\u001b[1;33m:\u001b[0m\u001b[1;33m\u001b[0m\u001b[1;33m\u001b[0m\u001b[0m\n",
      "\u001b[1;31mFileNotFoundError\u001b[0m: [Errno 2] No such file or directory: 'mytrack.gpx'"
     ]
    }
   ],
   "source": [
    "from leuvenmapmatching.util.gpx import gpx_to_path\n",
    "\n",
    "track = gpx_to_path(\"mytrack.gpx\")\n",
    "matcher = DistanceMatcher(map_con,\n",
    "                         max_dist=100, max_dist_init=25,  # meter\n",
    "                         min_prob_norm=0.001,\n",
    "                         non_emitting_length_factor=0.75,\n",
    "                         obs_noise=50, obs_noise_ne=75,  # meter\n",
    "                         dist_noise=50,  # meter\n",
    "                         non_emitting_states=True)\n",
    "states, lastidx = matcher.match(track)"
   ]
  },
  {
   "cell_type": "markdown",
   "metadata": {},
   "source": [
    "## Using osmnx and geopandas\n",
    "Another great library to interact with OpenStreetMap data is the osmnx package. The osmnx package can retrieve relevant data automatically, for example when given a name of a region. This package is build on top of the geopandas package."
   ]
  },
  {
   "cell_type": "code",
   "execution_count": null,
   "metadata": {},
   "outputs": [],
   "source": [
    "import osmnx\n",
    "graph = ox.graph_from_place('Leuven, Belgium', network_type='drive')\n",
    "graph_proj = ox.project_graph(graph)\n",
    "# Create GeoDataFrames\n",
    "nodes_proj, edges_proj = ox.graph_to_gdfs(graph_proj, nodes=True, edges=True)\n",
    "for nid, row in edges_proj[['u', 'v']].iterrows():\n",
    "    map_cont.add_edge(row['u'], None, row['v'], None)\n",
    "for nid, row in nodes_proj[['x', 'y']].iterrows()\n",
    "    map_con.add_node(nid, (row['x'], row['y']))"
   ]
  },
  {
   "cell_type": "markdown",
   "metadata": {},
   "source": [
    "The geopandas package supports projections:"
   ]
  },
  {
   "cell_type": "code",
   "execution_count": null,
   "metadata": {},
   "outputs": [],
   "source": [
    "nodes, edges = ox.graph_to_gdfs(graph, nodes=True, edges=True)\n",
    "nodes.crs = {'init': 'epsg:4326'}  # WGS 84, System used in GPS\n",
    "nodes_proj = nodes.to_crs({'init': 'epsg:3395'})  # Mercator projection\n",
    "edges.crs = {'init': 'epsg:4326'}\n",
    "edges_proj = nodes.to_crs({'init': 'epsg:3395'})"
   ]
  },
  {
   "cell_type": "code",
   "execution_count": null,
   "metadata": {},
   "outputs": [],
   "source": [
    "When projecting both the map and the track you want to match, make sure to use the same projection."
   ]
  }
 ],
 "metadata": {
  "kernelspec": {
   "display_name": "Python 3",
   "language": "python",
   "name": "python3"
  },
  "language_info": {
   "codemirror_mode": {
    "name": "ipython",
    "version": 3
   },
   "file_extension": ".py",
   "mimetype": "text/x-python",
   "name": "python",
   "nbconvert_exporter": "python",
   "pygments_lexer": "ipython3",
   "version": "3.7.1"
  },
  "varInspector": {
   "cols": {
    "lenName": 16,
    "lenType": 16,
    "lenVar": 40
   },
   "kernels_config": {
    "python": {
     "delete_cmd_postfix": "",
     "delete_cmd_prefix": "del ",
     "library": "var_list.py",
     "varRefreshCmd": "print(var_dic_list())"
    },
    "r": {
     "delete_cmd_postfix": ") ",
     "delete_cmd_prefix": "rm(",
     "library": "var_list.r",
     "varRefreshCmd": "cat(var_dic_list()) "
    }
   },
   "types_to_exclude": [
    "module",
    "function",
    "builtin_function_or_method",
    "instance",
    "_Feature"
   ],
   "window_display": true
  }
 },
 "nbformat": 4,
 "nbformat_minor": 2
}
