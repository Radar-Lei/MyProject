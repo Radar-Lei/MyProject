{
 "cells": [
  {
   "cell_type": "markdown",
   "metadata": {},
   "source": [
    "## Example 1:Simple\n",
    "A first, simple example. Some parameters are given to tune the algorithm. The **max_dist** and **obs_noise** are distances that indicate the maximal distance between observation and road segment and the expected noise in the measurements, respectively. The **min_prob_norm** prunes the lattice in that it drops paths that drop below 0.5 normalized probability. The probability is normalized to allow for easier reasoning about the probability of a path. It is computed as the exponential smoothed log probability components instead of the sum as would be the case for log likelihood."
   ]
  },
  {
   "cell_type": "code",
   "execution_count": 1,
   "metadata": {
    "ExecuteTime": {
     "end_time": "2019-02-11T07:18:03.683351Z",
     "start_time": "2019-02-11T07:18:03.655576Z"
    }
   },
   "outputs": [],
   "source": [
    "from leuvenmapmatching.matcher.distance import DistanceMatcher\n",
    "from leuvenmapmatching.map.inmem import InMemMap"
   ]
  },
  {
   "cell_type": "code",
   "execution_count": 2,
   "metadata": {
    "ExecuteTime": {
     "end_time": "2019-02-11T07:18:05.358699Z",
     "start_time": "2019-02-11T07:18:05.352212Z"
    }
   },
   "outputs": [],
   "source": [
    "# initialize a new map\n",
    "map_con = InMemMap(\"mymap\", graph={\n",
    "    \"A\": ((1, 1), [\"B\", \"C\", \"X\"]), # (1,1) is the coordinate of point A, and A is connected to B,C and X.\n",
    "    \"B\": ((1, 3), [\"A\", \"C\", \"D\", \"K\"]),\n",
    "    \"C\": ((2, 2), [\"A\", \"B\", \"D\", \"E\", \"X\", \"Y\"]),\n",
    "    \"D\": ((2, 4), [\"B\", \"C\", \"F\", \"E\", \"K\", \"L\"]),\n",
    "    \"E\": ((3, 3), [\"C\", \"D\", \"F\", \"Y\"]),\n",
    "    \"F\": ((3, 5), [\"D\", \"E\", \"L\"]),\n",
    "    \"X\": ((2, 0), [\"A\", \"C\", \"Y\"]),\n",
    "    \"Y\": ((3, 1), [\"X\", \"C\", \"E\"]),\n",
    "    \"K\": ((1, 5), [\"B\", \"D\", \"L\"]),\n",
    "    \"L\": ((2, 6), [\"K\", \"D\", \"F\"])}, crs_xy=None, use_latlon=False) # do not use lattitude and logitude"
   ]
  },
  {
   "cell_type": "code",
   "execution_count": null,
   "metadata": {
    "ExecuteTime": {
     "end_time": "2019-02-11T07:10:32.041071Z",
     "start_time": "2019-02-11T07:10:32.032143Z"
    }
   },
   "outputs": [],
   "source": [
    "InMemMap?"
   ]
  },
  {
   "cell_type": "code",
   "execution_count": null,
   "metadata": {
    "ExecuteTime": {
     "end_time": "2019-02-11T07:08:55.913198Z",
     "start_time": "2019-02-11T07:08:55.906677Z"
    }
   },
   "outputs": [],
   "source": [
    "type(map_con)"
   ]
  },
  {
   "cell_type": "code",
   "execution_count": 1,
   "metadata": {
    "ExecuteTime": {
     "end_time": "2019-02-12T08:15:42.536845Z",
     "start_time": "2019-02-12T08:15:42.530861Z"
    }
   },
   "outputs": [],
   "source": [
    "path = [(0.8, 0.7), (0.9, 0.7), (1.1, 1.0), (1.2, 1.5), (1.2, 1.6), (1.1, 2.0),\n",
    "        (1.1, 2.3), (1.3, 2.9), (1.2, 3.1), (1.5, 3.2), (1.8, 3.5), (2.0, 3.7),\n",
    "        (2.3, 3.5), (2.4, 3.2), (2.6, 3.1), (2.9, 3.1), (3.0, 3.2),\n",
    "        (3.1, 3.8), (3.0, 4.0), (3.1, 4.3), (3.1, 4.6), (3.0, 4.9)]"
   ]
  },
  {
   "cell_type": "code",
   "execution_count": 2,
   "metadata": {
    "ExecuteTime": {
     "end_time": "2019-02-12T08:15:48.902385Z",
     "start_time": "2019-02-12T08:15:48.894368Z"
    }
   },
   "outputs": [
    {
     "data": {
      "text/plain": [
       "list"
      ]
     },
     "execution_count": 2,
     "metadata": {},
     "output_type": "execute_result"
    }
   ],
   "source": [
    "type(path)"
   ]
  },
  {
   "cell_type": "code",
   "execution_count": 4,
   "metadata": {
    "ExecuteTime": {
     "end_time": "2019-02-11T07:18:12.201000Z",
     "start_time": "2019-02-11T07:18:11.781412Z"
    }
   },
   "outputs": [
    {
     "name": "stderr",
     "output_type": "stream",
     "text": [
      "Searching closeby nodes with linear search, use an index and set max_dist\n"
     ]
    }
   ],
   "source": [
    "matcher = DistanceMatcher(map_con, max_dist=2, obs_noise=1, min_prob_norm=0.5)\n",
    "states, _ = matcher.match(path)\n",
    "nodes = matcher.path_pred_onlynodes"
   ]
  },
  {
   "cell_type": "code",
   "execution_count": 5,
   "metadata": {
    "ExecuteTime": {
     "end_time": "2019-02-11T07:18:13.757139Z",
     "start_time": "2019-02-11T07:18:13.739779Z"
    }
   },
   "outputs": [
    {
     "name": "stdout",
     "output_type": "stream",
     "text": [
      "States\n",
      "------\n",
      "[('X', 'A'), ('A', 'B'), ('A', 'B'), ('A', 'B'), ('A', 'B'), ('A', 'B'), ('A', 'B'), ('A', 'B'), ('B', 'D'), ('B', 'D'), ('B', 'D'), ('B', 'D'), ('D', 'E'), ('D', 'E'), ('D', 'E'), ('E', 'F'), ('E', 'F'), ('E', 'F'), ('E', 'F'), ('E', 'F'), ('E', 'F'), ('E', 'F')]\n",
      "Nodes\n",
      "------\n",
      "['X', 'A', 'B', 'D', 'E', 'F']\n",
      "\n",
      "Stats lattice\n",
      "-------------\n",
      "nbr levels               : 22\n",
      "nbr lattice              : 1002\n",
      "avg lattice[level]       : 45.54545454545455\n",
      "min lattice[level]       : 7\n",
      "max lattice[level]       : 97\n",
      "avg obs distance         : 0.15514927458475236\n",
      "last logprob             : -0.5464565099511667\n",
      "last length              : 22\n",
      "last norm logprob        : -0.024838932270507576\n"
     ]
    }
   ],
   "source": [
    "print(\"States\\n------\")\n",
    "print(states)\n",
    "print(\"Nodes\\n------\")\n",
    "print(nodes)\n",
    "print(\"\")\n",
    "matcher.print_lattice_stats()"
   ]
  },
  {
   "cell_type": "markdown",
   "metadata": {},
   "source": [
    "## Example 2: Non-emitting states\n",
    "In case there are less observations that states (an assumption of HMMs), non-emittings states allow you to deal with this. States will be inserted that are not associated with any of the given observations if this improves the probability of the path.\n",
    "\n",
    "It is possible to also associate a distribtion over the distance between observations and the non-emitting states (obs_noise_ne). This allows the algorithm to prefer nearby road segments. This value should be larger than obs_noise as it is mapped to the line between the previous and next observation, which does not necessarily run over the relevant segment. Setting this to infinity is the same as using pure non-emitting states that ignore observations completely."
   ]
  },
  {
   "cell_type": "code",
   "execution_count": 6,
   "metadata": {
    "ExecuteTime": {
     "end_time": "2019-02-11T07:18:17.838051Z",
     "start_time": "2019-02-11T07:18:17.688752Z"
    }
   },
   "outputs": [],
   "source": [
    "from leuvenmapmatching import visualization as mmviz"
   ]
  },
  {
   "cell_type": "code",
   "execution_count": 7,
   "metadata": {
    "ExecuteTime": {
     "end_time": "2019-02-11T07:18:19.456007Z",
     "start_time": "2019-02-11T07:18:19.433155Z"
    }
   },
   "outputs": [],
   "source": [
    "path = [(1, 0), (7.5, 0.65), (10.1, 1.9)]\n",
    "mapdb = InMemMap(\"mymap\", graph={\n",
    "    \"A\": ((1, 0.00), [\"B\"]),\n",
    "    \"B\": ((3, 0.00), [\"A\", \"C\"]),\n",
    "    \"C\": ((4, 0.70), [\"B\", \"D\"]),\n",
    "    \"D\": ((5, 1.00), [\"C\", \"E\"]),\n",
    "    \"E\": ((6, 1.00), [\"D\", \"F\"]),\n",
    "    \"F\": ((7, 0.70), [\"E\", \"G\"]),\n",
    "    \"G\": ((8, 0.00), [\"F\", \"H\"]),\n",
    "    \"H\": ((10, 0.0), [\"G\", \"I\"]),\n",
    "    \"I\": ((10, 2.0), [\"H\"])\n",
    "}, use_latlon=False)"
   ]
  },
  {
   "cell_type": "code",
   "execution_count": 8,
   "metadata": {
    "ExecuteTime": {
     "end_time": "2019-02-11T07:18:21.779124Z",
     "start_time": "2019-02-11T07:18:21.766228Z"
    }
   },
   "outputs": [
    {
     "name": "stderr",
     "output_type": "stream",
     "text": [
      "Searching closeby nodes with linear search, use an index and set max_dist\n"
     ]
    }
   ],
   "source": [
    "matcher = DistanceMatcher(mapdb, max_dist_init=0.2, obs_noise=1, obs_noise_ne=10,\n",
    "                          non_emitting_states=True, only_edges=True)\n",
    "states, _ = matcher.match(path)\n",
    "nodes = matcher.path_pred_onlynodes"
   ]
  },
  {
   "cell_type": "code",
   "execution_count": 11,
   "metadata": {
    "ExecuteTime": {
     "end_time": "2019-02-11T07:19:06.201164Z",
     "start_time": "2019-02-11T07:19:05.237752Z"
    }
   },
   "outputs": [
    {
     "name": "stdout",
     "output_type": "stream",
     "text": [
      "States\n",
      "------\n",
      "[('A', 'B'), ('B', 'C'), ('C', 'D'), ('D', 'E'), ('E', 'F'), ('F', 'G'), ('G', 'H'), ('H', 'I')]\n",
      "Nodes\n",
      "------\n",
      "['A', 'B', 'C', 'D', 'E', 'F', 'G', 'H', 'I']\n",
      "\n",
      "Stats lattice\n",
      "-------------\n",
      "nbr levels               : 3\n",
      "nbr lattice              : 40\n",
      "avg lattice[level]       : 13.333333333333334\n",
      "min lattice[level]       : 8\n",
      "max lattice[level]       : 16\n",
      "avg obs distance         : 0.26790850746762634\n",
      "last logprob             : -2.373678241605297\n",
      "last length              : 3\n",
      "last norm logprob        : -0.791226080535099\n"
     ]
    },
    {
     "data": {
      "text/plain": [
       "(None, None)"
      ]
     },
     "execution_count": 11,
     "metadata": {},
     "output_type": "execute_result"
    }
   ],
   "source": [
    "print(\"States\\n------\")\n",
    "print(states)\n",
    "print(\"Nodes\\n------\")\n",
    "print(nodes)\n",
    "print(\"\")\n",
    "matcher.print_lattice_stats()\n",
    "\n",
    "mmviz.plot_map(mapdb, matcher=matcher,\n",
    "              show_labels=True, show_matching=True,\n",
    "              filename=\"output.png\")"
   ]
  }
 ],
 "metadata": {
  "kernelspec": {
   "display_name": "Python 3",
   "language": "python",
   "name": "python3"
  },
  "language_info": {
   "codemirror_mode": {
    "name": "ipython",
    "version": 3
   },
   "file_extension": ".py",
   "mimetype": "text/x-python",
   "name": "python",
   "nbconvert_exporter": "python",
   "pygments_lexer": "ipython3",
   "version": "3.7.1"
  },
  "varInspector": {
   "cols": {
    "lenName": 16,
    "lenType": 16,
    "lenVar": 40
   },
   "kernels_config": {
    "python": {
     "delete_cmd_postfix": "",
     "delete_cmd_prefix": "del ",
     "library": "var_list.py",
     "varRefreshCmd": "print(var_dic_list())"
    },
    "r": {
     "delete_cmd_postfix": ") ",
     "delete_cmd_prefix": "rm(",
     "library": "var_list.r",
     "varRefreshCmd": "cat(var_dic_list()) "
    }
   },
   "position": {
    "height": "144px",
    "left": "1239px",
    "right": "20px",
    "top": "351px",
    "width": "350px"
   },
   "types_to_exclude": [
    "module",
    "function",
    "builtin_function_or_method",
    "instance",
    "_Feature"
   ],
   "window_display": true
  }
 },
 "nbformat": 4,
 "nbformat_minor": 2
}
