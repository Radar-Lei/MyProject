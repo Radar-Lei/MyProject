{
 "cells": [
  {
   "cell_type": "code",
   "execution_count": null,
   "metadata": {
    "scrolled": true
   },
   "outputs": [],
   "source": [
    "#using Pkg\n",
    "#Pkg.add(\"PyCall\")\n",
    "#PyCall下载下来后但是安装失败用下面的code\n",
    "#Pkg.build(\"PyCall\")"
   ]
  },
  {
   "cell_type": "code",
   "execution_count": 1,
   "metadata": {
    "ExecuteTime": {
     "end_time": "2019-02-14T14:36:12.807000-05:00",
     "start_time": "2019-02-14T19:36:03.729Z"
    }
   },
   "outputs": [],
   "source": [
    "using DelimitedFiles\n",
    "using DynamicalSystems\n",
    "using PyPlot"
   ]
  },
  {
   "cell_type": "code",
   "execution_count": null,
   "metadata": {},
   "outputs": [],
   "source": [
    "pyversion"
   ]
  },
  {
   "cell_type": "code",
   "execution_count": 2,
   "metadata": {
    "ExecuteTime": {
     "end_time": "2019-02-14T14:36:22.253000-05:00",
     "start_time": "2019-02-14T19:36:19.320Z"
    },
    "scrolled": true
   },
   "outputs": [
    {
     "data": {
      "text/plain": [
       "96862×2 Array{Float64,2}:\n",
       " 119.988  31.8491\n",
       " 119.988  31.8491\n",
       " 119.988  31.8489\n",
       " 119.988  31.8489\n",
       " 119.987  31.8489\n",
       " 119.986  31.8492\n",
       " 119.986  31.8491\n",
       " 119.985  31.8483\n",
       " 119.985  31.8477\n",
       " 119.984  31.8472\n",
       " 119.984  31.847 \n",
       " 119.984  31.847 \n",
       " 119.984  31.847 \n",
       "   ⋮             \n",
       " 119.963  31.8001\n",
       " 119.962  31.8003\n",
       " 119.961  31.8006\n",
       " 119.96   31.8009\n",
       " 119.959  31.8013\n",
       " 119.958  31.8018\n",
       " 119.958  31.8022\n",
       " 119.957  31.8027\n",
       " 119.957  31.8031\n",
       " 119.958  31.8038\n",
       " 119.958  31.8043\n",
       " 119.958  31.8045"
      ]
     },
     "execution_count": 2,
     "metadata": {},
     "output_type": "execute_result"
    }
   ],
   "source": [
    "LongLat=float(open(readdlm,\"before_DCE_for_route11_Bus51938440.txt\"))"
   ]
  },
  {
   "cell_type": "code",
   "execution_count": 3,
   "metadata": {
    "ExecuteTime": {
     "end_time": "2019-02-14T14:36:27.912000-05:00",
     "start_time": "2019-02-14T19:36:27.167Z"
    },
    "scrolled": true
   },
   "outputs": [
    {
     "data": {
      "text/plain": [
       "96862-element Array{Float64,1}:\n",
       " 31.849114         \n",
       " 31.849121000000004\n",
       " 31.848926000000002\n",
       " 31.848903000000004\n",
       " 31.848926000000002\n",
       " 31.849248         \n",
       " 31.849065000000003\n",
       " 31.848340000000004\n",
       " 31.847718         \n",
       " 31.847209999999997\n",
       " 31.847033000000003\n",
       " 31.847033000000003\n",
       " 31.847033000000003\n",
       "  ⋮                \n",
       " 31.800099         \n",
       " 31.800345         \n",
       " 31.800556         \n",
       " 31.800867999999998\n",
       " 31.801308000000002\n",
       " 31.801775         \n",
       " 31.802175         \n",
       " 31.802671000000004\n",
       " 31.803085999999997\n",
       " 31.803846000000004\n",
       " 31.804347999999997\n",
       " 31.80449          "
      ]
     },
     "execution_count": 3,
     "metadata": {},
     "output_type": "execute_result"
    }
   ],
   "source": [
    "Long = LongLat[:,1]\n",
    "Lat = LongLat[:,2]"
   ]
  },
  {
   "cell_type": "code",
   "execution_count": 4,
   "metadata": {
    "ExecuteTime": {
     "end_time": "2019-02-14T14:36:32.857000-05:00",
     "start_time": "2019-02-14T19:36:32.849Z"
    },
    "scrolled": true
   },
   "outputs": [
    {
     "data": {
      "text/plain": [
       "96862-element Array{Float64,1}:\n",
       " 119.987885        \n",
       " 119.98781399999999\n",
       " 119.987555        \n",
       " 119.987536        \n",
       " 119.98714         \n",
       " 119.98641299999998\n",
       " 119.98574599999999\n",
       " 119.985229        \n",
       " 119.984545        \n",
       " 119.983796        \n",
       " 119.983544        \n",
       " 119.983544        \n",
       " 119.983544        \n",
       "   ⋮               \n",
       " 119.96281100000002\n",
       " 119.961931        \n",
       " 119.96113600000001\n",
       " 119.96016399999999\n",
       " 119.95915500000001\n",
       " 119.958271        \n",
       " 119.957536        \n",
       " 119.95727         \n",
       " 119.957374        \n",
       " 119.957603        \n",
       " 119.957743        \n",
       " 119.95780500000001"
      ]
     },
     "execution_count": 4,
     "metadata": {},
     "output_type": "execute_result"
    }
   ],
   "source": [
    "Long"
   ]
  },
  {
   "cell_type": "markdown",
   "metadata": {},
   "source": [
    "### parameter estimation"
   ]
  },
  {
   "cell_type": "code",
   "execution_count": 5,
   "metadata": {
    "ExecuteTime": {
     "end_time": "2019-02-14T14:36:53.464000-05:00",
     "start_time": "2019-02-14T19:36:39.960Z"
    }
   },
   "outputs": [
    {
     "data": {
      "text/plain": [
       "49"
      ]
     },
     "execution_count": 5,
     "metadata": {},
     "output_type": "execute_result"
    }
   ],
   "source": [
    "t_long = estimate_delay(Long, \"mi_min\", 0:1:400)"
   ]
  },
  {
   "cell_type": "code",
   "execution_count": 6,
   "metadata": {
    "ExecuteTime": {
     "end_time": "2019-02-14T14:38:46.485000-05:00",
     "start_time": "2019-02-14T19:37:08.500Z"
    }
   },
   "outputs": [
    {
     "data": {
      "text/plain": [
       "50-element Array{Float64,1}:\n",
       " 79283.0\n",
       " 45486.0\n",
       " 17975.0\n",
       "  5897.0\n",
       "  1684.0\n",
       "   566.0\n",
       "   202.0\n",
       "    97.0\n",
       "    73.0\n",
       "    56.0\n",
       "    53.0\n",
       "    48.0\n",
       "    45.0\n",
       "     ⋮  \n",
       "    45.0\n",
       "    46.0\n",
       "    46.0\n",
       "    46.0\n",
       "    46.0\n",
       "    45.0\n",
       "    44.0\n",
       "    44.0\n",
       "    42.0\n",
       "    43.0\n",
       "    44.0\n",
       "    43.0"
      ]
     },
     "execution_count": 6,
     "metadata": {},
     "output_type": "execute_result"
    }
   ],
   "source": [
    "d_long = estimate_dimension(Long, t_long, 1:50, \"fnn\")"
   ]
  },
  {
   "cell_type": "code",
   "execution_count": 43,
   "metadata": {
    "ExecuteTime": {
     "end_time": "2019-02-13T16:23:03.017000-05:00",
     "start_time": "2019-02-13T21:23:03.010Z"
    },
    "collapsed": true
   },
   "outputs": [
    {
     "data": {
      "text/plain": [
       "10-dimensional Dataset{Float64} with 96421 points\n",
       " 119.988  119.975  119.968  119.959  …  119.972  119.969  119.977  119.974\n",
       " 119.988  119.975  119.968  119.959     119.972  119.97   119.977  119.974\n",
       " 119.988  119.975  119.968  119.959     119.972  119.97   119.977  119.974\n",
       " 119.988  119.975  119.967  119.958     119.972  119.97   119.977  119.973\n",
       " 119.987  119.975  119.967  119.958     119.971  119.97   119.977  119.973\n",
       " 119.986  119.975  119.967  119.958  …  119.971  119.97   119.978  119.972\n",
       " 119.986  119.974  119.966  119.958     119.972  119.97   119.978  119.972\n",
       " 119.985  119.974  119.966  119.958     119.972  119.97   119.979  119.972\n",
       " 119.985  119.974  119.966  119.958     119.972  119.971  119.979  119.972\n",
       " 119.984  119.974  119.966  119.958     119.972  119.971  119.98   119.972\n",
       " 119.984  119.974  119.966  119.958  …  119.972  119.972  119.98   119.972\n",
       " 119.984  119.974  119.966  119.958     119.973  119.972  119.98   119.972\n",
       " 119.984  119.974  119.965  119.958     119.973  119.972  119.98   119.972\n",
       "   ⋮                                 ⋱                                    \n",
       " 119.968  119.957  119.962  119.969     119.974  119.967  119.959  119.963\n",
       " 119.967  119.958  119.962  119.969     119.974  119.967  119.959  119.962\n",
       " 119.967  119.958  119.962  119.97   …  119.974  119.966  119.959  119.961\n",
       " 119.967  119.958  119.962  119.97      119.974  119.966  119.959  119.96 \n",
       " 119.967  119.958  119.962  119.971     119.974  119.966  119.959  119.959\n",
       " 119.967  119.958  119.962  119.971     119.974  119.966  119.959  119.958\n",
       " 119.967  119.958  119.962  119.971     119.974  119.966  119.959  119.958\n",
       " 119.967  119.958  119.962  119.971  …  119.974  119.966  119.958  119.957\n",
       " 119.966  119.958  119.962  119.971     119.974  119.966  119.958  119.957\n",
       " 119.965  119.958  119.962  119.971     119.974  119.965  119.958  119.958\n",
       " 119.964  119.958  119.962  119.971     119.974  119.965  119.958  119.958\n",
       " 119.964  119.958  119.963  119.971     119.974  119.964  119.958  119.958\n"
      ]
     },
     "execution_count": 43,
     "metadata": {},
     "output_type": "execute_result"
    }
   ],
   "source": [
    "re_Long = reconstruct(Long,9,t_long)"
   ]
  },
  {
   "cell_type": "code",
   "execution_count": 44,
   "metadata": {
    "ExecuteTime": {
     "end_time": "2019-02-13T16:23:24.247000-05:00",
     "start_time": "2019-02-13T21:23:14.683Z"
    }
   },
   "outputs": [
    {
     "data": {
      "text/plain": [
       "60"
      ]
     },
     "execution_count": 44,
     "metadata": {},
     "output_type": "execute_result"
    }
   ],
   "source": [
    "t_lat = estimate_delay(Lat, \"mi_min\", 0:1:400)"
   ]
  },
  {
   "cell_type": "code",
   "execution_count": 47,
   "metadata": {
    "ExecuteTime": {
     "end_time": "2019-02-13T16:36:26.807000-05:00",
     "start_time": "2019-02-13T21:36:19.946Z"
    }
   },
   "outputs": [
    {
     "data": {
      "text/plain": [
       "20-element Array{Float64,1}:\n",
       " 75432.0\n",
       " 41662.0\n",
       " 15120.0\n",
       "  4056.0\n",
       "  1088.0\n",
       "   317.0\n",
       "   146.0\n",
       "    80.0\n",
       "    67.0\n",
       "    62.0\n",
       "    57.0\n",
       "    52.0\n",
       "    49.0\n",
       "    51.0\n",
       "    52.0\n",
       "    49.0\n",
       "    50.0\n",
       "    52.0\n",
       "    54.0\n",
       "    49.0"
      ]
     },
     "execution_count": 47,
     "metadata": {},
     "output_type": "execute_result"
    }
   ],
   "source": [
    "d_lat = estimate_dimension(Lat, t_lat, 1:20, \"fnn\")"
   ]
  },
  {
   "cell_type": "code",
   "execution_count": 50,
   "metadata": {
    "ExecuteTime": {
     "end_time": "2019-02-13T16:39:24.527000-05:00",
     "start_time": "2019-02-13T21:39:24.458Z"
    },
    "collapsed": true
   },
   "outputs": [
    {
     "data": {
      "text/plain": [
       "11-dimensional Dataset{Float64} with 96262 points\n",
       " 31.8491  31.8323  31.8171  31.8011  …  31.7871  31.7982  31.8053  31.8241\n",
       " 31.8491  31.8323  31.8169  31.8011     31.7871  31.7982  31.8053  31.8241\n",
       " 31.8489  31.8318  31.8169  31.8009     31.7874  31.7982  31.8056  31.8244\n",
       " 31.8489  31.831   31.8164  31.8006     31.788   31.7982  31.8063  31.8246\n",
       " 31.8489  31.8302  31.8158  31.8005     31.7884  31.7983  31.8071  31.8252\n",
       " 31.8492  31.8295  31.8153  31.8004  …  31.7884  31.7987  31.8078  31.8259\n",
       " 31.8491  31.8289  31.8153  31.8004     31.7884  31.7988  31.8081  31.8265\n",
       " 31.8483  31.8283  31.815   31.8003     31.7884  31.7989  31.8081  31.8269\n",
       " 31.8477  31.8279  31.8149  31.8001     31.7884  31.7989  31.8081  31.8269\n",
       " 31.8472  31.8277  31.8148  31.8001     31.7885  31.7989  31.8082  31.8269\n",
       " 31.847   31.8277  31.8143  31.8     …  31.7889  31.799   31.8085  31.8269\n",
       " 31.847   31.8277  31.8137  31.8        31.789   31.799   31.8088  31.8269\n",
       " 31.847   31.8277  31.8132  31.8        31.7892  31.799   31.809   31.8269\n",
       "  ⋮                                  ⋱                              ⋮     \n",
       " 31.7755  31.7862  31.794   31.8        31.8457  31.8254  31.8127  31.8001\n",
       " 31.7755  31.7864  31.7945  31.8        31.8455  31.8254  31.8127  31.8003\n",
       " 31.7755  31.7864  31.7949  31.8001  …  31.8453  31.8253  31.8127  31.8006\n",
       " 31.7755  31.7866  31.7949  31.8004     31.8448  31.8249  31.8127  31.8009\n",
       " 31.7755  31.7866  31.7949  31.8006     31.8441  31.8242  31.8123  31.8013\n",
       " 31.7755  31.7866  31.7949  31.8009     31.8434  31.824   31.8116  31.8018\n",
       " 31.7755  31.7866  31.7949  31.8013     31.8427  31.824   31.8111  31.8022\n",
       " 31.776   31.7867  31.7949  31.8013  …  31.8424  31.824   31.8108  31.8027\n",
       " 31.7768  31.7869  31.7949  31.8014     31.8423  31.824   31.8104  31.8031\n",
       " 31.7775  31.7869  31.7949  31.8014     31.8423  31.824   31.8103  31.8038\n",
       " 31.7776  31.7869  31.7949  31.8014     31.842   31.824   31.8102  31.8043\n",
       " 31.7777  31.787   31.7949  31.8014     31.8419  31.824   31.8098  31.8045\n"
      ]
     },
     "execution_count": 50,
     "metadata": {},
     "output_type": "execute_result"
    }
   ],
   "source": [
    "re_Lat = reconstruct(Lat,10,t_lat)"
   ]
  },
  {
   "cell_type": "markdown",
   "metadata": {},
   "source": [
    "### write reconstructed data to csv file"
   ]
  },
  {
   "cell_type": "code",
   "execution_count": 51,
   "metadata": {
    "ExecuteTime": {
     "end_time": "2019-02-13T16:44:57.747000-05:00",
     "start_time": "2019-02-13T21:44:57.454Z"
    }
   },
   "outputs": [],
   "source": [
    "writedlm( \"reconstructed_Longitude.csv\",  re_Long, ',')"
   ]
  },
  {
   "cell_type": "code",
   "execution_count": 52,
   "metadata": {
    "ExecuteTime": {
     "end_time": "2019-02-13T16:46:53.594000-05:00",
     "start_time": "2019-02-13T21:46:53.305Z"
    }
   },
   "outputs": [],
   "source": [
    "writedlm( \"reconstructed_Lat.csv\",  re_Lat, ',')"
   ]
  },
  {
   "cell_type": "markdown",
   "metadata": {},
   "source": [
    "### One direction DCE\n",
    "not good"
   ]
  },
  {
   "cell_type": "code",
   "execution_count": 56,
   "metadata": {
    "ExecuteTime": {
     "end_time": "2019-02-13T21:14:43.337000-05:00",
     "start_time": "2019-02-14T02:14:43.237Z"
    }
   },
   "outputs": [],
   "source": [
    "LongLat_downstream=float(open(readdlm,\"before_DCE_for_route11_Bus51938440_downstream.txt\"));"
   ]
  },
  {
   "cell_type": "code",
   "execution_count": 57,
   "metadata": {
    "ExecuteTime": {
     "end_time": "2019-02-13T21:15:25.169000-05:00",
     "start_time": "2019-02-14T02:15:25.166Z"
    }
   },
   "outputs": [],
   "source": [
    "Long_downstream = LongLat_downstream[:,1];\n",
    "Lat_downstream = LongLat_downstream[:,2];"
   ]
  },
  {
   "cell_type": "code",
   "execution_count": 58,
   "metadata": {
    "ExecuteTime": {
     "end_time": "2019-02-13T21:16:05.101000-05:00",
     "start_time": "2019-02-14T02:16:01.763Z"
    }
   },
   "outputs": [
    {
     "data": {
      "text/plain": [
       "25"
      ]
     },
     "execution_count": 58,
     "metadata": {},
     "output_type": "execute_result"
    }
   ],
   "source": [
    "t_long_ds = estimate_delay(Long_downstream, \"mi_min\", 0:1:400)"
   ]
  },
  {
   "cell_type": "code",
   "execution_count": 59,
   "metadata": {
    "ExecuteTime": {
     "end_time": "2019-02-13T21:16:48.085000-05:00",
     "start_time": "2019-02-14T02:16:44.034Z"
    }
   },
   "outputs": [
    {
     "data": {
      "text/plain": [
       "20-element Array{Float64,1}:\n",
       " 36389.0\n",
       " 20582.0\n",
       "  9411.0\n",
       "  4071.0\n",
       "  1763.0\n",
       "   811.0\n",
       "   464.0\n",
       "   294.0\n",
       "   213.0\n",
       "   201.0\n",
       "   190.0\n",
       "   179.0\n",
       "   163.0\n",
       "   166.0\n",
       "   169.0\n",
       "   172.0\n",
       "   172.0\n",
       "   181.0\n",
       "   175.0\n",
       "   177.0"
      ]
     },
     "execution_count": 59,
     "metadata": {},
     "output_type": "execute_result"
    }
   ],
   "source": [
    "d_long_ds = estimate_dimension(Long_downstream, t_long_ds, 1:20, \"fnn\")"
   ]
  }
 ],
 "metadata": {
  "kernelspec": {
   "display_name": "Julia 1.1.0",
   "language": "julia",
   "name": "julia-1.1"
  },
  "language_info": {
   "file_extension": ".jl",
   "mimetype": "application/julia",
   "name": "julia",
   "version": "1.1.0"
  },
  "varInspector": {
   "cols": {
    "lenName": 16,
    "lenType": 16,
    "lenVar": 40
   },
   "kernels_config": {
    "python": {
     "delete_cmd_postfix": "",
     "delete_cmd_prefix": "del ",
     "library": "var_list.py",
     "varRefreshCmd": "print(var_dic_list())"
    },
    "r": {
     "delete_cmd_postfix": ") ",
     "delete_cmd_prefix": "rm(",
     "library": "var_list.r",
     "varRefreshCmd": "cat(var_dic_list()) "
    }
   },
   "types_to_exclude": [
    "module",
    "function",
    "builtin_function_or_method",
    "instance",
    "_Feature"
   ],
   "window_display": true
  }
 },
 "nbformat": 4,
 "nbformat_minor": 2
}
