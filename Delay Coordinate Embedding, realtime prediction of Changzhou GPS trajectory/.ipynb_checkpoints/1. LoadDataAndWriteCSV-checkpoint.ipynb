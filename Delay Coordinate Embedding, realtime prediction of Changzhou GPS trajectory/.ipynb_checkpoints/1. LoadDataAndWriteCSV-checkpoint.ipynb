{
 "cells": [
  {
   "cell_type": "code",
   "execution_count": 1,
   "metadata": {
    "ExecuteTime": {
     "end_time": "2019-02-13T01:32:35.496212Z",
     "start_time": "2019-02-13T01:32:31.725594Z"
    }
   },
   "outputs": [],
   "source": [
    "import pandas as pd\n",
    "import numpy as np"
   ]
  },
  {
   "cell_type": "code",
   "execution_count": 7,
   "metadata": {
    "ExecuteTime": {
     "end_time": "2019-02-13T04:12:59.324182Z",
     "start_time": "2019-02-13T04:12:58.169499Z"
    }
   },
   "outputs": [],
   "source": [
    "df = pd.read_csv('Route_11_bus_51938440.txt',encoding='utf-8')"
   ]
  },
  {
   "cell_type": "code",
   "execution_count": 8,
   "metadata": {
    "ExecuteTime": {
     "end_time": "2019-02-13T04:13:01.183203Z",
     "start_time": "2019-02-13T04:13:01.179214Z"
    }
   },
   "outputs": [
    {
     "data": {
      "text/plain": [
       "(142324, 33)"
      ]
     },
     "execution_count": 8,
     "metadata": {},
     "output_type": "execute_result"
    }
   ],
   "source": [
    "df.shape"
   ]
  },
  {
   "cell_type": "code",
   "execution_count": 10,
   "metadata": {
    "ExecuteTime": {
     "end_time": "2019-02-13T04:13:46.346241Z",
     "start_time": "2019-02-13T04:13:31.921458Z"
    }
   },
   "outputs": [],
   "source": [
    "df['ACTDATETIME'] = df['ACTDATETIME'].astype('datetime64[ns]')"
   ]
  },
  {
   "cell_type": "code",
   "execution_count": 11,
   "metadata": {
    "ExecuteTime": {
     "end_time": "2019-02-13T04:29:14.678126Z",
     "start_time": "2019-02-13T04:29:14.659178Z"
    }
   },
   "outputs": [
    {
     "data": {
      "text/html": [
       "<div>\n",
       "<style scoped>\n",
       "    .dataframe tbody tr th:only-of-type {\n",
       "        vertical-align: middle;\n",
       "    }\n",
       "\n",
       "    .dataframe tbody tr th {\n",
       "        vertical-align: top;\n",
       "    }\n",
       "\n",
       "    .dataframe thead th {\n",
       "        text-align: right;\n",
       "    }\n",
       "</style>\n",
       "<table border=\"1\" class=\"dataframe\">\n",
       "  <thead>\n",
       "    <tr style=\"text-align: right;\">\n",
       "      <th></th>\n",
       "      <th>BUSRDID</th>\n",
       "      <th>DATATYPE</th>\n",
       "      <th>ROUTEID</th>\n",
       "      <th>SUBROUTEID</th>\n",
       "      <th>PRODUCTID</th>\n",
       "      <th>STATIONSEQNUM</th>\n",
       "      <th>STATIONNUM</th>\n",
       "      <th>ISARRLFT</th>\n",
       "      <th>ACTDATETIME</th>\n",
       "      <th>RECDATETIME</th>\n",
       "      <th>...</th>\n",
       "      <th>ONPNUM</th>\n",
       "      <th>OFFPNUM</th>\n",
       "      <th>LEFTPNUM</th>\n",
       "      <th>TPTDATA</th>\n",
       "      <th>DOORSTATE</th>\n",
       "      <th>PECCANCYTYPE</th>\n",
       "      <th>PECCANCYTIME</th>\n",
       "      <th>STANDARDVALUE</th>\n",
       "      <th>PECCANCYVALUE</th>\n",
       "      <th>GPSMILE</th>\n",
       "    </tr>\n",
       "  </thead>\n",
       "  <tbody>\n",
       "    <tr>\n",
       "      <th>0</th>\n",
       "      <td>28408848073</td>\n",
       "      <td>3</td>\n",
       "      <td>11</td>\n",
       "      <td>11</td>\n",
       "      <td>51938440</td>\n",
       "      <td>NaN</td>\n",
       "      <td>0</td>\n",
       "      <td>NaN</td>\n",
       "      <td>2017-05-21 06:43:01</td>\n",
       "      <td>5/21/2017 6:45:21 AM</td>\n",
       "      <td>...</td>\n",
       "      <td>NaN</td>\n",
       "      <td>NaN</td>\n",
       "      <td>NaN</td>\n",
       "      <td>NaN</td>\n",
       "      <td>NaN</td>\n",
       "      <td>NaN</td>\n",
       "      <td>1/1/1970 8:00:00 AM</td>\n",
       "      <td>NaN</td>\n",
       "      <td>NaN</td>\n",
       "      <td>31380518</td>\n",
       "    </tr>\n",
       "    <tr>\n",
       "      <th>1</th>\n",
       "      <td>28408848397</td>\n",
       "      <td>3</td>\n",
       "      <td>11</td>\n",
       "      <td>11</td>\n",
       "      <td>51938440</td>\n",
       "      <td>NaN</td>\n",
       "      <td>0</td>\n",
       "      <td>NaN</td>\n",
       "      <td>2017-05-21 06:43:10</td>\n",
       "      <td>5/21/2017 6:45:23 AM</td>\n",
       "      <td>...</td>\n",
       "      <td>NaN</td>\n",
       "      <td>NaN</td>\n",
       "      <td>NaN</td>\n",
       "      <td>NaN</td>\n",
       "      <td>NaN</td>\n",
       "      <td>NaN</td>\n",
       "      <td>1/1/1970 8:00:00 AM</td>\n",
       "      <td>NaN</td>\n",
       "      <td>NaN</td>\n",
       "      <td>31380518</td>\n",
       "    </tr>\n",
       "    <tr>\n",
       "      <th>2</th>\n",
       "      <td>28408848933</td>\n",
       "      <td>3</td>\n",
       "      <td>11</td>\n",
       "      <td>11</td>\n",
       "      <td>51938440</td>\n",
       "      <td>NaN</td>\n",
       "      <td>0</td>\n",
       "      <td>NaN</td>\n",
       "      <td>2017-05-21 06:43:21</td>\n",
       "      <td>5/21/2017 6:45:26 AM</td>\n",
       "      <td>...</td>\n",
       "      <td>NaN</td>\n",
       "      <td>NaN</td>\n",
       "      <td>NaN</td>\n",
       "      <td>NaN</td>\n",
       "      <td>NaN</td>\n",
       "      <td>NaN</td>\n",
       "      <td>1/1/1970 8:00:00 AM</td>\n",
       "      <td>NaN</td>\n",
       "      <td>NaN</td>\n",
       "      <td>31380518</td>\n",
       "    </tr>\n",
       "    <tr>\n",
       "      <th>3</th>\n",
       "      <td>28408849287</td>\n",
       "      <td>3</td>\n",
       "      <td>11</td>\n",
       "      <td>11</td>\n",
       "      <td>51938440</td>\n",
       "      <td>NaN</td>\n",
       "      <td>0</td>\n",
       "      <td>NaN</td>\n",
       "      <td>2017-05-21 06:43:31</td>\n",
       "      <td>5/21/2017 6:45:28 AM</td>\n",
       "      <td>...</td>\n",
       "      <td>NaN</td>\n",
       "      <td>NaN</td>\n",
       "      <td>NaN</td>\n",
       "      <td>NaN</td>\n",
       "      <td>NaN</td>\n",
       "      <td>NaN</td>\n",
       "      <td>1/1/1970 8:00:00 AM</td>\n",
       "      <td>NaN</td>\n",
       "      <td>NaN</td>\n",
       "      <td>31380518</td>\n",
       "    </tr>\n",
       "    <tr>\n",
       "      <th>4</th>\n",
       "      <td>28408849608</td>\n",
       "      <td>3</td>\n",
       "      <td>11</td>\n",
       "      <td>11</td>\n",
       "      <td>51938440</td>\n",
       "      <td>NaN</td>\n",
       "      <td>0</td>\n",
       "      <td>NaN</td>\n",
       "      <td>2017-05-21 06:43:40</td>\n",
       "      <td>5/21/2017 6:45:30 AM</td>\n",
       "      <td>...</td>\n",
       "      <td>NaN</td>\n",
       "      <td>NaN</td>\n",
       "      <td>NaN</td>\n",
       "      <td>NaN</td>\n",
       "      <td>NaN</td>\n",
       "      <td>NaN</td>\n",
       "      <td>1/1/1970 8:00:00 AM</td>\n",
       "      <td>NaN</td>\n",
       "      <td>NaN</td>\n",
       "      <td>31380518</td>\n",
       "    </tr>\n",
       "  </tbody>\n",
       "</table>\n",
       "<p>5 rows × 33 columns</p>\n",
       "</div>"
      ],
      "text/plain": [
       "       BUSRDID  DATATYPE  ROUTEID  SUBROUTEID  PRODUCTID  STATIONSEQNUM  \\\n",
       "0  28408848073         3       11          11   51938440            NaN   \n",
       "1  28408848397         3       11          11   51938440            NaN   \n",
       "2  28408848933         3       11          11   51938440            NaN   \n",
       "3  28408849287         3       11          11   51938440            NaN   \n",
       "4  28408849608         3       11          11   51938440            NaN   \n",
       "\n",
       "   STATIONNUM  ISARRLFT         ACTDATETIME           RECDATETIME    ...     \\\n",
       "0           0       NaN 2017-05-21 06:43:01  5/21/2017 6:45:21 AM    ...      \n",
       "1           0       NaN 2017-05-21 06:43:10  5/21/2017 6:45:23 AM    ...      \n",
       "2           0       NaN 2017-05-21 06:43:21  5/21/2017 6:45:26 AM    ...      \n",
       "3           0       NaN 2017-05-21 06:43:31  5/21/2017 6:45:28 AM    ...      \n",
       "4           0       NaN 2017-05-21 06:43:40  5/21/2017 6:45:30 AM    ...      \n",
       "\n",
       "   ONPNUM  OFFPNUM  LEFTPNUM  TPTDATA  DOORSTATE  PECCANCYTYPE  \\\n",
       "0     NaN      NaN       NaN      NaN        NaN           NaN   \n",
       "1     NaN      NaN       NaN      NaN        NaN           NaN   \n",
       "2     NaN      NaN       NaN      NaN        NaN           NaN   \n",
       "3     NaN      NaN       NaN      NaN        NaN           NaN   \n",
       "4     NaN      NaN       NaN      NaN        NaN           NaN   \n",
       "\n",
       "          PECCANCYTIME  STANDARDVALUE  PECCANCYVALUE   GPSMILE  \n",
       "0  1/1/1970 8:00:00 AM            NaN            NaN  31380518  \n",
       "1  1/1/1970 8:00:00 AM            NaN            NaN  31380518  \n",
       "2  1/1/1970 8:00:00 AM            NaN            NaN  31380518  \n",
       "3  1/1/1970 8:00:00 AM            NaN            NaN  31380518  \n",
       "4  1/1/1970 8:00:00 AM            NaN            NaN  31380518  \n",
       "\n",
       "[5 rows x 33 columns]"
      ]
     },
     "execution_count": 11,
     "metadata": {},
     "output_type": "execute_result"
    }
   ],
   "source": [
    "df.head()"
   ]
  },
  {
   "cell_type": "code",
   "execution_count": 19,
   "metadata": {
    "ExecuteTime": {
     "end_time": "2019-02-13T04:39:53.224697Z",
     "start_time": "2019-02-13T04:39:53.218714Z"
    }
   },
   "outputs": [],
   "source": [
    "LonLat = df.loc[:,['LONGITUDE','LATITUDE']]"
   ]
  },
  {
   "cell_type": "code",
   "execution_count": 20,
   "metadata": {
    "ExecuteTime": {
     "end_time": "2019-02-13T04:39:55.874965Z",
     "start_time": "2019-02-13T04:39:55.275526Z"
    }
   },
   "outputs": [],
   "source": [
    "LonLat.to_csv('before_DCE_for_route11_Bus51938440.csv',index=False)"
   ]
  }
 ],
 "metadata": {
  "kernelspec": {
   "display_name": "Python 3",
   "language": "python",
   "name": "python3"
  },
  "language_info": {
   "codemirror_mode": {
    "name": "ipython",
    "version": 3
   },
   "file_extension": ".py",
   "mimetype": "text/x-python",
   "name": "python",
   "nbconvert_exporter": "python",
   "pygments_lexer": "ipython3",
   "version": "3.7.1"
  },
  "varInspector": {
   "cols": {
    "lenName": 16,
    "lenType": 16,
    "lenVar": 40
   },
   "kernels_config": {
    "python": {
     "delete_cmd_postfix": "",
     "delete_cmd_prefix": "del ",
     "library": "var_list.py",
     "varRefreshCmd": "print(var_dic_list())"
    },
    "r": {
     "delete_cmd_postfix": ") ",
     "delete_cmd_prefix": "rm(",
     "library": "var_list.r",
     "varRefreshCmd": "cat(var_dic_list()) "
    }
   },
   "oldHeight": 122.4,
   "position": {
    "height": "40px",
    "left": "1285px",
    "right": "20px",
    "top": "97px",
    "width": "250px"
   },
   "types_to_exclude": [
    "module",
    "function",
    "builtin_function_or_method",
    "instance",
    "_Feature"
   ],
   "varInspector_section_display": "none",
   "window_display": true
  }
 },
 "nbformat": 4,
 "nbformat_minor": 2
}
