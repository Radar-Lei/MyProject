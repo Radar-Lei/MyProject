{
 "cells": [
  {
   "cell_type": "markdown",
   "metadata": {},
   "source": [
    "The performance is worse than prediction based on all training sample"
   ]
  },
  {
   "cell_type": "code",
   "execution_count": null,
   "metadata": {
    "ExecuteTime": {
     "end_time": "2019-02-14T19:14:27.626152Z",
     "start_time": "2019-02-14T19:14:27.620168Z"
    }
   },
   "outputs": [],
   "source": [
    "import pandas as pd\n",
    "import numpy as np\n",
    "\n",
    "from sklearn.linear_model import BayesianRidge, LinearRegression, ElasticNet  # 批量导入要实现的回归算法\n",
    "from sklearn.svm import LinearSVR  # SVM中的回归算法\n",
    "from sklearn.svm import SVR  # SVM中的回归算法\n",
    "from sklearn.ensemble.gradient_boosting import GradientBoostingRegressor  # 集成算法\n",
    "from sklearn.neighbors import KNeighborsRegressor #  knn\n",
    "from sklearn.neighbors import KDTree # KDTree for finding out nearest neighbors of the reconstructed space\n",
    "from sklearn.model_selection import cross_val_score  # 交叉检验\n",
    "from sklearn.metrics import explained_variance_score, mean_absolute_error, mean_squared_error, r2_score  # 批量导入指标算法\n",
    "from sklearn.model_selection import GridSearchCV \n",
    "import matplotlib.pyplot as plt  # 导入图形展示库\n",
    "from sklearn.preprocessing import StandardScaler #引入标准化模块\n",
    "import seaborn as sns\n",
    "from sklearn.neural_network import MLPRegressor\n",
    "from sklearn.utils.validation import check_array as check_arrays\n",
    "from sklearn.model_selection import train_test_split"
   ]
  },
  {
   "cell_type": "code",
   "execution_count": null,
   "metadata": {
    "ExecuteTime": {
     "end_time": "2019-02-14T18:59:22.793124Z",
     "start_time": "2019-02-14T18:59:21.302326Z"
    }
   },
   "outputs": [],
   "source": [
    "#read reconstructed longitude and latitude\n",
    "re_Long = pd.read_csv('reconstructed_Longitude.csv',encoding='utf-8',header=None)\n",
    "re_Lat = pd.read_csv('reconstructed_Lat.csv',encoding='utf-8',header=None)"
   ]
  },
  {
   "cell_type": "code",
   "execution_count": null,
   "metadata": {
    "ExecuteTime": {
     "end_time": "2019-02-14T18:59:23.519830Z",
     "start_time": "2019-02-14T18:59:23.413073Z"
    }
   },
   "outputs": [],
   "source": [
    "# read original yet noise-filtered table\n",
    "original_table = pd.read_csv('noise_filtered_Route11Bus51938440.csv',encoding='utf-8',header=None)"
   ]
  },
  {
   "cell_type": "code",
   "execution_count": null,
   "metadata": {
    "ExecuteTime": {
     "end_time": "2019-02-14T18:59:23.973823Z",
     "start_time": "2019-02-14T18:59:23.969800Z"
    }
   },
   "outputs": [],
   "source": [
    "min_len = min([len(re_Long),len(re_Lat)])"
   ]
  },
  {
   "cell_type": "markdown",
   "metadata": {},
   "source": [
    "### prepare for the prediction dataset\n",
    "From above, we know the min_len is the length of re_Lat"
   ]
  },
  {
   "cell_type": "code",
   "execution_count": null,
   "metadata": {
    "ExecuteTime": {
     "end_time": "2019-02-14T18:59:25.280211Z",
     "start_time": "2019-02-14T18:59:25.277252Z"
    }
   },
   "outputs": [],
   "source": [
    "# original table should start here, at (len(original_table) - min_len)\n",
    "table_1 = original_table.iloc[(len(original_table) - min_len):,:]"
   ]
  },
  {
   "cell_type": "code",
   "execution_count": null,
   "metadata": {
    "ExecuteTime": {
     "end_time": "2019-02-14T18:59:25.761528Z",
     "start_time": "2019-02-14T18:59:25.758536Z"
    }
   },
   "outputs": [],
   "source": [
    "# slice re_Long in order to get the same length as re_Lat\n",
    "re_Long = re_Long.tail(min_len) # get the last min_len rows of re_Long"
   ]
  },
  {
   "cell_type": "markdown",
   "metadata": {},
   "source": [
    "## K-nearest neighbors with KD tree"
   ]
  },
  {
   "cell_type": "code",
   "execution_count": null,
   "metadata": {
    "ExecuteTime": {
     "end_time": "2019-02-14T19:55:24.950804Z",
     "start_time": "2019-02-14T19:55:24.866462Z"
    },
    "scrolled": true
   },
   "outputs": [],
   "source": [
    "tree = KDTree(test, leaf_size=40)              \n",
    "dist, ind = tree.query(test[20,:].reshape(1,11), k=4000)                \n",
    "print(ind)  # indices of 3 closest neighbors\n",
    "\n",
    "print(dist)  # distances to 3 closest neighbors"
   ]
  },
  {
   "cell_type": "code",
   "execution_count": null,
   "metadata": {
    "ExecuteTime": {
     "end_time": "2019-02-14T20:03:07.756347Z",
     "start_time": "2019-02-14T20:03:07.750366Z"
    }
   },
   "outputs": [],
   "source": [
    "test[ind.reshape([4000,])]"
   ]
  },
  {
   "cell_type": "code",
   "execution_count": null,
   "metadata": {
    "ExecuteTime": {
     "end_time": "2019-02-14T20:03:23.887362Z",
     "start_time": "2019-02-14T20:03:23.882374Z"
    }
   },
   "outputs": [],
   "source": [
    "test[20,:]"
   ]
  },
  {
   "cell_type": "code",
   "execution_count": null,
   "metadata": {
    "ExecuteTime": {
     "end_time": "2019-02-14T20:27:31.978500Z",
     "start_time": "2019-02-14T20:27:31.975507Z"
    }
   },
   "outputs": [],
   "source": [
    "for each_one in X:\n",
    "    ccc = each_one\n",
    "    "
   ]
  },
  {
   "cell_type": "code",
   "execution_count": null,
   "metadata": {
    "ExecuteTime": {
     "end_time": "2019-02-14T20:18:57.151127Z",
     "start_time": "2019-02-14T20:18:57.148105Z"
    }
   },
   "outputs": [],
   "source": [
    "n_train_samples, n_features = test.shape"
   ]
  },
  {
   "cell_type": "markdown",
   "metadata": {},
   "source": [
    "### Chao-based local predict"
   ]
  },
  {
   "cell_type": "code",
   "execution_count": null,
   "metadata": {
    "ExecuteTime": {
     "end_time": "2019-02-14T23:33:24.993807Z",
     "start_time": "2019-02-14T23:33:24.987824Z"
    }
   },
   "outputs": [],
   "source": [
    "# prediction_step function\n",
    "prediction_step = 60\n",
    "X_Lat = np.array(re_Lat.iloc[:,-1].head(min_len-prediction_step))\n",
    "X_Lat = X_Lat.reshape([min_len-prediction_step,1]) \n",
    "y_Lat = np.array(re_Lat.iloc[:,-1].tail(min_len-prediction_step))\n",
    "y_Lat = y_Lat.reshape([min_len-prediction_step,1])"
   ]
  },
  {
   "cell_type": "code",
   "execution_count": null,
   "metadata": {
    "ExecuteTime": {
     "end_time": "2019-02-15T00:30:38.088385Z",
     "start_time": "2019-02-15T00:30:38.078384Z"
    }
   },
   "outputs": [],
   "source": [
    "def local_predictor(X,y,n_folds,k):\n",
    "    \n",
    "    n_train_samples, n_features = X.shape # total number of samples and number of features\n",
    "    \n",
    "    model_knn = KNeighborsRegressor()  # 建立贝叶斯岭回归模型对象\n",
    "    model_lr = LinearRegression()  # 建立普通线性回归模型对象\n",
    "    model_ann = MLPRegressor(solver='lbfgs', alpha=1e-5,hidden_layer_sizes=(5, 2), random_state=1)  # 建立ANN\n",
    "    model_svr = SVR(tol=1e-4)  # 建立支持向量机回归模型对象 rbf kernel \n",
    "    model_gbr = GradientBoostingRegressor(learning_rate=0.06, n_estimators=600, max_depth=5, min_samples_leaf =60, \n",
    "                   min_samples_split =1000, subsample=0.8)  # 建立梯度增强回归模型对象\n",
    "    model_names = ['KNN', 'KF', 'ANN', 'SVM', 'GBRT']  # 不同模型的名称列表\n",
    "    model_dic = [model_knn, model_lr, model_ann, model_svr, model_gbr]  # 不同回归模型对象的集合\n",
    "    \n",
    "    model_metrics_name = [explained_variance_score, mean_absolute_error, mean_squared_error, r2_score]  # 回归评估指标对象集\n",
    "    #cross validation\n",
    "    cv_score_list = []\n",
    "    y_test_list = []\n",
    "    y_pred_list = []\n",
    "    for i in range(n_folds):\n",
    "        X_train, X_test, y_train, y_test = train_test_split(X, y, test_size=0.2, random_state=i)\n",
    "        \n",
    "        y_pred = []\n",
    "        # find k nearest neighbors for each_one in X_train\n",
    "        for each_one in X_test:\n",
    "            tree = KDTree(X_train, leaf_size=40)              \n",
    "            dist, ind = tree.query(each_one.reshape(1,n_features), k) # k is the number of neighbors\n",
    "            \n",
    "            X_neighbor_train = X_train[ind.reshape([k,])]\n",
    "            y_neighbor_train = y_train[ind.reshape([k,])]\n",
    "            \n",
    "            y_pred.append(model_svr.fit(X_neighbor_train, y_neighbor_train).predict(each_one.reshape(1,-1))) \n",
    "            \n",
    "        y_pred = np.array(y_pred)\n",
    "        y_pred = y_pred.reshape([len(y_test),1])\n",
    "        y_diff = abs(y_test-y_pred)\n",
    "        # filter noise where the prediction difference is bigger than 0.1\n",
    "        y_no_noise_loc = np.where(y_diff < 0.1)[0]\n",
    "        y_test_filtered = y_test[y_no_noise_loc]\n",
    "        y_pred_filtered = y_pred[y_no_noise_loc]\n",
    "        \n",
    "        cv_score_list.append(mean_absolute_error(y_test_filtered,y_pred_filtered))\n",
    "        y_test_list.append(y_test_filtered)\n",
    "        y_pred_list.append(y_pred_filtered)\n",
    "        \n",
    "    return cv_score_list, y_test_list, y_pred_list          "
   ]
  },
  {
   "cell_type": "code",
   "execution_count": null,
   "metadata": {
    "ExecuteTime": {
     "end_time": "2019-02-15T01:15:51.530084Z",
     "start_time": "2019-02-15T00:30:45.293191Z"
    }
   },
   "outputs": [],
   "source": [
    "cv_score_list, y_test_list, y_pred_list = local_predictor(X_Lat,y_Lat,3,2000)"
   ]
  },
  {
   "cell_type": "code",
   "execution_count": null,
   "metadata": {},
   "outputs": [],
   "source": []
  }
 ],
 "metadata": {
  "kernelspec": {
   "display_name": "Python 3",
   "language": "python",
   "name": "python3"
  },
  "language_info": {
   "codemirror_mode": {
    "name": "ipython",
    "version": 3
   },
   "file_extension": ".py",
   "mimetype": "text/x-python",
   "name": "python",
   "nbconvert_exporter": "python",
   "pygments_lexer": "ipython3",
   "version": "3.7.1"
  },
  "varInspector": {
   "cols": {
    "lenName": 16,
    "lenType": 16,
    "lenVar": 40
   },
   "kernels_config": {
    "python": {
     "delete_cmd_postfix": "",
     "delete_cmd_prefix": "del ",
     "library": "var_list.py",
     "varRefreshCmd": "print(var_dic_list())"
    },
    "r": {
     "delete_cmd_postfix": ") ",
     "delete_cmd_prefix": "rm(",
     "library": "var_list.r",
     "varRefreshCmd": "cat(var_dic_list()) "
    }
   },
   "oldHeight": 421,
   "position": {
    "height": "443px",
    "left": "1437px",
    "right": "20px",
    "top": "98px",
    "width": "446px"
   },
   "types_to_exclude": [
    "module",
    "function",
    "builtin_function_or_method",
    "instance",
    "_Feature"
   ],
   "varInspector_section_display": "block",
   "window_display": true
  }
 },
 "nbformat": 4,
 "nbformat_minor": 2
}
